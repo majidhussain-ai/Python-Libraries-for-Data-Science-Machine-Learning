{
 "cells": [
  {
   "cell_type": "code",
   "execution_count": 1,
   "id": "9d09a831-dde3-4ad4-857d-565cf481e98f",
   "metadata": {},
   "outputs": [],
   "source": [
    "import numpy as np"
   ]
  },
  {
   "cell_type": "markdown",
   "id": "5c335d6f-1f55-4ef0-ae14-44ed512fb62b",
   "metadata": {},
   "source": [
    "## History of Numpy:\n",
    "#### Banaya Kisne? \n",
    "- Travis Oliphant ne 2005 mein banaya.\n",
    "- Kyun Banaya? Python ki built-in lists slow thi, aur scientific computing aur machine learning ke liye ek efficient tool chahiye tha.\n",
    "- Kya Karta Hai? Ye multi-dimensional arrays aur mathematical operations ko fast banata hai.\n",
    "#### NumPy Kyon Zaroori Hai?\n",
    "- Normal Python lists slow hoti hain, NumPy C language ka use karke calculations fast karta hai.\n",
    "Vectorized operations ki wajah se ek saath multiple calculations efficiently ho sakti hain.\n",
    "- Machine Learning aur Data Science mein ye backbone ka kaam karta hai.\n",
    "#### NumPy Ke Main Features\n",
    "- ndarray (NumPy Array): Ye ek fast aur memory-efficient array hota hai jo normal Python lists se behtar perform karta hai.\n",
    "- Broadcasting: Ek chhoti value ko automatically bada karke operations ko optimize kar sakta hai.\n",
    "- Mathematical Functions: Addition, subtraction, multiplication, logarithms, trigonometry, etc.\n",
    "- Linear Algebra: Matrices ka multiplication, inverse, eigenvalues nikalna, etc.\n",
    "- Random Number Generation: Machine Learning ke liye random numbers generate karna.\n",
    "- Indexing & Slicing: Array ke andar se efficiently values ko filter karna.\n",
    "- Integration with ML Libraries: TensorFlow, Scikit-learn, Pandas, etc. NumPy ke bina kaam nahi karte.\n",
    "#### NumPy Ka Use Kahan Hota Hai?\n",
    "- Machine Learning: Data manipulation, feature engineering, matrix operations.\n",
    "- Data Science: Large datasets handle karna, fast computations.\n",
    "- Computer Vision: Images ko array ki form mein store karna aur process karna.\n",
    "- Finance: Stock market data ka analysis.\n",
    "- Physics & Engineering: Simulations aur numerical computations."
   ]
  },
  {
   "cell_type": "markdown",
   "id": "43baa328-dc62-488a-b930-4546540109db",
   "metadata": {},
   "source": [
    "### What is numpy ?\n",
    "- NumPy ek Python library hai jo numerical computing ke liye banayi gayi hai. Matlab, agar tumhe bade datasets ke saath tez aur efficient calculations karni hoon, toh NumPy kaam aata hai. Matlab, ye normal Python lists se zyada fast aur powerful hai.\r\n",
    "\r\n",
    "At the core of the NumPy package, is the ndarray object. This encapsulates n-dimensional arrays of homogeneous data types"
   ]
  },
  {
   "cell_type": "markdown",
   "id": "85063a7e-3b52-4ee6-9c57-d9666dc82fe6",
   "metadata": {},
   "source": [
    "### Numpy Arrays Vs Python Sequences :\r\n",
    "\r\n",
    "- NumPy arrays have a fixed size at creation, unlike Python lists (which can grow dynamically). Changing the size of an ndarray will create a new array and delete the original.\r\n",
    "\r\n",
    "- The elements in a NumPy array are all required to be of the same data type, and thus will be the same size in memory.\r\n",
    "\r\n",
    "- NumPy arrays facilitate advanced mathematical and other types of operations on large numbers of data. Typically, such operations are executed more efficiently and with less code than is possible using Python’s built-in sequences.\r\n",
    "\r\n",
    "- A growing plethora of scientific and mathematical Python-based packages are using NumPy arrays; though these typically support Python-sequence input, they convert such input to NumPy arrays prior to processing, and they often output NumPy arraysrrays."
   ]
  },
  {
   "cell_type": "markdown",
   "id": "e5757032-b71e-44b3-a855-7fc2577f98ae",
   "metadata": {},
   "source": [
    "## Creating numpy arrays :"
   ]
  },
  {
   "cell_type": "code",
   "execution_count": 1,
   "id": "46826e77-8120-42a8-8030-312498a0a067",
   "metadata": {},
   "outputs": [],
   "source": [
    "import numpy as np\n"
   ]
  },
  {
   "cell_type": "code",
   "execution_count": 12,
   "id": "4e7aa90b-aba2-4e49-bef4-6f125b626b7f",
   "metadata": {},
   "outputs": [
    {
     "name": "stdout",
     "output_type": "stream",
     "text": [
      "<class 'numpy.ndarray'> ['1' '2' '3' '4' '5' 'm' 'majid' '3.3']\n"
     ]
    }
   ],
   "source": [
    "\"\"\"\n",
    "because of numpy is homogenius array so it only store one type of data at a time. If you give three types of data like int, float, string then it would \n",
    "check that what data type is huge then numpy convert it huge data type. Here string is huge data type so numpy convert all the values into string.\n",
    "\"\"\"\n",
    "# it is vector or 1D array :\n",
    "arr = np.array([1,2,3,4,5, 'm', 'majid' , 3.3])\n",
    "print(type(arr), arr)"
   ]
  },
  {
   "cell_type": "code",
   "execution_count": 14,
   "id": "33d69585-6528-4d3b-b592-9e2c8ae65b65",
   "metadata": {},
   "outputs": [
    {
     "name": "stdout",
     "output_type": "stream",
     "text": [
      "[1 2 3 4 5 6 7 8 9]\n"
     ]
    }
   ],
   "source": [
    "# This is one_d array we can also called it vector array but this is homogenius\n",
    "one_d = np.array([1,2,3,4,5,6,7,8,9])\n",
    "print(one_d)"
   ]
  },
  {
   "cell_type": "code",
   "execution_count": 13,
   "id": "72af3aae-f0ca-42ee-b465-1447d2c03d5d",
   "metadata": {},
   "outputs": [
    {
     "name": "stdout",
     "output_type": "stream",
     "text": [
      "[1 2 3 4 5 6 7 8 9]\n"
     ]
    }
   ],
   "source": [
    "# One_d array with arange: instead of writing obove we can also write in this form \n",
    "\n",
    "one_d_arr = np.arange(1,10)\n",
    "print(one_d_arr)"
   ]
  },
  {
   "cell_type": "code",
   "execution_count": 5,
   "id": "01897e21-4578-40e7-b81a-d182645f2a23",
   "metadata": {},
   "outputs": [
    {
     "name": "stdout",
     "output_type": "stream",
     "text": [
      "2D NumPy Array:\n",
      "[[ 1  2  3  4]\n",
      " [ 5  6  7  8]\n",
      " [ 9 10 11 12]]\n"
     ]
    }
   ],
   "source": [
    "# Creating a 2D NumPy array (matrix) with shape (3, 4)  \n",
    "array_2d = np.array([  \n",
    "    [1, 2, 3, 4],  \n",
    "    [5, 6, 7, 8],  \n",
    "    [9, 10, 11, 12]  \n",
    "])  \n",
    "\n",
    "print(\"2D NumPy Array:\")  \n",
    "print(array_2d)"
   ]
  },
  {
   "cell_type": "code",
   "execution_count": 3,
   "id": "c2120bb8-b249-4898-9bf9-4e3d53ebc68c",
   "metadata": {},
   "outputs": [
    {
     "name": "stdout",
     "output_type": "stream",
     "text": [
      "[[ 1  2  3  4]\n",
      " [ 5  6  7  8]\n",
      " [ 9 10 11 12]]\n"
     ]
    }
   ],
   "source": [
    "# I can use above code into like this short form of code:\n",
    "a3 = np.arange(1,13).reshape(3,4)\n",
    "print(a3)"
   ]
  },
  {
   "cell_type": "code",
   "execution_count": 3,
   "id": "735766bc-b491-477c-b76b-e4e2b0c6ff67",
   "metadata": {},
   "outputs": [
    {
     "name": "stdout",
     "output_type": "stream",
     "text": [
      "[['12' '11' '4.3' 'majid']\n",
      " ['22' '43' '5.3' 'amir']]\n"
     ]
    }
   ],
   "source": [
    "# create of 2D array we can call it matrix:  Because it is a homogenius array so it is in same form if we pass 4 value in one array its must passed 2nd array 4 values otherwise face an error\n",
    "two_d = np.array([[12,11,4.3, 'majid'],[22,43, 5.3,'amir']])\n",
    "print(two_d)"
   ]
  },
  {
   "cell_type": "code",
   "execution_count": 4,
   "id": "6b2240cc-5291-4049-b7d6-ab493710d3bd",
   "metadata": {},
   "outputs": [
    {
     "name": "stdout",
     "output_type": "stream",
     "text": [
      "[[[33 32 33]\n",
      "  [32 11 22]]\n",
      "\n",
      " [[87 54 43]\n",
      "  [24 53 23]]]\n"
     ]
    }
   ],
   "source": [
    "# creating of 3D array :\n",
    "three_D = np.array([\n",
    "    [[33,32,33],[32,11,22]]\n",
    "    ,[[87,54,43], [24, 53, 23]]\n",
    "])\n",
    "print(three_D)"
   ]
  },
  {
   "cell_type": "code",
   "execution_count": 10,
   "id": "b0f08f60-9a87-4df1-9ac6-07b3ac5b9c3a",
   "metadata": {},
   "outputs": [
    {
     "data": {
      "text/plain": [
       "array([[[ 1,  2,  3],\n",
       "        [ 4,  5,  6]],\n",
       "\n",
       "       [[ 7,  8,  9],\n",
       "        [10, 11, 12]]])"
      ]
     },
     "execution_count": 10,
     "metadata": {},
     "output_type": "execute_result"
    }
   ],
   "source": [
    "# like above code\n",
    "arr_3d = np.arange(1,13).reshape(2,2,3)\n",
    "arr_3d"
   ]
  },
  {
   "cell_type": "code",
   "execution_count": 14,
   "id": "fc228994-c7f8-44fa-a434-f4428d6e41f2",
   "metadata": {},
   "outputs": [
    {
     "name": "stdout",
     "output_type": "stream",
     "text": [
      "3D NumPy Array:\n",
      "[[[ 1  2  3  4]\n",
      "  [ 5  6  7  8]\n",
      "  [ 9 10 11 12]]\n",
      "\n",
      " [[13 14 15 16]\n",
      "  [17 18 19 20]\n",
      "  [21 22 23 24]]]\n"
     ]
    }
   ],
   "source": [
    "# Creating a 3D NumPy array with shape (2, 3, 4)  \n",
    "array_3d = np.array([  \n",
    "    [[1, 2, 3, 4],  \n",
    "     [5, 6, 7, 8],  \n",
    "     [9, 10, 11, 12]],  \n",
    "\n",
    "    [[13, 14, 15, 16],  \n",
    "     [17, 18, 19, 20],  \n",
    "     [21, 22, 23, 24]]  \n",
    "])  \n",
    "\n",
    "print(\"3D NumPy Array:\")  \n",
    "print(array_3d)"
   ]
  },
  {
   "cell_type": "code",
   "execution_count": 11,
   "id": "da04e310-49dc-4753-b1ca-e63b2b162981",
   "metadata": {},
   "outputs": [
    {
     "data": {
      "text/plain": [
       "array([[[ 1,  2,  3,  4],\n",
       "        [ 5,  6,  7,  8],\n",
       "        [ 9, 10, 11, 12]],\n",
       "\n",
       "       [[13, 14, 15, 16],\n",
       "        [17, 18, 19, 20],\n",
       "        [21, 22, 23, 24]],\n",
       "\n",
       "       [[25, 26, 27, 28],\n",
       "        [29, 30, 31, 32],\n",
       "        [33, 34, 35, 36]]])"
      ]
     },
     "execution_count": 11,
     "metadata": {},
     "output_type": "execute_result"
    }
   ],
   "source": [
    "import numpy as np\n",
    "Three_d = np.arange(1,37).reshape(3,3,4)\n",
    "Three_d"
   ]
  },
  {
   "cell_type": "markdown",
   "id": "632e978e-d9d6-4ed9-b4ad-f7f3d9e5ae73",
   "metadata": {},
   "source": [
    "## Passing value with different data types :"
   ]
  },
  {
   "cell_type": "code",
   "execution_count": 2,
   "id": "7363cd01-a7a8-4237-aa64-0ea59a2f199f",
   "metadata": {},
   "outputs": [
    {
     "name": "stdout",
     "output_type": "stream",
     "text": [
      "[ 3.  2. 45. 22.]\n"
     ]
    }
   ],
   "source": [
    "# We can pass the value with different data types by using of dtype :\n",
    "diff_data = np.array([3,2,45,22], dtype = np.dtype(float))\n",
    "print(diff_data)"
   ]
  },
  {
   "cell_type": "code",
   "execution_count": 3,
   "id": "df9de054-d998-4498-a5f4-67be610523dd",
   "metadata": {},
   "outputs": [
    {
     "name": "stdout",
     "output_type": "stream",
     "text": [
      "[ 3.+0.j  2.+0.j 45.+0.j 22.+0.j]\n"
     ]
    }
   ],
   "source": [
    "# We can pass the value with different data types by using of dtype :\n",
    "diff_data = np.array([3,2,45,22], dtype = np.dtype(complex))\n",
    "print(diff_data)"
   ]
  },
  {
   "cell_type": "code",
   "execution_count": 5,
   "id": "71d656aa-e32a-419f-a5d2-e8e1831194ca",
   "metadata": {},
   "outputs": [
    {
     "name": "stdout",
     "output_type": "stream",
     "text": [
      "[ True  True  True  True]\n"
     ]
    }
   ],
   "source": [
    "# We can pass the value with different data types by using of dtype :\n",
    "diff_data = np.array([3,2,45,22], dtype = np.dtype(bool))\n",
    "print(diff_data)"
   ]
  },
  {
   "cell_type": "markdown",
   "id": "a2988db9-ff38-45f7-843e-bfa2c0c5ebda",
   "metadata": {},
   "source": [
    "## arange function :"
   ]
  },
  {
   "cell_type": "code",
   "execution_count": 6,
   "id": "7b321ad1-fce6-4dc1-9b74-238258b5ef1e",
   "metadata": {},
   "outputs": [
    {
     "name": "stdout",
     "output_type": "stream",
     "text": [
      "[ 1  2  3  4  5  6  7  8  9 10]\n"
     ]
    }
   ],
   "source": [
    "# It is like of range python built in function\n",
    "data = np.arange(1, 11)\n",
    "print(data)"
   ]
  },
  {
   "cell_type": "code",
   "execution_count": 21,
   "id": "d3cbe5a7-3060-4c88-86f5-7e0bccfeccee",
   "metadata": {},
   "outputs": [
    {
     "name": "stdout",
     "output_type": "stream",
     "text": [
      "[1 3 5 7 9]\n"
     ]
    }
   ],
   "source": [
    "# it is also like of range function with separating by 2 mean every second value\n",
    "data = np.arange(1, 11,2)\n",
    "print(data)"
   ]
  },
  {
   "cell_type": "code",
   "execution_count": 16,
   "id": "fcdb7a30-e59a-463a-a4ea-05aba4179b05",
   "metadata": {},
   "outputs": [
    {
     "name": "stdout",
     "output_type": "stream",
     "text": [
      "[[[ 1  2  3]\n",
      "  [ 4  5  6]\n",
      "  [ 7  8  9]\n",
      "  [10 11 12]\n",
      "  [13 14 15]]\n",
      "\n",
      " [[16 17 18]\n",
      "  [19 20 21]\n",
      "  [22 23 24]\n",
      "  [25 26 27]\n",
      "  [28 29 30]]]\n"
     ]
    }
   ],
   "source": [
    "\"\"\" \n",
    "reshape function in np: It means by using of arange function then we reshape the value into dimentional array\n",
    "Ess mein ye hoga keh jitna ap ke pass value hogi oss hisab sy ap ko reshape dena pare ga otherwise itwillgive\n",
    "you an error. like agr hamare pass (1,11) it means we only pass 2,5 or 5,2 otherwise it will say you nothave\n",
    "which value you had pass. arange function and reshape used with another and separatly according to code situation\n",
    "\"\"\"\n",
    "data = np.arange(1,31).reshape(2,5,3)\n",
    "print(data)"
   ]
  },
  {
   "cell_type": "code",
   "execution_count": 26,
   "id": "d719dc6a-f6c0-4e11-9e53-453839efea51",
   "metadata": {},
   "outputs": [
    {
     "name": "stdout",
     "output_type": "stream",
     "text": [
      "[[ 1  2]\n",
      " [ 3  4]\n",
      " [ 5  6]\n",
      " [ 7  8]\n",
      " [ 9 10]]\n"
     ]
    }
   ],
   "source": [
    "data = np.arange(1, 11).reshape(5,2)\n",
    "print(data)"
   ]
  },
  {
   "cell_type": "code",
   "execution_count": 19,
   "id": "44d55711-21e8-49ca-b126-d89ae73c96ba",
   "metadata": {},
   "outputs": [
    {
     "name": "stdout",
     "output_type": "stream",
     "text": [
      "this is ones matrix\n",
      "[[1. 1. 1.]\n",
      " [1. 1. 1.]\n",
      " [1. 1. 1.]]\n",
      "\n",
      "this is zeroes matrix\n",
      "[[0. 0. 0. 0.]\n",
      " [0. 0. 0. 0.]\n",
      " [0. 0. 0. 0.]\n",
      " [0. 0. 0. 0.]]\n",
      "\n",
      "this is one d ones\n",
      " [1. 1. 1. 1. 1.]\n"
     ]
    }
   ],
   "source": [
    "# np.ones and np.zeros we can pass all values in this form : passed by ones or zeros in tuple form it is like reshape function\n",
    "data = np.ones((3,3))\n",
    "print(\"this is ones matrix\")\n",
    "print(data)\n",
    "\n",
    "print()\n",
    "print(\"this is zeroes matrix\")\n",
    "data1 =  np.zeros((4,4))\n",
    "print(data1, sep = '/')\n",
    "\n",
    "print()\n",
    "data2 = np.ones(5)\n",
    "print('this is one d ones\\n',data2)"
   ]
  },
  {
   "cell_type": "code",
   "execution_count": 8,
   "id": "1b5a7a12-923b-4098-8f00-784dca05692d",
   "metadata": {},
   "outputs": [
    {
     "name": "stdout",
     "output_type": "stream",
     "text": [
      "(1, 'a')\n",
      "(2, 'a')\n",
      "(3, 'b')\n",
      "(4, 'a')\n"
     ]
    }
   ],
   "source": [
    "# this could practice by self from datacamp chapter. This is python code with built in module enumerate\n",
    "t = [ 'a', 'a' , 'b' , 'a']\n",
    "e = enumerate(t , start = 1)\n",
    "v = list(e)\n",
    "for s in v:\n",
    "    print(s)"
   ]
  },
  {
   "cell_type": "code",
   "execution_count": 22,
   "id": "28813030-bf61-4e56-a427-e9e5ab2c98d8",
   "metadata": {},
   "outputs": [
    {
     "name": "stdout",
     "output_type": "stream",
     "text": [
      "[[[0.41032738 0.29090193]\n",
      "  [0.3014981  0.79351145]\n",
      "  [0.16617018 0.12975735]\n",
      "  [0.6547898  0.79030295]\n",
      "  [0.56375886 0.8207961 ]]]\n",
      "(1, 5, 2)\n",
      "1\n",
      "[[-1.89042513 -0.76419666 -0.85923744]\n",
      " [-1.14631088  0.77132018  0.84210257]]\n"
     ]
    }
   ],
   "source": [
    "# Generate a 2D array of shape (2, 3) with random values between 0 and 1  \n",
    "\"\"\" \n",
    "by using of random function it means according to your given value it create bydefault random value \n",
    "it has Three usage like. \n",
    "here np.random.rand() first random is class and second rand is a method\n",
    "1. random.rand(2,3) it means it will give you an two rows and three columns and according to given value it wil reslut\n",
    "   in between 0 and 1 .\n",
    "2. random.randint(2,5) it means np.random.randint(2, 5) generates a random integer that can be 2, 3, or 4.\n",
    "   Each call results in a new random integer within this specified range. syntax (low, high) first is includive\n",
    "   and secend is exclusive\n",
    "3. random.randn(2,4) it is like rand which is first create value randomly in which positive and negative both have.\n",
    "\"\"\"\n",
    "random_array = np.random.rand(1,5,2)\n",
    "print(random_array)\n",
    "print(random_array.shape)\n",
    "\n",
    "\n",
    "random_randInt = np.random.randint(0,4)\n",
    "print(random_randInt)\n",
    "\n",
    "random_randn = np.random.randn(2,3)\n",
    "print(random_randn)"
   ]
  },
  {
   "cell_type": "code",
   "execution_count": 6,
   "id": "a0e41e1d-ec00-4753-9fe8-22982c7473bc",
   "metadata": {},
   "outputs": [
    {
     "name": "stdout",
     "output_type": "stream",
     "text": [
      "4\n",
      "[57 84 94 28 71]\n",
      "[[87 89 60]\n",
      " [72 78 63]\n",
      " [90 86 82]]\n"
     ]
    }
   ],
   "source": [
    "# Ek random integer 1 aur 10 ke beech (10 excluded)\n",
    "print(np.random.randint(1, 10))  \n",
    "\n",
    "# 1D array of 5 random integers (1 to 100)\n",
    "print(np.random.randint(1, 100, 5))  \n",
    "\n",
    "# 2D array of shape (3,3) with numbers between 50 and 100\n",
    "print(np.random.randint(50, 100, (3, 3)))  \n"
   ]
  },
  {
   "cell_type": "code",
   "execution_count": 26,
   "id": "723561e9-d369-4617-bfb6-0bcb92601c7f",
   "metadata": {},
   "outputs": [
    {
     "name": "stdout",
     "output_type": "stream",
     "text": [
      "0.42\n",
      "[0.75285138 0.1752867  0.22389892 0.26745204 0.64319985]\n",
      "[[0.079611   0.19677124 0.90539861]\n",
      " [0.89670262 0.19960035 0.05713025]\n",
      " [0.88308535 0.43302008 0.29745577]]\n"
     ]
    }
   ],
   "source": [
    "# Ek random number between 0 and 1\n",
    "print(f\"{np.random.rand():.2f}\")  \n",
    "\n",
    "# 1D array of 5 random numbers\n",
    "print(np.random.rand(5))  \n",
    "\n",
    "# 2D array of shape (3,3)\n",
    "print(np.random.rand(3, 3))  \n"
   ]
  },
  {
   "cell_type": "code",
   "execution_count": 9,
   "id": "03b65b65-8812-4528-9b33-2bfd8a9ae7ad",
   "metadata": {},
   "outputs": [
    {
     "name": "stdout",
     "output_type": "stream",
     "text": [
      "[-3 -2  0  1  3]\n"
     ]
    }
   ],
   "source": [
    "# Generate 5 evenly spaced values between 0 and 1  \n",
    "\"\"\"\n",
    "by using of linspace it means first vlaue is [1]start value , [2] end value , [3] num , number you want to print \n",
    "between them but output value with same difference.\n",
    "Linespace bydefualt in float we can change any data type by using of dtype\n",
    "\"\"\"\n",
    "linspace_array = np.linspace(-3, 3, 5 , dtype = np.dtype(int))   # you can convert it in any dtype you want\n",
    "print(linspace_array)"
   ]
  },
  {
   "cell_type": "code",
   "execution_count": 12,
   "id": "6b5e6801-7c0e-47da-9c98-fb49a051d000",
   "metadata": {},
   "outputs": [
    {
     "name": "stdout",
     "output_type": "stream",
     "text": [
      "[[1. 0. 0.]\n",
      " [0. 1. 0.]\n",
      " [0. 0. 1.]]\n"
     ]
    }
   ],
   "source": [
    "# Create a 4x4 identity matrix  \n",
    "\"\"\"\n",
    "an identity matrix is a square matrix with ones on the main diagonal and zeros elsewhere.\n",
    "\"\"\"\n",
    "identity_matrix = np.identity(3)  \n",
    "print(identity_matrix)"
   ]
  },
  {
   "cell_type": "markdown",
   "id": "b6ffcd88-9959-48c6-a365-0cc2e042b672",
   "metadata": {},
   "source": [
    "## Array attributes :"
   ]
  },
  {
   "cell_type": "code",
   "execution_count": 27,
   "id": "dbdabe83-ad3f-46a4-af90-a090ffbedc40",
   "metadata": {},
   "outputs": [],
   "source": [
    "a1 = np.arange(12)\n",
    "a2 = np.arange(12, dtype = float).reshape(3,4)\n",
    "a3 = np.arange(16).reshape(2,2,2,2)"
   ]
  },
  {
   "cell_type": "code",
   "execution_count": 28,
   "id": "01e2d12a-bc4b-470b-8b96-280f8bf4531e",
   "metadata": {},
   "outputs": [
    {
     "name": "stdout",
     "output_type": "stream",
     "text": [
      "This result of a1\n",
      "[ 0  1  2  3  4  5  6  7  8  9 10 11]\n",
      "\n",
      "This result of a2\n",
      "[[ 0.  1.  2.  3.]\n",
      " [ 4.  5.  6.  7.]\n",
      " [ 8.  9. 10. 11.]]\n",
      "\n",
      "This result of a3\n",
      "[[[[ 0  1]\n",
      "   [ 2  3]]\n",
      "\n",
      "  [[ 4  5]\n",
      "   [ 6  7]]]\n",
      "\n",
      "\n",
      " [[[ 8  9]\n",
      "   [10 11]]\n",
      "\n",
      "  [[12 13]\n",
      "   [14 15]]]]\n"
     ]
    }
   ],
   "source": [
    "print(\"This result of a1\")\n",
    "print(a1)\n",
    "print()\n",
    "print(\"This result of a2\")\n",
    "print(a2)\n",
    "print()\n",
    "print(\"This result of a3\")\n",
    "print(a3)"
   ]
  },
  {
   "cell_type": "code",
   "execution_count": 58,
   "id": "78f424b1-e2a6-4af8-81aa-e2abc165a2c7",
   "metadata": {},
   "outputs": [
    {
     "name": "stdout",
     "output_type": "stream",
     "text": [
      "1\n",
      "2\n",
      "4\n"
     ]
    }
   ],
   "source": [
    "# ndim\n",
    "# It will tell you that how much dimentional array in your code \n",
    "print(a1.ndim)\n",
    "print(a2.ndim)\n",
    "print(a3.ndim)\n"
   ]
  },
  {
   "cell_type": "code",
   "execution_count": 59,
   "id": "abb17609-f289-4aaf-8c80-e9136995c63c",
   "metadata": {},
   "outputs": [
    {
     "name": "stdout",
     "output_type": "stream",
     "text": [
      "(12,)\n",
      "(3, 4)\n",
      "(2, 2, 2, 2)\n"
     ]
    }
   ],
   "source": [
    "# shape : This tell how much number of items in every dimentional \n",
    "print(a1.shape)\n",
    "print(a2.shape)\n",
    "print(a3.shape)"
   ]
  },
  {
   "cell_type": "code",
   "execution_count": 9,
   "id": "47ec334d-eb34-4745-a37c-a7409aba4919",
   "metadata": {},
   "outputs": [
    {
     "name": "stdout",
     "output_type": "stream",
     "text": [
      "12\n",
      "12\n",
      "16\n"
     ]
    }
   ],
   "source": [
    "# size : This will tell us that in your given code how much elements are :\n",
    "print(a1.size)\n",
    "print(a2.size)\n",
    "print(a3.size)\n",
    "\n"
   ]
  },
  {
   "cell_type": "code",
   "execution_count": 61,
   "id": "d03350a2-41f4-4569-b839-26e772656183",
   "metadata": {},
   "outputs": [
    {
     "name": "stdout",
     "output_type": "stream",
     "text": [
      "4\n",
      "8\n",
      "4\n"
     ]
    }
   ],
   "source": [
    "# itemsize : This will tell us that how much memory accupied your code\n",
    "print(a1.itemsize)\n",
    "print(a2.itemsize)\n",
    "print(a3.itemsize)"
   ]
  },
  {
   "cell_type": "code",
   "execution_count": 57,
   "id": "0411a98d-93ee-441e-9064-da571061f1ec",
   "metadata": {},
   "outputs": [
    {
     "name": "stdout",
     "output_type": "stream",
     "text": [
      "int32\n",
      "float64\n",
      "int32\n"
     ]
    }
   ],
   "source": [
    "# dtype : This tell us that which data type you used and how much memory accopied\n",
    "print(a1.dtype)\n",
    "print(a2.dtype)\n",
    "print(a3.dtype)"
   ]
  },
  {
   "cell_type": "markdown",
   "id": "80f71844-9507-461f-9a09-dd9d878bd824",
   "metadata": {},
   "source": [
    "## Indexing and slicing :"
   ]
  },
  {
   "cell_type": "code",
   "execution_count": 8,
   "id": "233cbfa3-4058-484d-b299-5a86173ccfcd",
   "metadata": {},
   "outputs": [],
   "source": [
    "import numpy as np\n",
    "a1 = np.arange(12)\n",
    "a2 = np.arange(12, dtype = float).reshape(3,4)\n",
    "a3 = np.arange(8).reshape(2,2,2)"
   ]
  },
  {
   "cell_type": "code",
   "execution_count": 9,
   "id": "ba0cd1d3-8e89-4577-ba1e-a42387b58f13",
   "metadata": {},
   "outputs": [
    {
     "data": {
      "text/plain": [
       "array([ 0,  1,  2,  3,  4,  5,  6,  7,  8,  9, 10, 11])"
      ]
     },
     "execution_count": 9,
     "metadata": {},
     "output_type": "execute_result"
    }
   ],
   "source": [
    "# indexing and slicing on 1D array\n",
    "a1"
   ]
  },
  {
   "cell_type": "code",
   "execution_count": 10,
   "id": "c0cc76b2-2551-43aa-ad4d-ddaddda9c78c",
   "metadata": {},
   "outputs": [
    {
     "name": "stdout",
     "output_type": "stream",
     "text": [
      "5\n",
      "[0 1 2 3 4]\n",
      "[ 4  5  6  7  8  9 10 11]\n",
      "[11  9  7]\n",
      "[ 6  7  8  9 10]\n"
     ]
    }
   ],
   "source": [
    "print(a1[5])\n",
    "print(a1[ : 5])\n",
    "print(a1[4 : ])\n",
    "print(a1[-1 : -6 : -2])\n",
    "print(a1[-6 : -1 ])\n"
   ]
  },
  {
   "cell_type": "code",
   "execution_count": 11,
   "id": "3e094a71-6d89-417f-a140-29b227576183",
   "metadata": {},
   "outputs": [
    {
     "data": {
      "text/plain": [
       "array([[ 0.,  1.,  2.,  3.],\n",
       "       [ 4.,  5.,  6.,  7.],\n",
       "       [ 8.,  9., 10., 11.]])"
      ]
     },
     "execution_count": 11,
     "metadata": {},
     "output_type": "execute_result"
    }
   ],
   "source": [
    "# indexing and slicing on 2D array :\n",
    "a2"
   ]
  },
  {
   "cell_type": "code",
   "execution_count": 36,
   "id": "d0bcf88b-621a-4504-bb4c-89567a17b07c",
   "metadata": {},
   "outputs": [
    {
     "name": "stdout",
     "output_type": "stream",
     "text": [
      "7.0\n"
     ]
    }
   ],
   "source": [
    "# In matrix and tensor we only access of items by using of rows and columns\n",
    "# ex:\n",
    "print(a2[1,3])"
   ]
  },
  {
   "cell_type": "code",
   "execution_count": 12,
   "id": "85c9722e-38cb-43ca-a8e9-03b9607aa0b2",
   "metadata": {},
   "outputs": [
    {
     "name": "stdout",
     "output_type": "stream",
     "text": [
      "10\n",
      "6\n",
      "6.0\n"
     ]
    }
   ],
   "source": [
    "# [row, column] wise access items\n",
    "data = np.array(a2[2,2] ,dtype = int)\n",
    "data1 = np.array(a2[1,2], dtype = int)\n",
    "print(data)\n",
    "print(data1)\n",
    "print(a2[1,2] )      #This will by default output in float but we can change in integer or boolean like above code"
   ]
  },
  {
   "cell_type": "code",
   "execution_count": 7,
   "id": "9ab3aa80-67d1-43ce-bdb1-4b456cd5965c",
   "metadata": {},
   "outputs": [
    {
     "data": {
      "text/plain": [
       "6.0"
      ]
     },
     "execution_count": 7,
     "metadata": {},
     "output_type": "execute_result"
    }
   ],
   "source": [
    "a2[1,2]"
   ]
  },
  {
   "cell_type": "code",
   "execution_count": 13,
   "id": "f311104c-d6c3-4bdc-ab54-11e65ddf4a2b",
   "metadata": {},
   "outputs": [
    {
     "data": {
      "text/plain": [
       "array([[[0, 1],\n",
       "        [2, 3]],\n",
       "\n",
       "       [[4, 5],\n",
       "        [6, 7]]])"
      ]
     },
     "execution_count": 13,
     "metadata": {},
     "output_type": "execute_result"
    }
   ],
   "source": [
    "# slicing and indexing on 3D array :\n",
    "a3"
   ]
  },
  {
   "cell_type": "code",
   "execution_count": 11,
   "id": "6bd6758e-29f3-44c0-b12c-6d96bb953d22",
   "metadata": {},
   "outputs": [
    {
     "name": "stdout",
     "output_type": "stream",
     "text": [
      "7\n",
      "3\n",
      "5\n"
     ]
    }
   ],
   "source": [
    "print(a3[1, 1,1])\n",
    "print(a3[0, 1,1])\n",
    "print(a3[1, 0 ,1])"
   ]
  },
  {
   "cell_type": "code",
   "execution_count": 33,
   "id": "5d82f640-bf5b-4031-82d3-f824368a5f93",
   "metadata": {},
   "outputs": [
    {
     "name": "stdout",
     "output_type": "stream",
     "text": [
      "5\n"
     ]
    }
   ],
   "source": [
    "print(a3[1,0,1])"
   ]
  },
  {
   "cell_type": "code",
   "execution_count": 25,
   "id": "b27f79dd-6cd2-47a6-92d5-e34f8a45e426",
   "metadata": {},
   "outputs": [
    {
     "data": {
      "text/plain": [
       "array([[ 0.,  1.,  2.,  3.],\n",
       "       [ 4.,  5.,  6.,  7.],\n",
       "       [ 8.,  9., 10., 11.]])"
      ]
     },
     "execution_count": 25,
     "metadata": {},
     "output_type": "execute_result"
    }
   ],
   "source": [
    "# slicing on 2D array \n",
    "a2"
   ]
  },
  {
   "cell_type": "code",
   "execution_count": 41,
   "id": "1fdfe8ff-0937-47b7-9164-6178312aa667",
   "metadata": {},
   "outputs": [
    {
     "name": "stdout",
     "output_type": "stream",
     "text": [
      "[ 3.  7. 11.]\n",
      "[4. 5. 6. 7.]\n",
      "True\n"
     ]
    }
   ],
   "source": [
    "# scling with rows and colums\n",
    "print(a2[:, 3])\n",
    "print(a2[1,:])\n",
    "print(np.array(a2[2,3], dtype = bool))"
   ]
  },
  {
   "cell_type": "markdown",
   "id": "0d8030e2-f404-4444-829f-918554af9c90",
   "metadata": {},
   "source": [
    "## changing datatype :"
   ]
  },
  {
   "cell_type": "code",
   "execution_count": 21,
   "id": "034d919f-d5fb-44c5-a3c2-12def53157de",
   "metadata": {},
   "outputs": [
    {
     "name": "stdout",
     "output_type": "stream",
     "text": [
      "[[[0 1]\n",
      "  [2 3]]\n",
      "\n",
      " [[4 5]\n",
      "  [6 7]]]\n",
      "4\n",
      "8\n",
      "(2, 2, 2)\n"
     ]
    }
   ],
   "source": [
    "\"\"\"\n",
    "It is also used for checking that the data is right memory data type or not so we can change it according to datatype like if my age in float\n",
    "so this would take huge memory and not sense that age in float so i can convert it into integer by using of astype function\n",
    "\n",
    "\"\"\"\n",
    "# I can change any data type by using of astype \n",
    "# suppose if i give age of any person by default it takes 64 bits and other memory is waste because age not take 64 bits so by using of astype i can save many memory\n",
    "a3.astype(np.int32)\n",
    "print(a3)\n",
    "print(a3.itemsize)\n",
    "print(a3.size)\n",
    "print(a3.shape)\n"
   ]
  },
  {
   "cell_type": "markdown",
   "id": "66e5fa2b-b3d2-4674-94f5-5fdde63e4809",
   "metadata": {},
   "source": [
    "## Array Operation :"
   ]
  },
  {
   "cell_type": "code",
   "execution_count": 44,
   "id": "fcdd4c04-a742-446c-baf8-536d03004089",
   "metadata": {},
   "outputs": [
    {
     "data": {
      "text/plain": [
       "array([[ 0,  1,  2,  3],\n",
       "       [ 4,  5,  6,  7],\n",
       "       [ 8,  9, 10, 11]])"
      ]
     },
     "execution_count": 44,
     "metadata": {},
     "output_type": "execute_result"
    }
   ],
   "source": [
    "a1 = np.arange(12).reshape(3,4)\n",
    "a2 = np.arange(12,24).reshape(3,4)\n",
    "a1"
   ]
  },
  {
   "cell_type": "code",
   "execution_count": 43,
   "id": "c9b262e9-8321-4b1c-b457-242fc5954263",
   "metadata": {},
   "outputs": [
    {
     "data": {
      "text/plain": [
       "array([[12, 13, 14, 15],\n",
       "       [16, 17, 18, 19],\n",
       "       [20, 21, 22, 23]])"
      ]
     },
     "execution_count": 43,
     "metadata": {},
     "output_type": "execute_result"
    }
   ],
   "source": [
    "a2"
   ]
  },
  {
   "cell_type": "code",
   "execution_count": 40,
   "id": "d04f342d-6935-431f-8d30-461ba727d97a",
   "metadata": {},
   "outputs": [
    {
     "data": {
      "text/plain": [
       "array([[12, 14, 16, 18],\n",
       "       [20, 22, 24, 26],\n",
       "       [28, 30, 32, 34]])"
      ]
     },
     "execution_count": 40,
     "metadata": {},
     "output_type": "execute_result"
    }
   ],
   "source": [
    "a1 + a2"
   ]
  },
  {
   "cell_type": "code",
   "execution_count": 41,
   "id": "4a1de2cb-dcee-4af1-87a6-37d33acc4f19",
   "metadata": {},
   "outputs": [
    {
     "data": {
      "text/plain": [
       "array([[-12, -12, -12, -12],\n",
       "       [-12, -12, -12, -12],\n",
       "       [-12, -12, -12, -12]])"
      ]
     },
     "execution_count": 41,
     "metadata": {},
     "output_type": "execute_result"
    }
   ],
   "source": [
    "a1 - a2"
   ]
  },
  {
   "cell_type": "code",
   "execution_count": 43,
   "id": "cf75c5d4-2c7d-4831-8220-1772dcafd0e0",
   "metadata": {},
   "outputs": [
    {
     "data": {
      "text/plain": [
       "array([[  0,  13,  28,  45],\n",
       "       [ 64,  85, 108, 133],\n",
       "       [160, 189, 220, 253]])"
      ]
     },
     "execution_count": 43,
     "metadata": {},
     "output_type": "execute_result"
    }
   ],
   "source": [
    "a1 * a2"
   ]
  },
  {
   "cell_type": "code",
   "execution_count": 23,
   "id": "8f7b0bff-2cee-49e6-b129-77677b5a7e6e",
   "metadata": {},
   "outputs": [
    {
     "data": {
      "text/plain": [
       "array([[ 0,  2,  4,  6],\n",
       "       [ 8, 10, 12, 14],\n",
       "       [16, 18, 20, 22]])"
      ]
     },
     "execution_count": 23,
     "metadata": {},
     "output_type": "execute_result"
    }
   ],
   "source": [
    "# scaler operations :\n",
    "# Arithematic operations :\n",
    "a1 *2"
   ]
  },
  {
   "cell_type": "code",
   "execution_count": 24,
   "id": "9feb06eb-f591-4434-bc50-0a587d22d7e8",
   "metadata": {},
   "outputs": [
    {
     "data": {
      "text/plain": [
       "array([[0. , 0.5, 1. , 1.5],\n",
       "       [2. , 2.5, 3. , 3.5],\n",
       "       [4. , 4.5, 5. , 5.5]])"
      ]
     },
     "execution_count": 24,
     "metadata": {},
     "output_type": "execute_result"
    }
   ],
   "source": [
    "a1/2"
   ]
  },
  {
   "cell_type": "code",
   "execution_count": 25,
   "id": "c6f340ee-a024-49e5-bab6-e9a73d17e6c5",
   "metadata": {},
   "outputs": [
    {
     "data": {
      "text/plain": [
       "array([[-2, -1,  0,  1],\n",
       "       [ 2,  3,  4,  5],\n",
       "       [ 6,  7,  8,  9]])"
      ]
     },
     "execution_count": 25,
     "metadata": {},
     "output_type": "execute_result"
    }
   ],
   "source": [
    "a1-2\n"
   ]
  },
  {
   "cell_type": "code",
   "execution_count": 26,
   "id": "6b630455-914a-4ad5-8e18-6a72a02dbf65",
   "metadata": {},
   "outputs": [
    {
     "data": {
      "text/plain": [
       "array([[ 4,  5,  6,  7],\n",
       "       [ 8,  9, 10, 11],\n",
       "       [12, 13, 14, 15]])"
      ]
     },
     "execution_count": 26,
     "metadata": {},
     "output_type": "execute_result"
    }
   ],
   "source": [
    "a1+4"
   ]
  },
  {
   "cell_type": "code",
   "execution_count": 27,
   "id": "58ed269a-535c-4c14-a81f-d974251dc34f",
   "metadata": {},
   "outputs": [
    {
     "data": {
      "text/plain": [
       "array([[   0,    1,    8,   27],\n",
       "       [  64,  125,  216,  343],\n",
       "       [ 512,  729, 1000, 1331]], dtype=int32)"
      ]
     },
     "execution_count": 27,
     "metadata": {},
     "output_type": "execute_result"
    }
   ],
   "source": [
    "a1**3"
   ]
  },
  {
   "cell_type": "markdown",
   "id": "162787a5-2b3d-42ea-83f1-7611a0936e06",
   "metadata": {},
   "source": [
    "## Relational Operations :"
   ]
  },
  {
   "cell_type": "code",
   "execution_count": 9,
   "id": "595606b0-daeb-402e-9209-8e50036241e3",
   "metadata": {},
   "outputs": [
    {
     "data": {
      "text/plain": [
       "array([[12, 13, 14, 15],\n",
       "       [16, 17, 18, 19],\n",
       "       [20, 21, 22, 23]])"
      ]
     },
     "execution_count": 9,
     "metadata": {},
     "output_type": "execute_result"
    }
   ],
   "source": [
    "a2"
   ]
  },
  {
   "cell_type": "code",
   "execution_count": 32,
   "id": "1865ea6c-aa90-4a5d-9c5c-3e2039fd27bb",
   "metadata": {},
   "outputs": [
    {
     "data": {
      "text/plain": [
       "array([[False, False, False, False],\n",
       "       [False, False,  True,  True],\n",
       "       [ True,  True,  True,  True]])"
      ]
     },
     "execution_count": 32,
     "metadata": {},
     "output_type": "execute_result"
    }
   ],
   "source": [
    "# All of these relational operations answer would be in boolean form\n",
    "\n",
    "a2 > 17"
   ]
  },
  {
   "cell_type": "code",
   "execution_count": 31,
   "id": "c7385072-d505-47ce-b34a-acfab31c8da1",
   "metadata": {},
   "outputs": [
    {
     "data": {
      "text/plain": [
       "array([[ True,  True,  True,  True],\n",
       "       [ True,  True,  True,  True],\n",
       "       [ True, False, False, False]])"
      ]
     },
     "execution_count": 31,
     "metadata": {},
     "output_type": "execute_result"
    }
   ],
   "source": [
    "a2 < 21"
   ]
  },
  {
   "cell_type": "code",
   "execution_count": 34,
   "id": "7e4e887f-3fb8-4031-b1ec-03f11de4fa10",
   "metadata": {},
   "outputs": [
    {
     "data": {
      "text/plain": [
       "array([ 0.,  1.,  2.,  3.,  4.,  5.,  6.,  7.,  8.,  9., 10., 11.])"
      ]
     },
     "execution_count": 34,
     "metadata": {},
     "output_type": "execute_result"
    }
   ],
   "source": [
    "a2[a2 <= 22]"
   ]
  },
  {
   "cell_type": "code",
   "execution_count": 34,
   "id": "34d69659-413a-4a02-b4c6-f7c4685c7539",
   "metadata": {},
   "outputs": [
    {
     "data": {
      "text/plain": [
       "array([[ True, False, False, False],\n",
       "       [False, False, False, False],\n",
       "       [False, False, False, False]])"
      ]
     },
     "execution_count": 34,
     "metadata": {},
     "output_type": "execute_result"
    }
   ],
   "source": [
    "a2 <= 12"
   ]
  },
  {
   "cell_type": "code",
   "execution_count": 51,
   "id": "2fdc954c-06d5-4128-9f4a-8c9022da9b56",
   "metadata": {},
   "outputs": [
    {
     "data": {
      "text/plain": [
       "1"
      ]
     },
     "execution_count": 51,
     "metadata": {},
     "output_type": "execute_result"
    }
   ],
   "source": [
    "a2[a2 == 18].size"
   ]
  },
  {
   "cell_type": "code",
   "execution_count": 18,
   "id": "566b5cfb-1bbc-4aea-b044-ed0303db8c24",
   "metadata": {},
   "outputs": [
    {
     "data": {
      "text/plain": [
       "11"
      ]
     },
     "execution_count": 18,
     "metadata": {},
     "output_type": "execute_result"
    }
   ],
   "source": [
    "a2[a2 != 16].size"
   ]
  },
  {
   "cell_type": "markdown",
   "id": "89eb7555-3d35-467e-92a5-10fab4c8c0b0",
   "metadata": {},
   "source": [
    "## Array Functions :"
   ]
  },
  {
   "cell_type": "code",
   "execution_count": 21,
   "id": "5648b039-3600-4d49-b177-c19e05dcbe31",
   "metadata": {},
   "outputs": [
    {
     "data": {
      "text/plain": [
       "array([[89., 94., 62.],\n",
       "       [59., 34., 24.],\n",
       "       [40., 42., 63.]])"
      ]
     },
     "execution_count": 21,
     "metadata": {},
     "output_type": "execute_result"
    }
   ],
   "source": [
    "# Here outage np.round it means it will convert into nearest values not float like 23.2323\n",
    "a1 = np.round(np.random.random((3,3))*100)\n",
    "a1 = np.round(a1)                  # this will give an float like 12. just not like 12.3434343\n",
    "a1"
   ]
  },
  {
   "cell_type": "code",
   "execution_count": 55,
   "id": "f322780a-3eaa-4de1-887c-490839ae62ae",
   "metadata": {},
   "outputs": [
    {
     "data": {
      "text/plain": [
       "14.0"
      ]
     },
     "execution_count": 55,
     "metadata": {},
     "output_type": "execute_result"
    }
   ],
   "source": [
    "# min/max/sum/prod:\n",
    "\n",
    "# It will tell us the minimum number from the given data\n",
    "np.min(a1)"
   ]
  },
  {
   "cell_type": "code",
   "execution_count": 19,
   "id": "ac55a130-611c-4c95-a655-557a0a027991",
   "metadata": {},
   "outputs": [
    {
     "data": {
      "text/plain": [
       "array([[0.88256168, 0.22108886],\n",
       "       [0.65334053, 0.34980495],\n",
       "       [0.04174803, 0.40946851]])"
      ]
     },
     "execution_count": 19,
     "metadata": {},
     "output_type": "execute_result"
    }
   ],
   "source": [
    "# Answer between 0,1 like random.rand\n",
    "np.random.random((3,2))"
   ]
  },
  {
   "cell_type": "code",
   "execution_count": 56,
   "id": "ea648d4e-7960-423a-88c5-9e4685cc4d6d",
   "metadata": {},
   "outputs": [
    {
     "data": {
      "text/plain": [
       "95.0"
      ]
     },
     "execution_count": 56,
     "metadata": {},
     "output_type": "execute_result"
    }
   ],
   "source": [
    "# It will tell us the maximum number from the given data\n",
    "np.max(a1)"
   ]
  },
  {
   "cell_type": "code",
   "execution_count": 22,
   "id": "7fced648-8b2f-4d38-8210-185221c759a6",
   "metadata": {},
   "outputs": [
    {
     "data": {
      "text/plain": [
       "array([188., 170., 149.])"
      ]
     },
     "execution_count": 22,
     "metadata": {},
     "output_type": "execute_result"
    }
   ],
   "source": [
    "# Here is on column wise sum of all colum you can also sum of rows by using axis = 1\n",
    "\n",
    "np.sum(a1, axis = 0)"
   ]
  },
  {
   "cell_type": "code",
   "execution_count": 23,
   "id": "0fbc7544-a12f-49e4-a279-815e870e77f1",
   "metadata": {},
   "outputs": [
    {
     "data": {
      "text/plain": [
       "array([62., 24., 40.])"
      ]
     },
     "execution_count": 23,
     "metadata": {},
     "output_type": "execute_result"
    }
   ],
   "source": [
    "\"\"\"\n",
    "But if i want to print row by row minimum and maximum then i can do this \n",
    "  0 ---> col, 1 ---->row for axis\n",
    " it will give us on every row minimum number \n",
    "\"\"\"\n",
    "\n",
    "np.min(a1, axis = 1)"
   ]
  },
  {
   "cell_type": "code",
   "execution_count": 24,
   "id": "14f1e7af-08bc-448a-976c-9fb309a507c1",
   "metadata": {},
   "outputs": [
    {
     "data": {
      "text/plain": [
       "array([89., 94., 63.])"
      ]
     },
     "execution_count": 24,
     "metadata": {},
     "output_type": "execute_result"
    }
   ],
   "source": [
    "# like above maximum on column\n",
    "np.max(a1 , axis= 0)"
   ]
  },
  {
   "cell_type": "markdown",
   "id": "0aad9a7c-22e8-4d51-ba96-9f750285c25a",
   "metadata": {},
   "source": [
    "## mean/ median/ standard deviation/ variance :"
   ]
  },
  {
   "cell_type": "code",
   "execution_count": 64,
   "id": "1e33bc1e-7dc0-4aef-a5c2-acc85f8e30ad",
   "metadata": {},
   "outputs": [
    {
     "data": {
      "text/plain": [
       "array([[22., 56., 15.],\n",
       "       [ 8., 65., 90.],\n",
       "       [89., 38., 28.]])"
      ]
     },
     "execution_count": 64,
     "metadata": {},
     "output_type": "execute_result"
    }
   ],
   "source": [
    "a1"
   ]
  },
  {
   "cell_type": "code",
   "execution_count": 63,
   "id": "95290be6-36f3-471c-9264-fe99857300d9",
   "metadata": {},
   "outputs": [
    {
     "data": {
      "text/plain": [
       "array([31.        , 54.33333333, 51.66666667])"
      ]
     },
     "execution_count": 63,
     "metadata": {},
     "output_type": "execute_result"
    }
   ],
   "source": [
    "# Here are also find row wize and column wise these operations\n",
    "\n",
    "np.mean(a1, axis = 1)"
   ]
  },
  {
   "cell_type": "code",
   "execution_count": 60,
   "id": "c183be86-9494-46e4-b6e7-ab16f3a43aa1",
   "metadata": {},
   "outputs": [
    {
     "data": {
      "text/plain": [
       "38.0"
      ]
     },
     "execution_count": 60,
     "metadata": {},
     "output_type": "execute_result"
    }
   ],
   "source": [
    "np.median(a1)"
   ]
  },
  {
   "cell_type": "code",
   "execution_count": 61,
   "id": "601b5ab1-894b-4c25-ac63-278c99405fec",
   "metadata": {},
   "outputs": [
    {
     "data": {
      "text/plain": [
       "29.086079144497972"
      ]
     },
     "execution_count": 61,
     "metadata": {},
     "output_type": "execute_result"
    }
   ],
   "source": [
    "np.std(a1)"
   ]
  },
  {
   "cell_type": "code",
   "execution_count": 62,
   "id": "f57e520d-2627-463f-a9ce-ea64e0e6919a",
   "metadata": {},
   "outputs": [
    {
     "data": {
      "text/plain": [
       "846.0"
      ]
     },
     "execution_count": 62,
     "metadata": {},
     "output_type": "execute_result"
    }
   ],
   "source": [
    "np.var(a1)"
   ]
  },
  {
   "cell_type": "markdown",
   "id": "246227c5-c296-416f-9bbf-b9e0e3cd2e14",
   "metadata": {},
   "source": [
    "## Dot Product :"
   ]
  },
  {
   "cell_type": "code",
   "execution_count": 13,
   "id": "b7bcf504-b846-4d74-8822-ef6d1330a6fc",
   "metadata": {},
   "outputs": [
    {
     "name": "stdout",
     "output_type": "stream",
     "text": [
      "[[ 0  1  2  3]\n",
      " [ 4  5  6  7]\n",
      " [ 8  9 10 11]]\n",
      "\n",
      " This is different(4*3)\n",
      " [[12 13 14]\n",
      " [15 16 17]\n",
      " [18 19 20]\n",
      " [21 22 23]]\n"
     ]
    }
   ],
   "source": [
    "a2 = np.arange(12).reshape(3,4)\n",
    "a3 = np.arange(12, 24).reshape(4,3)\n",
    "print(a2)\n",
    "print(\"\\n This is different(4*3)\\n\",a3)\n"
   ]
  },
  {
   "cell_type": "code",
   "execution_count": 69,
   "id": "63333697-19a3-47ac-b2b8-5308817db726",
   "metadata": {},
   "outputs": [
    {
     "data": {
      "text/plain": [
       "array([[114, 120, 126],\n",
       "       [378, 400, 422],\n",
       "       [642, 680, 718]])"
      ]
     },
     "execution_count": 69,
     "metadata": {},
     "output_type": "execute_result"
    }
   ],
   "source": [
    "# This will automatically generate and  give an answer . Multiply by rows to column. Mean first matrix rows and second matrix column\n",
    "np.dot(a2,a3)"
   ]
  },
  {
   "cell_type": "code",
   "execution_count": 27,
   "id": "7db568dc-5dbf-4ec3-a94e-cbc0f4e3fd99",
   "metadata": {},
   "outputs": [
    {
     "name": "stdout",
     "output_type": "stream",
     "text": [
      "[[0 1]\n",
      " [2 3]]\n",
      "\n",
      " [[4 5]\n",
      " [6 7]]\n"
     ]
    },
    {
     "data": {
      "text/plain": [
       "array([[ 6,  7],\n",
       "       [26, 31]])"
      ]
     },
     "execution_count": 27,
     "metadata": {},
     "output_type": "execute_result"
    }
   ],
   "source": [
    "m_2 = np.arange(4).reshape(2,2)\n",
    "m_3 = np.arange(4,8).reshape(2,2)\n",
    "print(m_2)\n",
    "print(\"\\n\", m_3)\n",
    "prod = np.dot(m_2, m_3)\n",
    "prod"
   ]
  },
  {
   "cell_type": "markdown",
   "id": "7856dcf1-4cf2-42ff-8828-034adae3315c",
   "metadata": {},
   "source": [
    "## logarithm and exponential functions :"
   ]
  },
  {
   "cell_type": "code",
   "execution_count": 73,
   "id": "5ee5f213-1b23-4afd-8519-37fa27a970b5",
   "metadata": {},
   "outputs": [
    {
     "data": {
      "text/plain": [
       "array([[22., 56., 15.],\n",
       "       [ 8., 65., 90.],\n",
       "       [89., 38., 28.]])"
      ]
     },
     "execution_count": 73,
     "metadata": {},
     "output_type": "execute_result"
    }
   ],
   "source": [
    "a1"
   ]
  },
  {
   "cell_type": "code",
   "execution_count": 70,
   "id": "d25e549c-1350-4dee-9002-0fc831831d11",
   "metadata": {},
   "outputs": [
    {
     "data": {
      "text/plain": [
       "array([[3.09104245, 4.02535169, 2.7080502 ],\n",
       "       [2.07944154, 4.17438727, 4.49980967],\n",
       "       [4.48863637, 3.63758616, 3.33220451]])"
      ]
     },
     "execution_count": 70,
     "metadata": {},
     "output_type": "execute_result"
    }
   ],
   "source": [
    "np.log(a1)"
   ]
  },
  {
   "cell_type": "code",
   "execution_count": 72,
   "id": "d8d9c85d-65a1-4072-ae99-d4b09d97b24b",
   "metadata": {},
   "outputs": [
    {
     "data": {
      "text/plain": [
       "array([[3.58491285e+09, 2.09165950e+24, 3.26901737e+06],\n",
       "       [2.98095799e+03, 1.69488924e+28, 1.22040329e+39],\n",
       "       [4.48961282e+38, 3.18559318e+16, 1.44625706e+12]])"
      ]
     },
     "execution_count": 72,
     "metadata": {},
     "output_type": "execute_result"
    }
   ],
   "source": [
    "np.exp(a1)"
   ]
  },
  {
   "cell_type": "markdown",
   "id": "e45ee561-15f5-433e-a5f3-2fb4f8867a51",
   "metadata": {},
   "source": [
    "## round/ ceil/ floor :"
   ]
  },
  {
   "cell_type": "code",
   "execution_count": 5,
   "id": "dcff8730-f91d-4ce3-b249-8f21386a69a9",
   "metadata": {},
   "outputs": [
    {
     "name": "stdout",
     "output_type": "stream",
     "text": [
      "[[97. 16. 67.]\n",
      " [14. 78. 19.]]\n"
     ]
    }
   ],
   "source": [
    "# round function give the value nearest to that value not float dot above values:\n",
    "a4 = np.round(np.random.rand(2,3)*100)\n",
    "print(a4)"
   ]
  },
  {
   "cell_type": "code",
   "execution_count": 85,
   "id": "13b480fc-29c5-4d5c-9949-1e7bed7bd9ea",
   "metadata": {},
   "outputs": [
    {
     "name": "stdout",
     "output_type": "stream",
     "text": [
      "[[ 9. 17. 29. 15. 25.]\n",
      " [21. 40. 27.  7. 31.]]\n"
     ]
    }
   ],
   "source": [
    "# ceil function give above to that value if i have 3.5 it will give 4.\n",
    "a4 = np.ceil(np.random.rand(2,5)*40)\n",
    "print(a4)"
   ]
  },
  {
   "cell_type": "code",
   "execution_count": 34,
   "id": "ec0a1d0a-3382-4908-b224-1dc9155a46d9",
   "metadata": {},
   "outputs": [
    {
     "name": "stdout",
     "output_type": "stream",
     "text": [
      "[[19. 13. 19. 33. 34.]\n",
      " [37. 41. 19. 23. 41.]\n",
      " [21. 41. 19.  9. 10.]]\n"
     ]
    }
   ],
   "source": [
    "# floor function give less value to original value like if i have 2.5 it will give 2. \n",
    "a4= np.floor(np.random.rand(3,5)*50)\n",
    "print(a4)"
   ]
  },
  {
   "cell_type": "markdown",
   "id": "3a7326af-ad5b-4913-bc56-bbfa7edbb9f0",
   "metadata": {},
   "source": [
    "## slicing by fetching of fancy indexing\n",
    "\n"
   ]
  },
  {
   "cell_type": "code",
   "execution_count": 35,
   "id": "35563c8d-d819-4e43-bbdc-cfa805b7ee85",
   "metadata": {},
   "outputs": [
    {
     "data": {
      "text/plain": [
       "array([[19., 13., 19., 33., 34.],\n",
       "       [37., 41., 19., 23., 41.],\n",
       "       [21., 41., 19.,  9., 10.]])"
      ]
     },
     "execution_count": 35,
     "metadata": {},
     "output_type": "execute_result"
    }
   ],
   "source": [
    "a4"
   ]
  },
  {
   "cell_type": "code",
   "execution_count": 36,
   "id": "006ccebf-f978-476e-9e34-66856343da80",
   "metadata": {},
   "outputs": [
    {
     "name": "stdout",
     "output_type": "stream",
     "text": [
      "41\n"
     ]
    }
   ],
   "source": [
    "# by fetching just one value between them\n",
    "print(np.array(a4[1,-1] , dtype = np.dtype(int)))"
   ]
  },
  {
   "cell_type": "code",
   "execution_count": 37,
   "id": "6e4cf557-2d34-4522-a352-81b18848180a",
   "metadata": {},
   "outputs": [
    {
     "name": "stdout",
     "output_type": "stream",
     "text": [
      "True\n"
     ]
    }
   ],
   "source": [
    "print(np.array(a4[-1, -3], dtype = bool))"
   ]
  },
  {
   "cell_type": "code",
   "execution_count": 38,
   "id": "065d7a8b-7b38-49a9-a94f-29a3591f4db6",
   "metadata": {},
   "outputs": [
    {
     "name": "stdout",
     "output_type": "stream",
     "text": [
      "[[13. 33.]\n",
      " [41.  9.]]\n"
     ]
    }
   ],
   "source": [
    "print(a4[::2, 1::2])"
   ]
  },
  {
   "cell_type": "code",
   "execution_count": 7,
   "id": "9c281222-b499-4595-80d0-8b5ff19b6882",
   "metadata": {},
   "outputs": [
    {
     "data": {
      "text/plain": [
       "array([[31., 27.],\n",
       "       [ 3.,  7.]])"
      ]
     },
     "execution_count": 7,
     "metadata": {},
     "output_type": "execute_result"
    }
   ],
   "source": [
    "# Here is first row filtered and second column filtered\n",
    "# and here last 2 like ::2 it means first starting to end but space of 2 and last 2::2 it means start column from 2 up work but space of 2 \n",
    "a4[::2, 2::2]"
   ]
  },
  {
   "cell_type": "code",
   "execution_count": 39,
   "id": "dd6cc146-45e1-4202-979a-009c116e6117",
   "metadata": {},
   "outputs": [
    {
     "data": {
      "text/plain": [
       "array([23., 41.])"
      ]
     },
     "execution_count": 39,
     "metadata": {},
     "output_type": "execute_result"
    }
   ],
   "source": [
    "# first row with slicing and second column with slicing\n",
    "# Here fetch value just from 1 row which is second\n",
    "a4[1, 3:]"
   ]
  },
  {
   "cell_type": "code",
   "execution_count": 40,
   "id": "4bf1908c-de95-45df-955c-e6c116b575b8",
   "metadata": {},
   "outputs": [
    {
     "data": {
      "text/plain": [
       "array([[13., 19., 33.],\n",
       "       [41., 19., 23.]])"
      ]
     },
     "execution_count": 40,
     "metadata": {},
     "output_type": "execute_result"
    }
   ],
   "source": [
    "# Fetching value from center.\n",
    "a4[:2, 1:4]"
   ]
  },
  {
   "cell_type": "code",
   "execution_count": 41,
   "id": "4ab75ace-bf44-4ef9-8a3a-1256b95633ab",
   "metadata": {},
   "outputs": [
    {
     "data": {
      "text/plain": [
       "array([[19., 23., 41.],\n",
       "       [19.,  9., 10.]])"
      ]
     },
     "execution_count": 41,
     "metadata": {},
     "output_type": "execute_result"
    }
   ],
   "source": [
    "# Here is first row by slicing and second column with slicing\n",
    "a4[1:, 2:5]"
   ]
  },
  {
   "cell_type": "code",
   "execution_count": 13,
   "id": "63a99a3f-332d-428e-887b-2323c8cf4b04",
   "metadata": {},
   "outputs": [
    {
     "data": {
      "text/plain": [
       "array([[ 0., 29.],\n",
       "       [ 9., 14.]])"
      ]
     },
     "execution_count": 13,
     "metadata": {},
     "output_type": "execute_result"
    }
   ],
   "source": [
    "a4[0:2, 0:2 ]"
   ]
  },
  {
   "cell_type": "code",
   "execution_count": 14,
   "id": "8f45cb49-5885-481e-b368-7c4722937370",
   "metadata": {},
   "outputs": [
    {
     "data": {
      "text/plain": [
       "array([[ 0., 18.],\n",
       "       [29.,  2.]])"
      ]
     },
     "execution_count": 14,
     "metadata": {},
     "output_type": "execute_result"
    }
   ],
   "source": [
    "# this is also known as fancy indexing\n",
    "\n",
    "a4[::2, ::4]"
   ]
  },
  {
   "cell_type": "markdown",
   "id": "c6ad1e85-bc79-41bd-9260-c708e4efb061",
   "metadata": {},
   "source": [
    "## slicing with 3D array :"
   ]
  },
  {
   "cell_type": "code",
   "execution_count": 22,
   "id": "99331cc8-0d17-4726-ba7a-98428370c318",
   "metadata": {},
   "outputs": [
    {
     "data": {
      "text/plain": [
       "array([[[ 6, 14, 19],\n",
       "        [ 7, 10, 20],\n",
       "        [ 6, 18, 25]],\n",
       "\n",
       "       [[10, 10, 22],\n",
       "        [ 3, 20, 23],\n",
       "        [ 2,  7, 23]],\n",
       "\n",
       "       [[ 1, 20, 21],\n",
       "        [ 5, 11, 23],\n",
       "        [ 0,  1, 20]]])"
      ]
     },
     "execution_count": 22,
     "metadata": {},
     "output_type": "execute_result"
    }
   ],
   "source": [
    "np.random.seed(42)\n",
    "a1 = np.random.randint(0,27, (3,3,3))\n",
    "a1.sort()\n",
    "a1"
   ]
  },
  {
   "cell_type": "code",
   "execution_count": 17,
   "id": "cfd63e5c-01d7-4230-807f-1103c3829631",
   "metadata": {},
   "outputs": [
    {
     "name": "stdout",
     "output_type": "stream",
     "text": [
      "[[[ 0  1  2]\n",
      "  [ 3  4  5]\n",
      "  [ 6  7  8]]\n",
      "\n",
      " [[ 9 10 11]\n",
      "  [12 13 14]\n",
      "  [15 16 17]]\n",
      "\n",
      " [[18 19 20]\n",
      "  [21 22 23]\n",
      "  [24 25 26]]]\n"
     ]
    }
   ],
   "source": [
    "a3 = np.arange(27).reshape(3,3,3)\n",
    "print(a3)"
   ]
  },
  {
   "cell_type": "code",
   "execution_count": 118,
   "id": "5e7a4ae7-bcaa-4e0e-a531-71cb3220a941",
   "metadata": {},
   "outputs": [
    {
     "data": {
      "text/plain": [
       "array([[ 0,  2],\n",
       "       [18, 20]])"
      ]
     },
     "execution_count": 118,
     "metadata": {},
     "output_type": "execute_result"
    }
   ],
   "source": [
    "\n",
    "a3[::2, 0, ::2]"
   ]
  },
  {
   "cell_type": "code",
   "execution_count": 107,
   "id": "6696a41c-b9fe-4b7a-b75e-d73fdf730531",
   "metadata": {},
   "outputs": [
    {
     "data": {
      "text/plain": [
       "array([[ 9, 10, 11],\n",
       "       [12, 13, 14],\n",
       "       [15, 16, 17]])"
      ]
     },
     "execution_count": 107,
     "metadata": {},
     "output_type": "execute_result"
    }
   ],
   "source": [
    "# by fetching of second value :\n",
    "a3[1]"
   ]
  },
  {
   "cell_type": "code",
   "execution_count": 112,
   "id": "2d708166-d344-4a37-95e3-ec9e2de52f6a",
   "metadata": {},
   "outputs": [
    {
     "data": {
      "text/plain": [
       "array([[22, 23],\n",
       "       [25, 26]])"
      ]
     },
     "execution_count": 112,
     "metadata": {},
     "output_type": "execute_result"
    }
   ],
   "source": [
    "a3[2, 1:, 1:]"
   ]
  },
  {
   "cell_type": "code",
   "execution_count": 108,
   "id": "41db527b-5294-42d1-991a-b03945c87bea",
   "metadata": {},
   "outputs": [
    {
     "data": {
      "text/plain": [
       "array([[18, 19, 20],\n",
       "       [21, 22, 23],\n",
       "       [24, 25, 26]])"
      ]
     },
     "execution_count": 108,
     "metadata": {},
     "output_type": "execute_result"
    }
   ],
   "source": [
    "# by fetching of 3rd value\n",
    "a3[2]"
   ]
  },
  {
   "cell_type": "code",
   "execution_count": 110,
   "id": "02ce8430-5145-4999-b8e1-e3deff0d52f5",
   "metadata": {},
   "outputs": [
    {
     "data": {
      "text/plain": [
       "array([3, 4, 5])"
      ]
     },
     "execution_count": 110,
     "metadata": {},
     "output_type": "execute_result"
    }
   ],
   "source": [
    "# by getting of 1st 2d array second row\n",
    "a3[0,1,:]"
   ]
  },
  {
   "cell_type": "code",
   "execution_count": 111,
   "id": "ee003c36-a8a8-4665-a961-86cacbafea30",
   "metadata": {},
   "outputs": [
    {
     "data": {
      "text/plain": [
       "array([[10],\n",
       "       [13],\n",
       "       [16]])"
      ]
     },
     "execution_count": 111,
     "metadata": {},
     "output_type": "execute_result"
    }
   ],
   "source": [
    "a3[1, :, 1:2]"
   ]
  },
  {
   "cell_type": "markdown",
   "id": "5ae46c08-7a2d-4c0a-a854-d91977ec2206",
   "metadata": {},
   "source": [
    "## Iterating "
   ]
  },
  {
   "cell_type": "code",
   "execution_count": 42,
   "id": "2f74620e-55d0-446e-bdd1-4ccf2354f4dd",
   "metadata": {},
   "outputs": [
    {
     "data": {
      "text/plain": [
       "array([ 0,  1,  2,  3,  4,  5,  6,  7,  8,  9, 10, 11])"
      ]
     },
     "execution_count": 42,
     "metadata": {},
     "output_type": "execute_result"
    }
   ],
   "source": [
    "\"\"\"\n",
    "In this numpy library loop has three types\n",
    "1. for i in a2:\n",
    "2. for i in np.nditer(a2)\n",
    "3. for i in a2:\n",
    "        for row in i:\n",
    "\n",
    "this is the three method apply on 2-D array and upto \n",
    "\"\"\"\n",
    "a1 = np.arange(12)\n",
    "a2 = np.arange(12).reshape(3,4)\n",
    "a3 = np.arange(12).reshape(2,2,3)\n",
    "a1"
   ]
  },
  {
   "cell_type": "code",
   "execution_count": 43,
   "id": "a6952867-ee1b-468a-9518-28ca3b4e8dd7",
   "metadata": {},
   "outputs": [
    {
     "data": {
      "text/plain": [
       "array([[ 0,  1,  2,  3],\n",
       "       [ 4,  5,  6,  7],\n",
       "       [ 8,  9, 10, 11]])"
      ]
     },
     "execution_count": 43,
     "metadata": {},
     "output_type": "execute_result"
    }
   ],
   "source": [
    "a2"
   ]
  },
  {
   "cell_type": "code",
   "execution_count": 44,
   "id": "22fd2a79-9c68-45e0-98cd-6cb839f9dc3b",
   "metadata": {},
   "outputs": [
    {
     "data": {
      "text/plain": [
       "array([[[ 0,  1,  2],\n",
       "        [ 3,  4,  5]],\n",
       "\n",
       "       [[ 6,  7,  8],\n",
       "        [ 9, 10, 11]]])"
      ]
     },
     "execution_count": 44,
     "metadata": {},
     "output_type": "execute_result"
    }
   ],
   "source": [
    "a3"
   ]
  },
  {
   "cell_type": "code",
   "execution_count": 131,
   "id": "72bb9825-c698-47ef-9559-552584e4a3d7",
   "metadata": {},
   "outputs": [
    {
     "name": "stdout",
     "output_type": "stream",
     "text": [
      "0\n",
      "1\n",
      "2\n",
      "3\n",
      "4\n",
      "5\n",
      "6\n",
      "7\n",
      "8\n",
      "9\n",
      "10\n",
      "11\n"
     ]
    }
   ],
   "source": [
    "for i in a1:\n",
    "    print(i)"
   ]
  },
  {
   "cell_type": "code",
   "execution_count": 45,
   "id": "9484e115-e6cd-4939-afcf-94fe1847cb4c",
   "metadata": {},
   "outputs": [
    {
     "name": "stdout",
     "output_type": "stream",
     "text": [
      "[0 1 2 3]\n",
      "[4 5 6 7]\n",
      "[ 8  9 10 11]\n"
     ]
    }
   ],
   "source": [
    "for i in a2:\n",
    "    print(i)"
   ]
  },
  {
   "cell_type": "code",
   "execution_count": 133,
   "id": "89658187-0493-400b-80dc-1fe17ecb56b6",
   "metadata": {},
   "outputs": [
    {
     "name": "stdout",
     "output_type": "stream",
     "text": [
      "0\n",
      "1\n",
      "2\n",
      "3\n",
      "4\n",
      "5\n",
      "6\n",
      "7\n",
      "8\n",
      "9\n",
      "10\n",
      "11\n"
     ]
    }
   ],
   "source": [
    "# It is also used for looping individual on matrix \n",
    "for i in np.nditer(a2):\n",
    "    print(i)"
   ]
  },
  {
   "cell_type": "code",
   "execution_count": 134,
   "id": "e58b45ca-d94e-4843-8c55-cbf5d3b25d6c",
   "metadata": {},
   "outputs": [
    {
     "name": "stdout",
     "output_type": "stream",
     "text": [
      "0\n",
      "1\n",
      "2\n",
      "3\n",
      "4\n",
      "5\n",
      "6\n",
      "7\n",
      "8\n",
      "9\n",
      "10\n",
      "11\n"
     ]
    }
   ],
   "source": [
    "# this method is also used for looping individual on matrix\n",
    "for i in a2:\n",
    "    for row in i:\n",
    "        print(row)"
   ]
  },
  {
   "cell_type": "code",
   "execution_count": 139,
   "id": "42527b31-a9b8-4e5c-ae5a-6baccb2c500f",
   "metadata": {},
   "outputs": [
    {
     "data": {
      "text/plain": [
       "array([[[ 0,  1,  2],\n",
       "        [ 3,  4,  5]],\n",
       "\n",
       "       [[ 6,  7,  8],\n",
       "        [ 9, 10, 11]]])"
      ]
     },
     "execution_count": 139,
     "metadata": {},
     "output_type": "execute_result"
    }
   ],
   "source": [
    "a3"
   ]
  },
  {
   "cell_type": "code",
   "execution_count": 140,
   "id": "714b939c-93cc-4568-8c49-e75b7d5b2981",
   "metadata": {},
   "outputs": [
    {
     "name": "stdout",
     "output_type": "stream",
     "text": [
      "0\n",
      "1\n",
      "2\n",
      "3\n",
      "4\n",
      "5\n",
      "6\n",
      "7\n",
      "8\n",
      "9\n",
      "10\n",
      "11\n"
     ]
    }
   ],
   "source": [
    "# this method apply on 3_D array \n",
    "for i in a3:\n",
    "    for row in i:\n",
    "        for element in row:\n",
    "            print(element)"
   ]
  },
  {
   "cell_type": "code",
   "execution_count": 141,
   "id": "5110a48e-388e-48bc-8ad9-a0b01c88ba1a",
   "metadata": {},
   "outputs": [
    {
     "name": "stdout",
     "output_type": "stream",
     "text": [
      "0\n",
      "1\n",
      "2\n",
      "3\n",
      "4\n",
      "5\n",
      "6\n",
      "7\n",
      "8\n",
      "9\n",
      "10\n",
      "11\n"
     ]
    }
   ],
   "source": [
    "# this nditer is also apply on 3-D array but this is efficient and clean understandable code\n",
    "for i in np.nditer(a3):\n",
    "    print(i)"
   ]
  },
  {
   "cell_type": "markdown",
   "id": "b21f17cf-18fb-404f-950d-511096271a47",
   "metadata": {
    "jp-MarkdownHeadingCollapsed": true
   },
   "source": [
    "### Reshaping :"
   ]
  },
  {
   "cell_type": "code",
   "execution_count": 142,
   "id": "8b0c852e-847e-4bbb-9d5f-1564eaa8c4c9",
   "metadata": {},
   "outputs": [
    {
     "data": {
      "text/plain": [
       "array([[ 0,  1,  2,  3],\n",
       "       [ 4,  5,  6,  7],\n",
       "       [ 8,  9, 10, 11]])"
      ]
     },
     "execution_count": 142,
     "metadata": {},
     "output_type": "execute_result"
    }
   ],
   "source": [
    "\"\"\"\n",
    "Transpose : This is used to transpose rows to columns and columns to rows \n",
    "It means it change rows to column and columns to rows.\n",
    "It has two methods \n",
    "\"\"\"\n",
    "a2"
   ]
  },
  {
   "cell_type": "code",
   "execution_count": 143,
   "id": "96228faa-d6d3-4c73-a06a-471d02c779f0",
   "metadata": {},
   "outputs": [
    {
     "data": {
      "text/plain": [
       "array([[ 0,  4,  8],\n",
       "       [ 1,  5,  9],\n",
       "       [ 2,  6, 10],\n",
       "       [ 3,  7, 11]])"
      ]
     },
     "execution_count": 143,
     "metadata": {},
     "output_type": "execute_result"
    }
   ],
   "source": [
    "# 1st method of transpose:\n",
    "np.transpose(a2)"
   ]
  },
  {
   "cell_type": "code",
   "execution_count": 144,
   "id": "9bdf2169-2f50-44a1-adc5-d5239879cb01",
   "metadata": {},
   "outputs": [
    {
     "data": {
      "text/plain": [
       "array([[ 0,  4,  8],\n",
       "       [ 1,  5,  9],\n",
       "       [ 2,  6, 10],\n",
       "       [ 3,  7, 11]])"
      ]
     },
     "execution_count": 144,
     "metadata": {},
     "output_type": "execute_result"
    }
   ],
   "source": [
    "# 2nd method of transpose:\n",
    "a2.T"
   ]
  },
  {
   "cell_type": "code",
   "execution_count": 145,
   "id": "2e4f4b8d-37dc-4be8-acb4-12c36a0ccd2d",
   "metadata": {},
   "outputs": [
    {
     "data": {
      "text/plain": [
       "array([ 0,  1,  2,  3,  4,  5,  6,  7,  8,  9, 10, 11])"
      ]
     },
     "execution_count": 145,
     "metadata": {},
     "output_type": "execute_result"
    }
   ],
   "source": [
    "\"\"\"\n",
    "Ravel: This is also used for converting of 2d and 3D and upto so on dinmentional array into one_D array answer in one row not like nditer in colums ans\n",
    "\"\"\"\n",
    "a2.ravel()"
   ]
  },
  {
   "cell_type": "code",
   "execution_count": 146,
   "id": "6a2bfd0b-d403-46b5-90b0-30994d4d93b3",
   "metadata": {},
   "outputs": [
    {
     "data": {
      "text/plain": [
       "array([ 0,  1,  2,  3,  4,  5,  6,  7,  8,  9, 10, 11])"
      ]
     },
     "execution_count": 146,
     "metadata": {},
     "output_type": "execute_result"
    }
   ],
   "source": [
    "# This is second method but main purpose to convert all dimentional array into one-D \n",
    "np.ravel(a3)"
   ]
  },
  {
   "cell_type": "markdown",
   "id": "c703688f-b557-48e6-9b8b-145ed35729fe",
   "metadata": {},
   "source": [
    "## Stacking :\n",
    "- Horizental\n",
    "- Vertical "
   ]
  },
  {
   "cell_type": "code",
   "execution_count": 15,
   "id": "73633aa3-ed2e-4cbe-9882-98c80093bdb5",
   "metadata": {},
   "outputs": [
    {
     "data": {
      "text/plain": [
       "array([[ 0,  1,  2],\n",
       "       [ 3,  4,  5],\n",
       "       [ 6,  7,  8],\n",
       "       [ 9, 10, 11]])"
      ]
     },
     "execution_count": 15,
     "metadata": {},
     "output_type": "execute_result"
    }
   ],
   "source": [
    "# Horizontal has two methods to stacking values \n",
    "a5 = np.arange(12).reshape(4,3)\n",
    "a6 = np.arange(12, 24).reshape(4,3)\n",
    "a5"
   ]
  },
  {
   "cell_type": "code",
   "execution_count": 29,
   "id": "3f49e7c7-6651-4e8c-afb5-8d87a8aca3f5",
   "metadata": {},
   "outputs": [
    {
     "data": {
      "text/plain": [
       "array([[12, 13, 14],\n",
       "       [15, 16, 17],\n",
       "       [18, 19, 20],\n",
       "       [21, 22, 23]])"
      ]
     },
     "execution_count": 29,
     "metadata": {},
     "output_type": "execute_result"
    }
   ],
   "source": [
    "a6"
   ]
  },
  {
   "cell_type": "code",
   "execution_count": 16,
   "id": "2eaa9e65-8649-4cb4-ac0e-11c776c1ea0a",
   "metadata": {},
   "outputs": [
    {
     "data": {
      "text/plain": [
       "array([[ 0,  1,  2, 12, 13, 14, 12, 13, 14,  0,  1,  2],\n",
       "       [ 3,  4,  5, 15, 16, 17, 15, 16, 17,  3,  4,  5],\n",
       "       [ 6,  7,  8, 18, 19, 20, 18, 19, 20,  6,  7,  8],\n",
       "       [ 9, 10, 11, 21, 22, 23, 21, 22, 23,  9, 10, 11]])"
      ]
     },
     "execution_count": 16,
     "metadata": {},
     "output_type": "execute_result"
    }
   ],
   "source": [
    "# it is using to stacking or adding values into rows wize: it is used when we collect data from different platform or many other resources\n",
    "\n",
    "np.hstack((a5, a6, a6 , a5))"
   ]
  },
  {
   "cell_type": "code",
   "execution_count": 20,
   "id": "10ba88fe-5c2b-4e0e-bc23-7e938b512fd1",
   "metadata": {},
   "outputs": [
    {
     "data": {
      "text/plain": [
       "array([[ 0,  1,  2, 12, 13, 14],\n",
       "       [ 3,  4,  5, 15, 16, 17],\n",
       "       [ 6,  7,  8, 18, 19, 20],\n",
       "       [ 9, 10, 11, 21, 22, 23]])"
      ]
     },
     "execution_count": 20,
     "metadata": {},
     "output_type": "execute_result"
    }
   ],
   "source": [
    "np.hstack((a5,a6))"
   ]
  },
  {
   "cell_type": "markdown",
   "id": "48f9b311-7de6-4b17-90f0-6c73b4582307",
   "metadata": {},
   "source": [
    "## Vertical Stacking :"
   ]
  },
  {
   "cell_type": "code",
   "execution_count": 38,
   "id": "ac61c6f6-64c5-46ad-bab1-80a81e881adb",
   "metadata": {},
   "outputs": [
    {
     "data": {
      "text/plain": [
       "array([[ 0,  1,  2],\n",
       "       [ 3,  4,  5],\n",
       "       [ 6,  7,  8],\n",
       "       [ 9, 10, 11],\n",
       "       [12, 13, 14],\n",
       "       [15, 16, 17],\n",
       "       [18, 19, 20],\n",
       "       [21, 22, 23],\n",
       "       [ 0,  1,  2],\n",
       "       [ 3,  4,  5],\n",
       "       [ 6,  7,  8],\n",
       "       [ 9, 10, 11],\n",
       "       [12, 13, 14],\n",
       "       [15, 16, 17],\n",
       "       [18, 19, 20],\n",
       "       [21, 22, 23]])"
      ]
     },
     "execution_count": 38,
     "metadata": {},
     "output_type": "execute_result"
    }
   ],
   "source": [
    "# vstack method is using to stacking or adding values into coulmns wise : it is used when we collect same type data into different places\n",
    "np.vstack((a5, a6, a5, a6))"
   ]
  },
  {
   "cell_type": "markdown",
   "id": "cb5119fb-77d6-4121-9cab-0e197769fd1c",
   "metadata": {},
   "source": [
    "## Spliting :\n",
    "- horizental\n",
    "- vertical"
   ]
  },
  {
   "cell_type": "code",
   "execution_count": 41,
   "id": "86b47e92-7fd1-42ce-90f6-c779f94e5f0c",
   "metadata": {},
   "outputs": [
    {
     "data": {
      "text/plain": [
       "array([[17., 31., 32., 13., 35.],\n",
       "       [16., 31., 13., 16.,  5.],\n",
       "       [25., 11., 42., 27., 13.]])"
      ]
     },
     "execution_count": 41,
     "metadata": {},
     "output_type": "execute_result"
    }
   ],
   "source": [
    "a4\n"
   ]
  },
  {
   "cell_type": "code",
   "execution_count": 40,
   "id": "48a7f0cf-45e3-4fd2-974b-6e1bdcbe51e5",
   "metadata": {},
   "outputs": [
    {
     "data": {
      "text/plain": [
       "array([[ 0,  1,  2],\n",
       "       [ 3,  4,  5],\n",
       "       [ 6,  7,  8],\n",
       "       [ 9, 10, 11]])"
      ]
     },
     "execution_count": 40,
     "metadata": {},
     "output_type": "execute_result"
    }
   ],
   "source": [
    "a5"
   ]
  },
  {
   "cell_type": "code",
   "execution_count": 43,
   "id": "aa56c47f-9f0d-4240-9a6b-550a8d248875",
   "metadata": {},
   "outputs": [
    {
     "data": {
      "text/plain": [
       "[array([[17., 31., 32., 13., 35.]]),\n",
       " array([[16., 31., 13., 16.,  5.]]),\n",
       " array([[25., 11., 42., 27., 13.]])]"
      ]
     },
     "execution_count": 43,
     "metadata": {},
     "output_type": "execute_result"
    }
   ],
   "source": [
    "# We just split any data into equal parts \n",
    "np.vsplit(a4, 3)"
   ]
  },
  {
   "cell_type": "code",
   "execution_count": 168,
   "id": "f21d125a-a3cc-43a2-b645-e2fa80212f83",
   "metadata": {},
   "outputs": [
    {
     "data": {
      "text/plain": [
       "[array([[ 3.],\n",
       "        [24.],\n",
       "        [35.]]),\n",
       " array([[43.],\n",
       "        [44.],\n",
       "        [25.]]),\n",
       " array([[46.],\n",
       "        [48.],\n",
       "        [17.]]),\n",
       " array([[ 8.],\n",
       "        [47.],\n",
       "        [10.]]),\n",
       " array([[ 7.],\n",
       "        [25.],\n",
       "        [ 3.]])]"
      ]
     },
     "execution_count": 168,
     "metadata": {},
     "output_type": "execute_result"
    }
   ],
   "source": [
    "np.hsplit(a4, 5)"
   ]
  },
  {
   "cell_type": "code",
   "execution_count": 3,
   "id": "7dfddda3-9d83-4d8c-b854-39f1de210e16",
   "metadata": {},
   "outputs": [
    {
     "data": {
      "text/plain": [
       "array([[ 0.30471708, -1.03998411,  0.7504512 ],\n",
       "       [ 0.94056472, -1.95103519, -1.30217951],\n",
       "       [ 0.1278404 , -0.31624259, -0.01680116]])"
      ]
     },
     "execution_count": 3,
     "metadata": {},
     "output_type": "execute_result"
    }
   ],
   "source": [
    "rng = np.random.default_rng(42)   # modern Generator\n",
    "x = rng.normal(size=(3, 3))\n",
    "x"
   ]
  },
  {
   "cell_type": "code",
   "execution_count": 14,
   "id": "6cdac29c-dca8-4476-84e9-c0c9003c6cb8",
   "metadata": {},
   "outputs": [
    {
     "name": "stdout",
     "output_type": "stream",
     "text": [
      "2025-08-29 22:52:45.202875\n"
     ]
    }
   ],
   "source": [
    "import datetime \n",
    "today = datetime.datetime.today()\n",
    "print(today)"
   ]
  },
  {
   "cell_type": "code",
   "execution_count": null,
   "id": "6e9eb9c9-1d09-404d-a707-14c990962ea4",
   "metadata": {},
   "outputs": [],
   "source": []
  }
 ],
 "metadata": {
  "kernelspec": {
   "display_name": "Python 3 (ipykernel)",
   "language": "python",
   "name": "python3"
  },
  "language_info": {
   "codemirror_mode": {
    "name": "ipython",
    "version": 3
   },
   "file_extension": ".py",
   "mimetype": "text/x-python",
   "name": "python",
   "nbconvert_exporter": "python",
   "pygments_lexer": "ipython3",
   "version": "3.12.4"
  }
 },
 "nbformat": 4,
 "nbformat_minor": 5
}
