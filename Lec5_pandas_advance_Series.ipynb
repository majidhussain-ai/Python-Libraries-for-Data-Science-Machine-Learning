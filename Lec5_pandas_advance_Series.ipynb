{
 "cells": [
  {
   "cell_type": "code",
   "execution_count": 2,
   "id": "9388d45d-0a0d-46ef-8e5b-3551cfa5eebf",
   "metadata": {},
   "outputs": [],
   "source": [
    "import numpy as np\n",
    "import pandas as pd"
   ]
  },
  {
   "cell_type": "markdown",
   "id": "5b3d0d1b-75c2-4b13-9924-a030b6113f1b",
   "metadata": {},
   "source": [
    "### Some important Series method :"
   ]
  },
  {
   "cell_type": "code",
   "execution_count": 3,
   "id": "f3aa5e84-3e62-41c8-ba6b-8fe52a80dd49",
   "metadata": {},
   "outputs": [
    {
     "data": {
      "text/html": [
       "<div>\n",
       "<style scoped>\n",
       "    .dataframe tbody tr th:only-of-type {\n",
       "        vertical-align: middle;\n",
       "    }\n",
       "\n",
       "    .dataframe tbody tr th {\n",
       "        vertical-align: top;\n",
       "    }\n",
       "\n",
       "    .dataframe thead th {\n",
       "        text-align: right;\n",
       "    }\n",
       "</style>\n",
       "<table border=\"1\" class=\"dataframe\">\n",
       "  <thead>\n",
       "    <tr style=\"text-align: right;\">\n",
       "      <th></th>\n",
       "      <th>lead</th>\n",
       "    </tr>\n",
       "    <tr>\n",
       "      <th>movie</th>\n",
       "      <th></th>\n",
       "    </tr>\n",
       "  </thead>\n",
       "  <tbody>\n",
       "    <tr>\n",
       "      <th>uri:_the_surgical_strike</th>\n",
       "      <td>Vicky Kaushal</td>\n",
       "    </tr>\n",
       "    <tr>\n",
       "      <th>battalion_609</th>\n",
       "      <td>Vicky Ahuja</td>\n",
       "    </tr>\n",
       "    <tr>\n",
       "      <th>the_accidental_prime_minister_(film)</th>\n",
       "      <td>Anupam Kher</td>\n",
       "    </tr>\n",
       "    <tr>\n",
       "      <th>why_cheat_india</th>\n",
       "      <td>Emraan Hashmi</td>\n",
       "    </tr>\n",
       "    <tr>\n",
       "      <th>evening_shadows</th>\n",
       "      <td>Mona Ambegaonkar</td>\n",
       "    </tr>\n",
       "    <tr>\n",
       "      <th>...</th>\n",
       "      <td>...</td>\n",
       "    </tr>\n",
       "    <tr>\n",
       "      <th>hum_tumhare_hain_sanam</th>\n",
       "      <td>Shah Rukh Khan</td>\n",
       "    </tr>\n",
       "    <tr>\n",
       "      <th>aankhen_(2002_film)</th>\n",
       "      <td>Amitabh Bachchan</td>\n",
       "    </tr>\n",
       "    <tr>\n",
       "      <th>saathiya_(film)</th>\n",
       "      <td>Vivek Oberoi</td>\n",
       "    </tr>\n",
       "    <tr>\n",
       "      <th>company_(film)</th>\n",
       "      <td>Ajay Devgn</td>\n",
       "    </tr>\n",
       "    <tr>\n",
       "      <th>awara_paagal_deewana</th>\n",
       "      <td>Akshay Kumar</td>\n",
       "    </tr>\n",
       "  </tbody>\n",
       "</table>\n",
       "<p>1500 rows × 1 columns</p>\n",
       "</div>"
      ],
      "text/plain": [
       "                                                  lead\n",
       "movie                                                 \n",
       "uri:_the_surgical_strike                 Vicky Kaushal\n",
       "battalion_609                              Vicky Ahuja\n",
       "the_accidental_prime_minister_(film)       Anupam Kher\n",
       "why_cheat_india                          Emraan Hashmi\n",
       "evening_shadows                       Mona Ambegaonkar\n",
       "...                                                ...\n",
       "hum_tumhare_hain_sanam                  Shah Rukh Khan\n",
       "aankhen_(2002_film)                   Amitabh Bachchan\n",
       "saathiya_(film)                           Vivek Oberoi\n",
       "company_(film)                              Ajay Devgn\n",
       "awara_paagal_deewana                      Akshay Kumar\n",
       "\n",
       "[1500 rows x 1 columns]"
      ]
     },
     "execution_count": 3,
     "metadata": {},
     "output_type": "execute_result"
    }
   ],
   "source": [
    "bollywood_df = pd.read_csv(\"Session_16_Dataset/bollywood.csv\", index_col = 'movie')\n",
    "bollywood_df.index = bollywood_df.index.str.strip().str.lower().str.replace(' ', '_')\n",
    "bollywood_df"
   ]
  },
  {
   "cell_type": "code",
   "execution_count": 4,
   "id": "5af5ab5d-9402-4a32-80fa-f764c7b33a7f",
   "metadata": {},
   "outputs": [
    {
     "data": {
      "text/html": [
       "<div>\n",
       "<style scoped>\n",
       "    .dataframe tbody tr th:only-of-type {\n",
       "        vertical-align: middle;\n",
       "    }\n",
       "\n",
       "    .dataframe tbody tr th {\n",
       "        vertical-align: top;\n",
       "    }\n",
       "\n",
       "    .dataframe thead th {\n",
       "        text-align: right;\n",
       "    }\n",
       "</style>\n",
       "<table border=\"1\" class=\"dataframe\">\n",
       "  <thead>\n",
       "    <tr style=\"text-align: right;\">\n",
       "      <th></th>\n",
       "      <th>lead</th>\n",
       "    </tr>\n",
       "    <tr>\n",
       "      <th>movie</th>\n",
       "      <th></th>\n",
       "    </tr>\n",
       "  </thead>\n",
       "  <tbody>\n",
       "    <tr>\n",
       "      <th>uri:_the_surgical_strike</th>\n",
       "      <td>Vicky Kaushal</td>\n",
       "    </tr>\n",
       "    <tr>\n",
       "      <th>battalion_609</th>\n",
       "      <td>Vicky Ahuja</td>\n",
       "    </tr>\n",
       "    <tr>\n",
       "      <th>the_accidental_prime_minister_(film)</th>\n",
       "      <td>Anupam Kher</td>\n",
       "    </tr>\n",
       "    <tr>\n",
       "      <th>why_cheat_india</th>\n",
       "      <td>Emraan Hashmi</td>\n",
       "    </tr>\n",
       "    <tr>\n",
       "      <th>evening_shadows</th>\n",
       "      <td>Mona Ambegaonkar</td>\n",
       "    </tr>\n",
       "    <tr>\n",
       "      <th>...</th>\n",
       "      <td>...</td>\n",
       "    </tr>\n",
       "    <tr>\n",
       "      <th>hum_tumhare_hain_sanam</th>\n",
       "      <td>Shah Rukh Khan</td>\n",
       "    </tr>\n",
       "    <tr>\n",
       "      <th>aankhen_(2002_film)</th>\n",
       "      <td>Amitabh Bachchan</td>\n",
       "    </tr>\n",
       "    <tr>\n",
       "      <th>saathiya_(film)</th>\n",
       "      <td>Vivek Oberoi</td>\n",
       "    </tr>\n",
       "    <tr>\n",
       "      <th>company_(film)</th>\n",
       "      <td>Ajay Devgn</td>\n",
       "    </tr>\n",
       "    <tr>\n",
       "      <th>awara_paagal_deewana</th>\n",
       "      <td>Akshay Kumar</td>\n",
       "    </tr>\n",
       "  </tbody>\n",
       "</table>\n",
       "<p>1500 rows × 1 columns</p>\n",
       "</div>"
      ],
      "text/plain": [
       "                                                  lead\n",
       "movie                                                 \n",
       "uri:_the_surgical_strike                 Vicky Kaushal\n",
       "battalion_609                              Vicky Ahuja\n",
       "the_accidental_prime_minister_(film)       Anupam Kher\n",
       "why_cheat_india                          Emraan Hashmi\n",
       "evening_shadows                       Mona Ambegaonkar\n",
       "...                                                ...\n",
       "hum_tumhare_hain_sanam                  Shah Rukh Khan\n",
       "aankhen_(2002_film)                   Amitabh Bachchan\n",
       "saathiya_(film)                           Vivek Oberoi\n",
       "company_(film)                              Ajay Devgn\n",
       "awara_paagal_deewana                      Akshay Kumar\n",
       "\n",
       "[1500 rows x 1 columns]"
      ]
     },
     "execution_count": 4,
     "metadata": {},
     "output_type": "execute_result"
    }
   ],
   "source": [
    "bollywood_df"
   ]
  },
  {
   "cell_type": "code",
   "execution_count": 3,
   "id": "e4ce16cc-2570-44ee-a440-4be7933a2db9",
   "metadata": {},
   "outputs": [
    {
     "data": {
      "text/html": [
       "<div>\n",
       "<style scoped>\n",
       "    .dataframe tbody tr th:only-of-type {\n",
       "        vertical-align: middle;\n",
       "    }\n",
       "\n",
       "    .dataframe tbody tr th {\n",
       "        vertical-align: top;\n",
       "    }\n",
       "\n",
       "    .dataframe thead th {\n",
       "        text-align: right;\n",
       "    }\n",
       "</style>\n",
       "<table border=\"1\" class=\"dataframe\">\n",
       "  <thead>\n",
       "    <tr style=\"text-align: right;\">\n",
       "      <th></th>\n",
       "      <th>runs</th>\n",
       "    </tr>\n",
       "    <tr>\n",
       "      <th>match_no</th>\n",
       "      <th></th>\n",
       "    </tr>\n",
       "  </thead>\n",
       "  <tbody>\n",
       "    <tr>\n",
       "      <th>1</th>\n",
       "      <td>1</td>\n",
       "    </tr>\n",
       "    <tr>\n",
       "      <th>2</th>\n",
       "      <td>23</td>\n",
       "    </tr>\n",
       "    <tr>\n",
       "      <th>3</th>\n",
       "      <td>13</td>\n",
       "    </tr>\n",
       "    <tr>\n",
       "      <th>4</th>\n",
       "      <td>12</td>\n",
       "    </tr>\n",
       "    <tr>\n",
       "      <th>5</th>\n",
       "      <td>1</td>\n",
       "    </tr>\n",
       "    <tr>\n",
       "      <th>...</th>\n",
       "      <td>...</td>\n",
       "    </tr>\n",
       "    <tr>\n",
       "      <th>211</th>\n",
       "      <td>0</td>\n",
       "    </tr>\n",
       "    <tr>\n",
       "      <th>212</th>\n",
       "      <td>20</td>\n",
       "    </tr>\n",
       "    <tr>\n",
       "      <th>213</th>\n",
       "      <td>73</td>\n",
       "    </tr>\n",
       "    <tr>\n",
       "      <th>214</th>\n",
       "      <td>25</td>\n",
       "    </tr>\n",
       "    <tr>\n",
       "      <th>215</th>\n",
       "      <td>7</td>\n",
       "    </tr>\n",
       "  </tbody>\n",
       "</table>\n",
       "<p>215 rows × 1 columns</p>\n",
       "</div>"
      ],
      "text/plain": [
       "          runs\n",
       "match_no      \n",
       "1            1\n",
       "2           23\n",
       "3           13\n",
       "4           12\n",
       "5            1\n",
       "...        ...\n",
       "211          0\n",
       "212         20\n",
       "213         73\n",
       "214         25\n",
       "215          7\n",
       "\n",
       "[215 rows x 1 columns]"
      ]
     },
     "execution_count": 3,
     "metadata": {},
     "output_type": "execute_result"
    }
   ],
   "source": [
    "vk = pd.read_csv(\"Session_16_Dataset/kohli_ipl.csv\", index_col = 'match_no')\n",
    "vk"
   ]
  },
  {
   "cell_type": "code",
   "execution_count": 144,
   "id": "a49f7ff9-a471-45fe-8e08-d5fce4b9c42c",
   "metadata": {},
   "outputs": [],
   "source": [
    "channel_subs = pd.read_csv(\"Session_16_Dataset/subs.csv\")\n",
    "channel_subs.rename(columns = lambda x:x.strip().lower().replace(' ', '_'), inplace = True)"
   ]
  },
  {
   "cell_type": "code",
   "execution_count": 145,
   "id": "f92da795-0744-42c1-8b1e-1bcea22bf3b1",
   "metadata": {},
   "outputs": [
    {
     "data": {
      "text/html": [
       "<div>\n",
       "<style scoped>\n",
       "    .dataframe tbody tr th:only-of-type {\n",
       "        vertical-align: middle;\n",
       "    }\n",
       "\n",
       "    .dataframe tbody tr th {\n",
       "        vertical-align: top;\n",
       "    }\n",
       "\n",
       "    .dataframe thead th {\n",
       "        text-align: right;\n",
       "    }\n",
       "</style>\n",
       "<table border=\"1\" class=\"dataframe\">\n",
       "  <thead>\n",
       "    <tr style=\"text-align: right;\">\n",
       "      <th></th>\n",
       "      <th>subscribers_gained</th>\n",
       "    </tr>\n",
       "  </thead>\n",
       "  <tbody>\n",
       "    <tr>\n",
       "      <th>0</th>\n",
       "      <td>48</td>\n",
       "    </tr>\n",
       "    <tr>\n",
       "      <th>1</th>\n",
       "      <td>57</td>\n",
       "    </tr>\n",
       "    <tr>\n",
       "      <th>2</th>\n",
       "      <td>40</td>\n",
       "    </tr>\n",
       "    <tr>\n",
       "      <th>3</th>\n",
       "      <td>43</td>\n",
       "    </tr>\n",
       "    <tr>\n",
       "      <th>4</th>\n",
       "      <td>44</td>\n",
       "    </tr>\n",
       "    <tr>\n",
       "      <th>...</th>\n",
       "      <td>...</td>\n",
       "    </tr>\n",
       "    <tr>\n",
       "      <th>360</th>\n",
       "      <td>231</td>\n",
       "    </tr>\n",
       "    <tr>\n",
       "      <th>361</th>\n",
       "      <td>226</td>\n",
       "    </tr>\n",
       "    <tr>\n",
       "      <th>362</th>\n",
       "      <td>155</td>\n",
       "    </tr>\n",
       "    <tr>\n",
       "      <th>363</th>\n",
       "      <td>144</td>\n",
       "    </tr>\n",
       "    <tr>\n",
       "      <th>364</th>\n",
       "      <td>172</td>\n",
       "    </tr>\n",
       "  </tbody>\n",
       "</table>\n",
       "<p>365 rows × 1 columns</p>\n",
       "</div>"
      ],
      "text/plain": [
       "     subscribers_gained\n",
       "0                    48\n",
       "1                    57\n",
       "2                    40\n",
       "3                    43\n",
       "4                    44\n",
       "..                  ...\n",
       "360                 231\n",
       "361                 226\n",
       "362                 155\n",
       "363                 144\n",
       "364                 172\n",
       "\n",
       "[365 rows x 1 columns]"
      ]
     },
     "execution_count": 145,
     "metadata": {},
     "output_type": "execute_result"
    }
   ],
   "source": [
    "channel_subs"
   ]
  },
  {
   "cell_type": "code",
   "execution_count": 6,
   "id": "dbd70aef-dcfc-4580-8b35-2346a4baee02",
   "metadata": {},
   "outputs": [
    {
     "name": "stdout",
     "output_type": "stream",
     "text": [
      "0    1.0\n",
      "1    2.0\n",
      "2    3.0\n",
      "3    4.0\n",
      "dtype: float64\n"
     ]
    }
   ],
   "source": [
    "\"\"\"\n",
    "astype():\n",
    "         This is particularly useful when you need to convert the data type of one or more columns in a DataFrame or a Series to a different type,\n",
    "         such as converting integers to floats, integer to string, or objects to categorical data.\n",
    "\n",
    "Syntax :\n",
    "        DataFrame.astype(dtype, copy=True, errors='raise')\n",
    "        Series.astype(dtype, copy=True, errors='raise')\n",
    "\"\"\"\n",
    "\n",
    "# converting a series to a different data type:\n",
    "import pandas as pd\n",
    "\n",
    "# Create a Series\n",
    "s = pd.Series([1, 2, 3, 4])\n",
    "\n",
    "# Convert the Series to float\n",
    "s_float = s.astype('float64')\n",
    "print(s_float)"
   ]
  },
  {
   "cell_type": "code",
   "execution_count": 19,
   "id": "7479e7a2-abfc-4c90-b003-118f18604987",
   "metadata": {},
   "outputs": [
    {
     "data": {
      "text/html": [
       "<div>\n",
       "<style scoped>\n",
       "    .dataframe tbody tr th:only-of-type {\n",
       "        vertical-align: middle;\n",
       "    }\n",
       "\n",
       "    .dataframe tbody tr th {\n",
       "        vertical-align: top;\n",
       "    }\n",
       "\n",
       "    .dataframe thead th {\n",
       "        text-align: right;\n",
       "    }\n",
       "</style>\n",
       "<table border=\"1\" class=\"dataframe\">\n",
       "  <thead>\n",
       "    <tr style=\"text-align: right;\">\n",
       "      <th></th>\n",
       "      <th>A</th>\n",
       "      <th>B</th>\n",
       "      <th>C</th>\n",
       "    </tr>\n",
       "  </thead>\n",
       "  <tbody>\n",
       "    <tr>\n",
       "      <th>6</th>\n",
       "      <td>6.0</td>\n",
       "      <td>43</td>\n",
       "      <td>9</td>\n",
       "    </tr>\n",
       "    <tr>\n",
       "      <th>7</th>\n",
       "      <td>9.0</td>\n",
       "      <td>53</td>\n",
       "      <td>8</td>\n",
       "    </tr>\n",
       "    <tr>\n",
       "      <th>8</th>\n",
       "      <td>8.0</td>\n",
       "      <td>53</td>\n",
       "      <td>9</td>\n",
       "    </tr>\n",
       "    <tr>\n",
       "      <th>9</th>\n",
       "      <td>9.0</td>\n",
       "      <td>52</td>\n",
       "      <td>10</td>\n",
       "    </tr>\n",
       "  </tbody>\n",
       "</table>\n",
       "</div>"
      ],
      "text/plain": [
       "     A   B   C\n",
       "6  6.0  43   9\n",
       "7  9.0  53   8\n",
       "8  8.0  53   9\n",
       "9  9.0  52  10"
      ]
     },
     "execution_count": 19,
     "metadata": {},
     "output_type": "execute_result"
    }
   ],
   "source": [
    "df = pd.DataFrame({\n",
    "    'A' : [1,2,4,5,5,5,6,9,8,9],\n",
    "    'B' : [1.24 , 4.2, 42.5, 5.2, 5.3, 52.5,43.53, 53.8, 53.2, 52.5],\n",
    "    'C' : ['1', '54', '7', '5', '52', '5', '9', '8', '9', '10']\n",
    "})\n",
    "# convert integer to float\n",
    "df['A'] = df['A'].astype('float64')\n",
    "\n",
    "# convert float to integer\n",
    "df['B'] = df['B'].astype('int64')\n",
    "\n",
    "# convert string to integer\n",
    "df['C'] = df['C'].astype('int64')\n",
    "df.tail(4)"
   ]
  },
  {
   "cell_type": "code",
   "execution_count": 20,
   "id": "38d6ea1e-1dae-4968-8389-ea4fc50a70d1",
   "metadata": {},
   "outputs": [
    {
     "data": {
      "text/html": [
       "<div>\n",
       "<style scoped>\n",
       "    .dataframe tbody tr th:only-of-type {\n",
       "        vertical-align: middle;\n",
       "    }\n",
       "\n",
       "    .dataframe tbody tr th {\n",
       "        vertical-align: top;\n",
       "    }\n",
       "\n",
       "    .dataframe thead th {\n",
       "        text-align: right;\n",
       "    }\n",
       "</style>\n",
       "<table border=\"1\" class=\"dataframe\">\n",
       "  <thead>\n",
       "    <tr style=\"text-align: right;\">\n",
       "      <th></th>\n",
       "      <th>A</th>\n",
       "      <th>B</th>\n",
       "      <th>C</th>\n",
       "    </tr>\n",
       "  </thead>\n",
       "  <tbody>\n",
       "    <tr>\n",
       "      <th>0</th>\n",
       "      <td>1.0</td>\n",
       "      <td>2</td>\n",
       "      <td>3</td>\n",
       "    </tr>\n",
       "    <tr>\n",
       "      <th>1</th>\n",
       "      <td>2.0</td>\n",
       "      <td>45</td>\n",
       "      <td>5</td>\n",
       "    </tr>\n",
       "    <tr>\n",
       "      <th>2</th>\n",
       "      <td>4.0</td>\n",
       "      <td>42</td>\n",
       "      <td>3</td>\n",
       "    </tr>\n",
       "    <tr>\n",
       "      <th>3</th>\n",
       "      <td>4.0</td>\n",
       "      <td>41</td>\n",
       "      <td>2</td>\n",
       "    </tr>\n",
       "    <tr>\n",
       "      <th>4</th>\n",
       "      <td>5.0</td>\n",
       "      <td>44</td>\n",
       "      <td>9</td>\n",
       "    </tr>\n",
       "  </tbody>\n",
       "</table>\n",
       "</div>"
      ],
      "text/plain": [
       "     A   B  C\n",
       "0  1.0   2  3\n",
       "1  2.0  45  5\n",
       "2  4.0  42  3\n",
       "3  4.0  41  2\n",
       "4  5.0  44  9"
      ]
     },
     "execution_count": 20,
     "metadata": {},
     "output_type": "execute_result"
    }
   ],
   "source": [
    "# converting a dataFrame column to a different data type :\n",
    "import pandas as pd\n",
    "\n",
    "# Create a DataFrame\n",
    "df = pd.DataFrame({\n",
    "    'A' : [ 1,2,4,4,5],\n",
    "    'B' : [ 2.3 , 45.2, 42.2, 41.2, 44.1],\n",
    "    'C' : [ '3', '5', '3', '2' , '9']\n",
    "})\n",
    "\n",
    "# Convert column 'A' to float\n",
    "df['A'] = df['A'].astype('float32')\n",
    "\n",
    "# convert column 'B' to integer\n",
    "df['B'] = df['B'].astype('int64')\n",
    "\n",
    "# Convert column 'C' to integer\n",
    "df['C'] = df['C'].astype('int64')\n",
    "df"
   ]
  },
  {
   "cell_type": "code",
   "execution_count": 22,
   "id": "3a3b7325-7584-4c94-a3e1-fe0675661640",
   "metadata": {},
   "outputs": [
    {
     "data": {
      "text/html": [
       "<div>\n",
       "<style scoped>\n",
       "    .dataframe tbody tr th:only-of-type {\n",
       "        vertical-align: middle;\n",
       "    }\n",
       "\n",
       "    .dataframe tbody tr th {\n",
       "        vertical-align: top;\n",
       "    }\n",
       "\n",
       "    .dataframe thead th {\n",
       "        text-align: right;\n",
       "    }\n",
       "</style>\n",
       "<table border=\"1\" class=\"dataframe\">\n",
       "  <thead>\n",
       "    <tr style=\"text-align: right;\">\n",
       "      <th></th>\n",
       "      <th>A</th>\n",
       "      <th>B</th>\n",
       "      <th>C</th>\n",
       "    </tr>\n",
       "  </thead>\n",
       "  <tbody>\n",
       "    <tr>\n",
       "      <th>0</th>\n",
       "      <td>1.0</td>\n",
       "      <td>2</td>\n",
       "      <td>3</td>\n",
       "    </tr>\n",
       "    <tr>\n",
       "      <th>1</th>\n",
       "      <td>2.0</td>\n",
       "      <td>45</td>\n",
       "      <td>5</td>\n",
       "    </tr>\n",
       "    <tr>\n",
       "      <th>2</th>\n",
       "      <td>4.0</td>\n",
       "      <td>42</td>\n",
       "      <td>3</td>\n",
       "    </tr>\n",
       "    <tr>\n",
       "      <th>3</th>\n",
       "      <td>4.0</td>\n",
       "      <td>41</td>\n",
       "      <td>2</td>\n",
       "    </tr>\n",
       "    <tr>\n",
       "      <th>4</th>\n",
       "      <td>5.0</td>\n",
       "      <td>44</td>\n",
       "      <td>9</td>\n",
       "    </tr>\n",
       "  </tbody>\n",
       "</table>\n",
       "</div>"
      ],
      "text/plain": [
       "     A   B  C\n",
       "0  1.0   2  3\n",
       "1  2.0  45  5\n",
       "2  4.0  42  3\n",
       "3  4.0  41  2\n",
       "4  5.0  44  9"
      ]
     },
     "execution_count": 22,
     "metadata": {},
     "output_type": "execute_result"
    }
   ],
   "source": [
    "# Second method and efficient method to convert different datatype in different form\n",
    "df = df.astype({'A' : 'float32', 'B': 'int64', 'C':'int64'})\n",
    "df.head()"
   ]
  },
  {
   "cell_type": "code",
   "execution_count": 17,
   "id": "2a6e2b05-d632-43ad-b04f-cabc4a898403",
   "metadata": {},
   "outputs": [
    {
     "data": {
      "text/html": [
       "<div>\n",
       "<style scoped>\n",
       "    .dataframe tbody tr th:only-of-type {\n",
       "        vertical-align: middle;\n",
       "    }\n",
       "\n",
       "    .dataframe tbody tr th {\n",
       "        vertical-align: top;\n",
       "    }\n",
       "\n",
       "    .dataframe thead th {\n",
       "        text-align: right;\n",
       "    }\n",
       "</style>\n",
       "<table border=\"1\" class=\"dataframe\">\n",
       "  <thead>\n",
       "    <tr style=\"text-align: right;\">\n",
       "      <th></th>\n",
       "      <th>name</th>\n",
       "      <th>age</th>\n",
       "      <th>stc</th>\n",
       "    </tr>\n",
       "  </thead>\n",
       "  <tbody>\n",
       "    <tr>\n",
       "      <th>0</th>\n",
       "      <td>majid</td>\n",
       "      <td>33.0</td>\n",
       "      <td>15</td>\n",
       "    </tr>\n",
       "    <tr>\n",
       "      <th>1</th>\n",
       "      <td>amjad</td>\n",
       "      <td>11.0</td>\n",
       "      <td>10</td>\n",
       "    </tr>\n",
       "    <tr>\n",
       "      <th>2</th>\n",
       "      <td>amir</td>\n",
       "      <td>22.0</td>\n",
       "      <td>8</td>\n",
       "    </tr>\n",
       "    <tr>\n",
       "      <th>3</th>\n",
       "      <td>ayan</td>\n",
       "      <td>2.0</td>\n",
       "      <td>4</td>\n",
       "    </tr>\n",
       "    <tr>\n",
       "      <th>4</th>\n",
       "      <td>yasir</td>\n",
       "      <td>5.0</td>\n",
       "      <td>6</td>\n",
       "    </tr>\n",
       "  </tbody>\n",
       "</table>\n",
       "</div>"
      ],
      "text/plain": [
       "    name   age  stc\n",
       "0  majid  33.0   15\n",
       "1  amjad  11.0   10\n",
       "2   amir  22.0    8\n",
       "3   ayan   2.0    4\n",
       "4  yasir   5.0    6"
      ]
     },
     "execution_count": 17,
     "metadata": {},
     "output_type": "execute_result"
    }
   ],
   "source": [
    "# converting multiple column to a different data type:\n",
    "df = pd.DataFrame({\n",
    "    'name' : ['majid', 'amjad' , 'amir', 'ayan', 'yasir'],\n",
    "    'age' : [ '33', '11', '22', '2', '5'],\n",
    "    'stc' : [ 15.5 , 10.4, 8.6, 4.3, 6.7]\n",
    "})\n",
    "\n",
    "# convert name column to str, age to int, stc to int\n",
    "df = df.astype({ 'age' : 'float32', 'stc' : 'int32'})\n",
    "df"
   ]
  },
  {
   "cell_type": "code",
   "execution_count": 19,
   "id": "8955bd6e-b98f-4ce4-9ceb-e5bc80e65179",
   "metadata": {},
   "outputs": [
    {
     "name": "stdout",
     "output_type": "stream",
     "text": [
      "0        1\n",
      "1        2\n",
      "2    three\n",
      "dtype: object\n"
     ]
    }
   ],
   "source": [
    "# handling errors during conversion:\n",
    "import pandas as pd\n",
    "\n",
    "# Create a Series with mixed types\n",
    "s = pd.Series(['1', '2', 'three'])\n",
    "\n",
    "# Try to convert to integer, ignoring errors\n",
    "s_int = s.astype('int64', errors='ignore')\n",
    "\n",
    "print(s_int)"
   ]
  },
  {
   "cell_type": "markdown",
   "id": "6ccd1cd4-da20-40f4-b80d-1aae93ab7591",
   "metadata": {},
   "source": [
    "### Between():"
   ]
  },
  {
   "cell_type": "code",
   "execution_count": 68,
   "id": "15aa86a5-5faf-4d10-8b6f-ae861a23a4df",
   "metadata": {},
   "outputs": [
    {
     "data": {
      "text/plain": [
       "pandas.core.frame.DataFrame"
      ]
     },
     "execution_count": 68,
     "metadata": {},
     "output_type": "execute_result"
    }
   ],
   "source": [
    "type(vk)"
   ]
  },
  {
   "cell_type": "code",
   "execution_count": 71,
   "id": "014dd7f6-737a-4eda-b6d6-8c9306845dfe",
   "metadata": {},
   "outputs": [
    {
     "data": {
      "text/plain": [
       "47"
      ]
     },
     "execution_count": 71,
     "metadata": {},
     "output_type": "execute_result"
    }
   ],
   "source": [
    "\"\"\"\n",
    "between():\n",
    "          The between() function in pandas is used to filter data within a specified range. It returns a boolean Series or DataFrame indicating\n",
    "          whether each element lies between the specified lower and upper bounds. This function is particularly useful for filtering rows based\n",
    "          on a range of values in a column.\n",
    "\"\"\"\n",
    "\n",
    "# example:\n",
    "# Agar Series type dataset hai tb ye between directly use ho ga agr ye dataframe hai to specific column select kar ye karna pare ga.\n",
    "# find the number b/w 40 to 100 of runs of vk:\n",
    "  \n",
    "vk[vk['runs'].between(50, 100)].size"
   ]
  },
  {
   "cell_type": "code",
   "execution_count": 29,
   "id": "0a375b16-cf9e-4a58-9b0a-bfdadb5f25dc",
   "metadata": {},
   "outputs": [
    {
     "name": "stdout",
     "output_type": "stream",
     "text": [
      "    A   B\n",
      "0  10   5\n",
      "1  20  15\n",
      "2  30  25\n",
      "3  40  35\n"
     ]
    }
   ],
   "source": [
    "# using between with a DataFrame column:\n",
    "import pandas as pd\n",
    "\n",
    "# Create a DataFrame\n",
    "df = pd.DataFrame({\n",
    "    'A': [10, 20, 30, 40, 50],\n",
    "    'B': [5, 15, 25, 35, 45]\n",
    "})\n",
    "\n",
    "# Filter rows where column 'A' is between 20 and 40 (inclusive)\n",
    "filtered_df = df[df['A'].between(10, 40)]\n",
    "print(filtered_df)"
   ]
  },
  {
   "cell_type": "markdown",
   "id": "566dca71-6dbb-4e2e-9ada-3d4bae110697",
   "metadata": {},
   "source": [
    "### clip():"
   ]
  },
  {
   "cell_type": "code",
   "execution_count": 37,
   "id": "19293223-abb8-43c5-b93e-f92a330460aa",
   "metadata": {},
   "outputs": [
    {
     "data": {
      "text/plain": [
       "match_no\n",
       "1      20\n",
       "2      23\n",
       "3      20\n",
       "4      20\n",
       "5      20\n",
       "       ..\n",
       "211    20\n",
       "212    20\n",
       "213    73\n",
       "214    25\n",
       "215    20\n",
       "Name: runs, Length: 215, dtype: int64"
      ]
     },
     "execution_count": 37,
     "metadata": {},
     "output_type": "execute_result"
    }
   ],
   "source": [
    "\"\"\"\n",
    "clip():\n",
    "     The clip() function in pandas is used to limit the values in a Series or DataFrame to a specified range.\n",
    "     Values below the lower bound are replaced with the lower bound, and values above the upper bound are replaced\n",
    "     with the upper bound. This is useful for handling outliers or ensuring that data stays within a specific range.\n",
    "\n",
    "Syntax:\n",
    "        Series.clip(lower=None, upper=None, axis=None, inplace=False)\n",
    "        DataFrame.clip(lower=None, upper=None, axis=None, inplace=False)\n",
    "\n",
    "\"\"\"\n",
    "\n",
    "# exampel:\n",
    "cliped_data = vk.clip(20, 100)\n",
    "cliped_data"
   ]
  },
  {
   "cell_type": "code",
   "execution_count": 38,
   "id": "fa06766f-a7b4-43fc-a515-6983bb4b22c5",
   "metadata": {},
   "outputs": [
    {
     "name": "stdout",
     "output_type": "stream",
     "text": [
      "   A   B\n",
      "0  2  10\n",
      "1  2  20\n",
      "2  3  30\n",
      "3  4  40\n",
      "4  5  40\n"
     ]
    }
   ],
   "source": [
    "# using clip on a DataFrame \n",
    "import pandas as pd\n",
    "\n",
    "# Create a DataFrame\n",
    "df = pd.DataFrame({\n",
    "    'A': [1, 2, 3, 4, 5],\n",
    "    'B': [10, 20, 30, 40, 50]\n",
    "})\n",
    "\n",
    "# Clip values to a range between 2 and 40\n",
    "clipped_df = df.clip(lower=2, upper=40)\n",
    "print(clipped_df)"
   ]
  },
  {
   "cell_type": "code",
   "execution_count": 39,
   "id": "b541ba48-e3c3-4789-97f8-5b03b0b9fded",
   "metadata": {},
   "outputs": [
    {
     "data": {
      "text/html": [
       "<div>\n",
       "<style scoped>\n",
       "    .dataframe tbody tr th:only-of-type {\n",
       "        vertical-align: middle;\n",
       "    }\n",
       "\n",
       "    .dataframe tbody tr th {\n",
       "        vertical-align: top;\n",
       "    }\n",
       "\n",
       "    .dataframe thead th {\n",
       "        text-align: right;\n",
       "    }\n",
       "</style>\n",
       "<table border=\"1\" class=\"dataframe\">\n",
       "  <thead>\n",
       "    <tr style=\"text-align: right;\">\n",
       "      <th></th>\n",
       "      <th>A</th>\n",
       "      <th>B</th>\n",
       "    </tr>\n",
       "  </thead>\n",
       "  <tbody>\n",
       "    <tr>\n",
       "      <th>0</th>\n",
       "      <td>2</td>\n",
       "      <td>10</td>\n",
       "    </tr>\n",
       "    <tr>\n",
       "      <th>1</th>\n",
       "      <td>2</td>\n",
       "      <td>20</td>\n",
       "    </tr>\n",
       "    <tr>\n",
       "      <th>2</th>\n",
       "      <td>3</td>\n",
       "      <td>30</td>\n",
       "    </tr>\n",
       "    <tr>\n",
       "      <th>3</th>\n",
       "      <td>4</td>\n",
       "      <td>40</td>\n",
       "    </tr>\n",
       "    <tr>\n",
       "      <th>4</th>\n",
       "      <td>4</td>\n",
       "      <td>50</td>\n",
       "    </tr>\n",
       "  </tbody>\n",
       "</table>\n",
       "</div>"
      ],
      "text/plain": [
       "   A   B\n",
       "0  2  10\n",
       "1  2  20\n",
       "2  3  30\n",
       "3  4  40\n",
       "4  4  50"
      ]
     },
     "execution_count": 39,
     "metadata": {},
     "output_type": "execute_result"
    }
   ],
   "source": [
    "# apply clip on a specific column:\n",
    "df['A'] = df['A'].clip(2,4)\n",
    "df"
   ]
  },
  {
   "cell_type": "code",
   "execution_count": 40,
   "id": "4c9b21a9-77e8-4357-b256-46918095f3bb",
   "metadata": {},
   "outputs": [
    {
     "name": "stdout",
     "output_type": "stream",
     "text": [
      "   A   B\n",
      "0  2  15\n",
      "1  2  20\n",
      "2  3  30\n",
      "3  4  35\n",
      "4  4  35\n"
     ]
    }
   ],
   "source": [
    "# apply clip() on a row wise and column wize:\n",
    "import pandas as pd\n",
    "\n",
    "# Create a DataFrame\n",
    "df = pd.DataFrame({\n",
    "    'A': [1, 2, 3, 4, 5],\n",
    "    'B': [10, 20, 30, 40, 50]\n",
    "})\n",
    "\n",
    "# Clip row-wise (each row is clipped independently)\n",
    "clipped_df = df.clip(lower=[2, 15], upper=[4, 35], axis=1)\n",
    "print(clipped_df)"
   ]
  },
  {
   "cell_type": "markdown",
   "id": "2b51f29d-6fb9-4144-99d3-fd534b5ee164",
   "metadata": {},
   "source": [
    "### drop_duplicates() :"
   ]
  },
  {
   "cell_type": "code",
   "execution_count": 31,
   "id": "3ecd71e9-238b-44f6-a96e-96533cbdeaef",
   "metadata": {},
   "outputs": [
    {
     "data": {
      "text/plain": [
       "(array([  4,  12,  21,  22,  25,  26,  28,  29,  30,  32,  34,  37,  38,\n",
       "         39,  46,  48,  49,  53,  54,  57,  58,  60,  63,  65,  66,  68,\n",
       "         69,  71,  72,  74,  75,  76,  79,  82,  83,  84,  86,  87,  88,\n",
       "         89,  90,  91,  92,  93,  94,  95,  96,  97,  98,  99, 101, 102,\n",
       "        104, 105, 106, 108, 110, 112, 113, 114, 120, 123, 124, 126, 129,\n",
       "        130, 131, 134, 135, 137, 138, 140, 141, 142, 143, 145, 146, 148,\n",
       "        149, 150, 151, 152, 153, 154, 155, 157, 158, 160, 161, 162, 163,\n",
       "        164, 165, 166, 167, 168, 169, 170, 171, 173, 176, 178, 179, 180,\n",
       "        181, 182, 183, 184, 185, 186, 187, 188, 189, 190, 191, 192, 193,\n",
       "        194, 195, 196, 198, 199, 200, 201, 202, 203, 204, 205, 206, 207,\n",
       "        208, 209, 210, 211, 212, 213, 214], dtype=int64),)"
      ]
     },
     "execution_count": 31,
     "metadata": {},
     "output_type": "execute_result"
    }
   ],
   "source": [
    "\"\"\"\n",
    "drop_dublicates():\n",
    "                  The drop_duplicates() function in pandas is used to remove duplicate rows from a DataFrame or Series. It is a handy tool for cleaning\n",
    "                  data, especially when dealing with datasets that may contain repeated entries. You can specify which columns to consider when\n",
    "                  identifying duplicates and whether to keep the first or last occurrence of the duplicate rows.\n",
    "Syntax:\n",
    "       DataFrame.drop_duplicates(subset=None, keep='first', inplace=False, ignore_index=False)\n",
    "       Series.drop_duplicates(keep='first', inplace=False)\n",
    "\"\"\"\n",
    "# example: first check whether duplicate data exist by using of duplicated()\n",
    "np.where(vk.duplicated())\n",
    "\n",
    "# and by using of sum() it means it count duplicated values\n",
    "# These given output is in index number where most of the values are duplicated."
   ]
  },
  {
   "cell_type": "code",
   "execution_count": 33,
   "id": "9e1c97bc-0712-4210-ac92-431dd5621eff",
   "metadata": {
    "scrolled": true
   },
   "outputs": [
    {
     "data": {
      "text/html": [
       "<div>\n",
       "<style scoped>\n",
       "    .dataframe tbody tr th:only-of-type {\n",
       "        vertical-align: middle;\n",
       "    }\n",
       "\n",
       "    .dataframe tbody tr th {\n",
       "        vertical-align: top;\n",
       "    }\n",
       "\n",
       "    .dataframe thead th {\n",
       "        text-align: right;\n",
       "    }\n",
       "</style>\n",
       "<table border=\"1\" class=\"dataframe\">\n",
       "  <thead>\n",
       "    <tr style=\"text-align: right;\">\n",
       "      <th></th>\n",
       "      <th>runs</th>\n",
       "    </tr>\n",
       "    <tr>\n",
       "      <th>match_no</th>\n",
       "      <th></th>\n",
       "    </tr>\n",
       "  </thead>\n",
       "  <tbody>\n",
       "    <tr>\n",
       "      <th>182</th>\n",
       "      <td>50</td>\n",
       "    </tr>\n",
       "    <tr>\n",
       "      <th>183</th>\n",
       "      <td>8</td>\n",
       "    </tr>\n",
       "    <tr>\n",
       "      <th>184</th>\n",
       "      <td>6</td>\n",
       "    </tr>\n",
       "    <tr>\n",
       "      <th>185</th>\n",
       "      <td>33</td>\n",
       "    </tr>\n",
       "    <tr>\n",
       "      <th>186</th>\n",
       "      <td>33</td>\n",
       "    </tr>\n",
       "    <tr>\n",
       "      <th>187</th>\n",
       "      <td>5</td>\n",
       "    </tr>\n",
       "    <tr>\n",
       "      <th>188</th>\n",
       "      <td>72</td>\n",
       "    </tr>\n",
       "    <tr>\n",
       "      <th>189</th>\n",
       "      <td>8</td>\n",
       "    </tr>\n",
       "    <tr>\n",
       "      <th>190</th>\n",
       "      <td>12</td>\n",
       "    </tr>\n",
       "    <tr>\n",
       "      <th>191</th>\n",
       "      <td>35</td>\n",
       "    </tr>\n",
       "    <tr>\n",
       "      <th>192</th>\n",
       "      <td>5</td>\n",
       "    </tr>\n",
       "    <tr>\n",
       "      <th>193</th>\n",
       "      <td>25</td>\n",
       "    </tr>\n",
       "    <tr>\n",
       "      <th>194</th>\n",
       "      <td>5</td>\n",
       "    </tr>\n",
       "    <tr>\n",
       "      <th>195</th>\n",
       "      <td>4</td>\n",
       "    </tr>\n",
       "    <tr>\n",
       "      <th>196</th>\n",
       "      <td>25</td>\n",
       "    </tr>\n",
       "    <tr>\n",
       "      <th>197</th>\n",
       "      <td>51</td>\n",
       "    </tr>\n",
       "    <tr>\n",
       "      <th>198</th>\n",
       "      <td>53</td>\n",
       "    </tr>\n",
       "    <tr>\n",
       "      <th>199</th>\n",
       "      <td>39</td>\n",
       "    </tr>\n",
       "    <tr>\n",
       "      <th>200</th>\n",
       "      <td>41</td>\n",
       "    </tr>\n",
       "    <tr>\n",
       "      <th>201</th>\n",
       "      <td>12</td>\n",
       "    </tr>\n",
       "    <tr>\n",
       "      <th>202</th>\n",
       "      <td>5</td>\n",
       "    </tr>\n",
       "    <tr>\n",
       "      <th>203</th>\n",
       "      <td>48</td>\n",
       "    </tr>\n",
       "    <tr>\n",
       "      <th>204</th>\n",
       "      <td>1</td>\n",
       "    </tr>\n",
       "    <tr>\n",
       "      <th>205</th>\n",
       "      <td>12</td>\n",
       "    </tr>\n",
       "    <tr>\n",
       "      <th>206</th>\n",
       "      <td>0</td>\n",
       "    </tr>\n",
       "    <tr>\n",
       "      <th>207</th>\n",
       "      <td>0</td>\n",
       "    </tr>\n",
       "    <tr>\n",
       "      <th>208</th>\n",
       "      <td>9</td>\n",
       "    </tr>\n",
       "    <tr>\n",
       "      <th>209</th>\n",
       "      <td>58</td>\n",
       "    </tr>\n",
       "    <tr>\n",
       "      <th>210</th>\n",
       "      <td>30</td>\n",
       "    </tr>\n",
       "    <tr>\n",
       "      <th>211</th>\n",
       "      <td>0</td>\n",
       "    </tr>\n",
       "    <tr>\n",
       "      <th>212</th>\n",
       "      <td>20</td>\n",
       "    </tr>\n",
       "    <tr>\n",
       "      <th>213</th>\n",
       "      <td>73</td>\n",
       "    </tr>\n",
       "    <tr>\n",
       "      <th>214</th>\n",
       "      <td>25</td>\n",
       "    </tr>\n",
       "  </tbody>\n",
       "</table>\n",
       "</div>"
      ],
      "text/plain": [
       "          runs\n",
       "match_no      \n",
       "182         50\n",
       "183          8\n",
       "184          6\n",
       "185         33\n",
       "186         33\n",
       "187          5\n",
       "188         72\n",
       "189          8\n",
       "190         12\n",
       "191         35\n",
       "192          5\n",
       "193         25\n",
       "194          5\n",
       "195          4\n",
       "196         25\n",
       "197         51\n",
       "198         53\n",
       "199         39\n",
       "200         41\n",
       "201         12\n",
       "202          5\n",
       "203         48\n",
       "204          1\n",
       "205         12\n",
       "206          0\n",
       "207          0\n",
       "208          9\n",
       "209         58\n",
       "210         30\n",
       "211          0\n",
       "212         20\n",
       "213         73\n",
       "214         25"
      ]
     },
     "execution_count": 33,
     "metadata": {},
     "output_type": "execute_result"
    }
   ],
   "source": [
    "vk[181:214]"
   ]
  },
  {
   "cell_type": "code",
   "execution_count": 48,
   "id": "5363df27-c7de-4444-babd-8c2cce89d87e",
   "metadata": {},
   "outputs": [
    {
     "data": {
      "text/plain": [
       "78"
      ]
     },
     "execution_count": 48,
     "metadata": {},
     "output_type": "execute_result"
    }
   ],
   "source": [
    "# length:215 to length:78 it means many rows are duplicated\n",
    "vk.drop_duplicates().size"
   ]
  },
  {
   "cell_type": "code",
   "execution_count": 73,
   "id": "572a756d-df2c-4af8-b21d-fc75cd6b8c63",
   "metadata": {},
   "outputs": [
    {
     "data": {
      "text/html": [
       "<div>\n",
       "<style scoped>\n",
       "    .dataframe tbody tr th:only-of-type {\n",
       "        vertical-align: middle;\n",
       "    }\n",
       "\n",
       "    .dataframe tbody tr th {\n",
       "        vertical-align: top;\n",
       "    }\n",
       "\n",
       "    .dataframe thead th {\n",
       "        text-align: right;\n",
       "    }\n",
       "</style>\n",
       "<table border=\"1\" class=\"dataframe\">\n",
       "  <thead>\n",
       "    <tr style=\"text-align: right;\">\n",
       "      <th></th>\n",
       "      <th>Subscribers gained</th>\n",
       "    </tr>\n",
       "  </thead>\n",
       "  <tbody>\n",
       "    <tr>\n",
       "      <th>0</th>\n",
       "      <td>48</td>\n",
       "    </tr>\n",
       "    <tr>\n",
       "      <th>1</th>\n",
       "      <td>57</td>\n",
       "    </tr>\n",
       "    <tr>\n",
       "      <th>2</th>\n",
       "      <td>40</td>\n",
       "    </tr>\n",
       "    <tr>\n",
       "      <th>3</th>\n",
       "      <td>43</td>\n",
       "    </tr>\n",
       "    <tr>\n",
       "      <th>4</th>\n",
       "      <td>44</td>\n",
       "    </tr>\n",
       "    <tr>\n",
       "      <th>...</th>\n",
       "      <td>...</td>\n",
       "    </tr>\n",
       "    <tr>\n",
       "      <th>360</th>\n",
       "      <td>231</td>\n",
       "    </tr>\n",
       "    <tr>\n",
       "      <th>361</th>\n",
       "      <td>226</td>\n",
       "    </tr>\n",
       "    <tr>\n",
       "      <th>362</th>\n",
       "      <td>155</td>\n",
       "    </tr>\n",
       "    <tr>\n",
       "      <th>363</th>\n",
       "      <td>144</td>\n",
       "    </tr>\n",
       "    <tr>\n",
       "      <th>364</th>\n",
       "      <td>172</td>\n",
       "    </tr>\n",
       "  </tbody>\n",
       "</table>\n",
       "<p>365 rows × 1 columns</p>\n",
       "</div>"
      ],
      "text/plain": [
       "     Subscribers gained\n",
       "0                    48\n",
       "1                    57\n",
       "2                    40\n",
       "3                    43\n",
       "4                    44\n",
       "..                  ...\n",
       "360                 231\n",
       "361                 226\n",
       "362                 155\n",
       "363                 144\n",
       "364                 172\n",
       "\n",
       "[365 rows x 1 columns]"
      ]
     },
     "execution_count": 73,
     "metadata": {},
     "output_type": "execute_result"
    }
   ],
   "source": [
    "subs"
   ]
  },
  {
   "cell_type": "code",
   "execution_count": 41,
   "id": "df92b3f4-4a06-4bc9-aa12-7adb20ba2075",
   "metadata": {},
   "outputs": [
    {
     "data": {
      "text/plain": [
       "185"
      ]
     },
     "execution_count": 41,
     "metadata": {},
     "output_type": "execute_result"
    }
   ],
   "source": [
    "# specific columns you want to remove you can do this\n",
    "\n",
    "subs[subs.duplicated(subset = 'Subscribers gained')].size"
   ]
  },
  {
   "cell_type": "code",
   "execution_count": 65,
   "id": "11610875-0d17-4e83-9f79-1ab1ecd464e2",
   "metadata": {},
   "outputs": [
    {
     "data": {
      "text/plain": [
       "185"
      ]
     },
     "execution_count": 65,
     "metadata": {},
     "output_type": "execute_result"
    }
   ],
   "source": [
    "# this values is duplicated in subscribers channel\n",
    "subs[subs.duplicated()].size"
   ]
  },
  {
   "cell_type": "code",
   "execution_count": 43,
   "id": "2987dcaa-d35a-4e86-b531-b444847334d9",
   "metadata": {},
   "outputs": [
    {
     "data": {
      "text/plain": [
       "180"
      ]
     },
     "execution_count": 43,
     "metadata": {},
     "output_type": "execute_result"
    }
   ],
   "source": [
    "# this values is unique in subscriber gained :\n",
    "subs.drop_duplicates(subset = 'Subscribers gained').size"
   ]
  },
  {
   "cell_type": "code",
   "execution_count": 12,
   "id": "e98e89d9-8d55-4a8e-91b4-7a729007eaf6",
   "metadata": {},
   "outputs": [
    {
     "name": "stdout",
     "output_type": "stream",
     "text": [
      "0     1\n",
      "1     2\n",
      "2     2\n",
      "3     3\n",
      "4     3\n",
      "5     4\n",
      "6     4\n",
      "7     5\n",
      "8     5\n",
      "9     6\n",
      "10    6\n",
      "dtype: int64\n",
      "5\n",
      "this is for non_missing values\n",
      " 11\n"
     ]
    }
   ],
   "source": [
    "# pandas series:\n",
    "duplicate_data = pd.Series([1,2,2,3,3,4,4,5,5,6,6])\n",
    "print(duplicate_data)\n",
    "print(duplicate_data[duplicate_data.duplicated()].size)    # this will give, in our data 5 values are repeated\n",
    "print('this is for non_missing values\\n',duplicate_data.count())"
   ]
  },
  {
   "cell_type": "code",
   "execution_count": 84,
   "id": "2b1a4283-2790-48dc-aef3-4a0add584d44",
   "metadata": {},
   "outputs": [
    {
     "data": {
      "text/plain": [
       "11"
      ]
     },
     "execution_count": 84,
     "metadata": {},
     "output_type": "execute_result"
    }
   ],
   "source": [
    "duplicate_data.size"
   ]
  },
  {
   "cell_type": "code",
   "execution_count": 85,
   "id": "0cfe4af4-3ae4-4d29-9948-82dfac8f29c4",
   "metadata": {},
   "outputs": [
    {
     "data": {
      "text/plain": [
       "6"
      ]
     },
     "execution_count": 85,
     "metadata": {},
     "output_type": "execute_result"
    }
   ],
   "source": [
    "# this is syntax [keep = 'last' or 'first' ] it will only take whose value is given bydefault [keep = 'fist']\n",
    "duplicate_data.drop_duplicates(keep = 'last').size"
   ]
  },
  {
   "cell_type": "markdown",
   "id": "d410a02a-c0d2-49a2-95aa-befe2eb09c76",
   "metadata": {},
   "source": [
    "### isnull() fillna():"
   ]
  },
  {
   "cell_type": "code",
   "execution_count": 4,
   "id": "86cfbcb5-1593-4641-a124-b247efa47766",
   "metadata": {},
   "outputs": [
    {
     "name": "stdout",
     "output_type": "stream",
     "text": [
      "runs    0\n",
      "dtype: int64\n"
     ]
    },
    {
     "data": {
      "text/plain": [
       "(215, 1)"
      ]
     },
     "execution_count": 4,
     "metadata": {},
     "output_type": "execute_result"
    }
   ],
   "source": [
    "\"\"\"\n",
    "isnull():\n",
    "         The isnull() function in pandas is used to detect missing or null values (NaN, None, or NaT) in a DataFrame or Series. It returns a boolean\n",
    "         object (DataFrame or Series) of the same shape, where each element is True if the corresponding value is missing, and False otherwise.\n",
    "         This function is particularly useful for identifying and handling missing data in datasets.\n",
    "\"\"\"\n",
    "# it means there is no null column by using of count attribute it count only those values those are non missing.\n",
    "\n",
    "import numpy as np\n",
    "print(vk.isnull().sum())\n",
    "vk.shape"
   ]
  },
  {
   "cell_type": "code",
   "execution_count": 5,
   "id": "a4851fe6-e537-416c-bb80-bf132f60398e",
   "metadata": {},
   "outputs": [
    {
     "data": {
      "text/plain": [
       "3   NaN\n",
       "5   NaN\n",
       "7   NaN\n",
       "dtype: float64"
      ]
     },
     "execution_count": 5,
     "metadata": {},
     "output_type": "execute_result"
    }
   ],
   "source": [
    "# This filtered data tell that where is null values existing with index\n",
    "temp = pd.Series([1,2,3, np.nan, 5, np.nan, 7, np.nan, 9, 10])\n",
    "temp[temp.isnull()]"
   ]
  },
  {
   "cell_type": "code",
   "execution_count": 15,
   "id": "b666d7cc-c64e-4317-9d32-3ad1949ea401",
   "metadata": {},
   "outputs": [
    {
     "data": {
      "text/plain": [
       "7"
      ]
     },
     "execution_count": 15,
     "metadata": {},
     "output_type": "execute_result"
    }
   ],
   "source": [
    "# there is only non_missing values.\n",
    "temp.count()"
   ]
  },
  {
   "cell_type": "code",
   "execution_count": 19,
   "id": "babd2ff2-8b82-4f1d-b602-a4cae7850ca4",
   "metadata": {},
   "outputs": [
    {
     "data": {
      "text/plain": [
       "3"
      ]
     },
     "execution_count": 19,
     "metadata": {},
     "output_type": "execute_result"
    }
   ],
   "source": [
    "# by using of sum() it give the sum of all null values in our data\n",
    "temp.isnull().sum()"
   ]
  },
  {
   "cell_type": "code",
   "execution_count": 6,
   "id": "3c28817f-7882-4c4e-9e75-c9b153351609",
   "metadata": {},
   "outputs": [
    {
     "data": {
      "text/plain": [
       "0     1.0\n",
       "1     2.0\n",
       "2     3.0\n",
       "3     5.3\n",
       "4     5.0\n",
       "5     5.3\n",
       "6     7.0\n",
       "7     5.3\n",
       "8     9.0\n",
       "9    10.0\n",
       "dtype: object"
      ]
     },
     "execution_count": 6,
     "metadata": {},
     "output_type": "execute_result"
    }
   ],
   "source": [
    "# this is temporary changed : which means fill those values those are nan \n",
    "\n",
    "temp.fillna(f'{ np.mean(temp):.1f}')"
   ]
  },
  {
   "cell_type": "code",
   "execution_count": 90,
   "id": "896797d9-e795-4ce0-83ad-91e49bf85408",
   "metadata": {},
   "outputs": [
    {
     "data": {
      "text/plain": [
       "Subscribers gained    0\n",
       "dtype: int64"
      ]
     },
     "execution_count": 90,
     "metadata": {},
     "output_type": "execute_result"
    }
   ],
   "source": [
    "# there is no any column null \n",
    "subs.isnull().sum()\n"
   ]
  },
  {
   "cell_type": "code",
   "execution_count": 92,
   "id": "6d37890c-2787-4cc2-8366-a4573d2799f9",
   "metadata": {},
   "outputs": [
    {
     "data": {
      "text/plain": [
       "movie    0\n",
       "lead     0\n",
       "dtype: int64"
      ]
     },
     "execution_count": 92,
     "metadata": {},
     "output_type": "execute_result"
    }
   ],
   "source": [
    "# there is also no column or rows is not null\n",
    "bollywood_df.isnull().sum()"
   ]
  },
  {
   "cell_type": "markdown",
   "id": "99f1c95b-99f4-4a86-872d-803bc7067464",
   "metadata": {},
   "source": [
    "### dropna():"
   ]
  },
  {
   "cell_type": "code",
   "execution_count": 102,
   "id": "7334f14a-3c0f-432b-9e64-fb60f81891b7",
   "metadata": {},
   "outputs": [
    {
     "data": {
      "text/plain": [
       "0     1.0\n",
       "1     2.0\n",
       "2     3.0\n",
       "4     5.0\n",
       "6     7.0\n",
       "8     9.0\n",
       "9    10.0\n",
       "dtype: float64"
      ]
     },
     "execution_count": 102,
     "metadata": {},
     "output_type": "execute_result"
    }
   ],
   "source": [
    "\"\"\"\n",
    "dropna():\n",
    "         The dropna() function is used to remove rows or columns with missing values from a DataFrame or Series.\n",
    "\n",
    "Syntax:\n",
    "       DataFrame.dropna(axis=0, how='any', thresh=None, subset=None, inplace=False)\n",
    "       Series.dropna(axis=0, inplace=False)\n",
    "\n",
    "\"\"\"\n",
    "# example: it removes all those rows and columns those values are missing\n",
    "temp.dropna()"
   ]
  },
  {
   "cell_type": "code",
   "execution_count": 114,
   "id": "50b42bf9-b512-4349-a651-fac8e2f0d5db",
   "metadata": {},
   "outputs": [
    {
     "name": "stdout",
     "output_type": "stream",
     "text": [
      "Original DataFrame:\n",
      "      A    B   C     D     E\n",
      "0  1.0  5.0   9   2.0  12.0\n",
      "1  2.0  NaN  10   3.0   NaN\n",
      "2  NaN  NaN  11   4.2   NaN\n",
      "3  4.0  8.0  12  32.0   5.0\n"
     ]
    }
   ],
   "source": [
    "import pandas as pd\n",
    "import numpy as np\n",
    "\n",
    "df = pd.DataFrame({\n",
    "    \"A\": [1, 2, np.nan, 4],\n",
    "    \"B\": [5, np.nan, np.nan, 8],\n",
    "    \"C\": [9, 10, 11, 12],\n",
    "    \"D\": [2,3,4.2 ,32],\n",
    "    \"E\" : [ 12, np.nan , np.nan , 5]\n",
    "})\n",
    "\n",
    "print(\"Original DataFrame:\\n\", df)\n"
   ]
  },
  {
   "cell_type": "code",
   "execution_count": 106,
   "id": "54fb62c5-1569-4e52-9582-2c871688c1fa",
   "metadata": {},
   "outputs": [
    {
     "data": {
      "text/plain": [
       "A    1\n",
       "B    2\n",
       "C    0\n",
       "D    0\n",
       "E    2\n",
       "dtype: int64"
      ]
     },
     "execution_count": 106,
     "metadata": {},
     "output_type": "execute_result"
    }
   ],
   "source": [
    "# columns wise missing values detect karna\n",
    "missing_check = df.apply(lambda row : row.isnull().sum() , axis = 0)\n",
    "missing_check"
   ]
  },
  {
   "cell_type": "code",
   "execution_count": 115,
   "id": "f36c3e33-ca7b-474e-8a24-f402e9c36ce5",
   "metadata": {},
   "outputs": [],
   "source": [
    "df.dropna(subset = [\"A\"], inplace = True)"
   ]
  },
  {
   "cell_type": "code",
   "execution_count": 127,
   "id": "7a412a14-609b-46ab-b97a-d53bc7b37ec4",
   "metadata": {},
   "outputs": [
    {
     "data": {
      "text/html": [
       "<div>\n",
       "<style scoped>\n",
       "    .dataframe tbody tr th:only-of-type {\n",
       "        vertical-align: middle;\n",
       "    }\n",
       "\n",
       "    .dataframe tbody tr th {\n",
       "        vertical-align: top;\n",
       "    }\n",
       "\n",
       "    .dataframe thead th {\n",
       "        text-align: right;\n",
       "    }\n",
       "</style>\n",
       "<table border=\"1\" class=\"dataframe\">\n",
       "  <thead>\n",
       "    <tr style=\"text-align: right;\">\n",
       "      <th></th>\n",
       "      <th>A</th>\n",
       "      <th>B</th>\n",
       "      <th>C</th>\n",
       "      <th>D</th>\n",
       "      <th>E</th>\n",
       "    </tr>\n",
       "  </thead>\n",
       "  <tbody>\n",
       "    <tr>\n",
       "      <th>0</th>\n",
       "      <td>1.0</td>\n",
       "      <td>5.0</td>\n",
       "      <td>9</td>\n",
       "      <td>2.0</td>\n",
       "      <td>12.0</td>\n",
       "    </tr>\n",
       "    <tr>\n",
       "      <th>1</th>\n",
       "      <td>2.0</td>\n",
       "      <td>NaN</td>\n",
       "      <td>10</td>\n",
       "      <td>3.0</td>\n",
       "      <td>NaN</td>\n",
       "    </tr>\n",
       "    <tr>\n",
       "      <th>3</th>\n",
       "      <td>4.0</td>\n",
       "      <td>8.0</td>\n",
       "      <td>12</td>\n",
       "      <td>32.0</td>\n",
       "      <td>5.0</td>\n",
       "    </tr>\n",
       "  </tbody>\n",
       "</table>\n",
       "</div>"
      ],
      "text/plain": [
       "     A    B   C     D     E\n",
       "0  1.0  5.0   9   2.0  12.0\n",
       "1  2.0  NaN  10   3.0   NaN\n",
       "3  4.0  8.0  12  32.0   5.0"
      ]
     },
     "execution_count": 127,
     "metadata": {},
     "output_type": "execute_result"
    }
   ],
   "source": [
    "df"
   ]
  },
  {
   "cell_type": "code",
   "execution_count": 128,
   "id": "7ee4ad2c-3d5a-43d2-8956-1db9865803d6",
   "metadata": {},
   "outputs": [
    {
     "name": "stdout",
     "output_type": "stream",
     "text": [
      "A->2.33\n",
      "B->6.50\n",
      "C->10.33\n",
      "D->12.33\n",
      "E->8.50\n",
      "     A    B   C     D     E\n",
      "0  1.0  5.0   9   2.0  12.0\n",
      "1  2.0  6.5  10   3.0   8.5\n",
      "3  4.0  8.0  12  32.0   5.0\n"
     ]
    }
   ],
   "source": [
    "# fill each column with their each mean\n",
    "mean_each_colmn = df.mean(numeric_only = True).to_dict()\n",
    "for key, value in mean_each_colmn.items():\n",
    "    # print(key, value)\n",
    "    print(f'{key}->{value:.2f}')\n",
    "fill_with_mean = df.fillna(mean_each_colmn)\n",
    "print(fill_with_mean)"
   ]
  },
  {
   "cell_type": "code",
   "execution_count": 46,
   "id": "67f28218-232f-4c99-839b-9f42d76a7fea",
   "metadata": {},
   "outputs": [
    {
     "data": {
      "text/html": [
       "<div>\n",
       "<style scoped>\n",
       "    .dataframe tbody tr th:only-of-type {\n",
       "        vertical-align: middle;\n",
       "    }\n",
       "\n",
       "    .dataframe tbody tr th {\n",
       "        vertical-align: top;\n",
       "    }\n",
       "\n",
       "    .dataframe thead th {\n",
       "        text-align: right;\n",
       "    }\n",
       "</style>\n",
       "<table border=\"1\" class=\"dataframe\">\n",
       "  <thead>\n",
       "    <tr style=\"text-align: right;\">\n",
       "      <th></th>\n",
       "      <th>A</th>\n",
       "      <th>B</th>\n",
       "      <th>C</th>\n",
       "      <th>D</th>\n",
       "      <th>E</th>\n",
       "    </tr>\n",
       "  </thead>\n",
       "  <tbody>\n",
       "    <tr>\n",
       "      <th>0</th>\n",
       "      <td>1.0</td>\n",
       "      <td>5.0</td>\n",
       "      <td>9</td>\n",
       "      <td>2.0</td>\n",
       "      <td>12.0</td>\n",
       "    </tr>\n",
       "    <tr>\n",
       "      <th>3</th>\n",
       "      <td>4.0</td>\n",
       "      <td>8.0</td>\n",
       "      <td>12</td>\n",
       "      <td>32.0</td>\n",
       "      <td>5.0</td>\n",
       "    </tr>\n",
       "  </tbody>\n",
       "</table>\n",
       "</div>"
      ],
      "text/plain": [
       "     A    B   C     D     E\n",
       "0  1.0  5.0   9   2.0  12.0\n",
       "3  4.0  8.0  12  32.0   5.0"
      ]
     },
     "execution_count": 46,
     "metadata": {},
     "output_type": "execute_result"
    }
   ],
   "source": [
    "df.dropna(how = 'any')"
   ]
  },
  {
   "cell_type": "code",
   "execution_count": 47,
   "id": "1db68d10-ed6f-483d-9834-b38d35c1dd22",
   "metadata": {},
   "outputs": [
    {
     "data": {
      "text/html": [
       "<div>\n",
       "<style scoped>\n",
       "    .dataframe tbody tr th:only-of-type {\n",
       "        vertical-align: middle;\n",
       "    }\n",
       "\n",
       "    .dataframe tbody tr th {\n",
       "        vertical-align: top;\n",
       "    }\n",
       "\n",
       "    .dataframe thead th {\n",
       "        text-align: right;\n",
       "    }\n",
       "</style>\n",
       "<table border=\"1\" class=\"dataframe\">\n",
       "  <thead>\n",
       "    <tr style=\"text-align: right;\">\n",
       "      <th></th>\n",
       "      <th>A</th>\n",
       "      <th>B</th>\n",
       "      <th>C</th>\n",
       "      <th>D</th>\n",
       "      <th>E</th>\n",
       "    </tr>\n",
       "  </thead>\n",
       "  <tbody>\n",
       "    <tr>\n",
       "      <th>0</th>\n",
       "      <td>1.0</td>\n",
       "      <td>5.0</td>\n",
       "      <td>9</td>\n",
       "      <td>2.0</td>\n",
       "      <td>12.0</td>\n",
       "    </tr>\n",
       "    <tr>\n",
       "      <th>3</th>\n",
       "      <td>4.0</td>\n",
       "      <td>8.0</td>\n",
       "      <td>12</td>\n",
       "      <td>32.0</td>\n",
       "      <td>5.0</td>\n",
       "    </tr>\n",
       "  </tbody>\n",
       "</table>\n",
       "</div>"
      ],
      "text/plain": [
       "     A    B   C     D     E\n",
       "0  1.0  5.0   9   2.0  12.0\n",
       "3  4.0  8.0  12  32.0   5.0"
      ]
     },
     "execution_count": 47,
     "metadata": {},
     "output_type": "execute_result"
    }
   ],
   "source": [
    "df.dropna()"
   ]
  },
  {
   "cell_type": "markdown",
   "id": "309220b7-1485-4eb2-8e86-c379db8cf179",
   "metadata": {},
   "source": [
    "### fillna() :"
   ]
  },
  {
   "cell_type": "code",
   "execution_count": 58,
   "id": "441da0f1-6e9c-4b03-95d0-4e5b9dfdb5e4",
   "metadata": {},
   "outputs": [
    {
     "data": {
      "text/plain": [
       "0     1.0\n",
       "1     2.0\n",
       "2     3.0\n",
       "3    5.29\n",
       "4     5.0\n",
       "5    5.29\n",
       "6     7.0\n",
       "7    5.29\n",
       "8     9.0\n",
       "9    10.0\n",
       "dtype: object"
      ]
     },
     "execution_count": 58,
     "metadata": {},
     "output_type": "execute_result"
    }
   ],
   "source": [
    "\"\"\"\n",
    "fillna():\n",
    "         The fillna() function is used to fill missing values in a DataFrame or Series with a specified value or method.\n",
    "\n",
    "Syntax: \n",
    "       DataFrame.fillna(value=None, method=None, axis=None, inplace=False, limit=None)\n",
    "       Series.fillna(value=None, method=None, inplace=False, limit=None)\n",
    "\"\"\"\n",
    "# example: by filling of missing values with the use of fillna() function\n",
    "temp.fillna(4)       # it will fill all missing rows and columns"
   ]
  },
  {
   "cell_type": "code",
   "execution_count": 61,
   "id": "a51b32df-0dcd-413c-b634-9fe1db50ea0c",
   "metadata": {},
   "outputs": [
    {
     "data": {
      "text/plain": [
       "0     1.0\n",
       "1     2.0\n",
       "2     3.0\n",
       "3    5.29\n",
       "4     5.0\n",
       "5    5.29\n",
       "6     7.0\n",
       "7    5.29\n",
       "8     9.0\n",
       "9    10.0\n",
       "dtype: object"
      ]
     },
     "execution_count": 61,
     "metadata": {},
     "output_type": "execute_result"
    }
   ],
   "source": [
    "# if we want to fill values with this data mean we can do\n",
    "temp.fillna(f'{temp.mean():.2f}')    # it will fill all values with this data mean"
   ]
  },
  {
   "cell_type": "code",
   "execution_count": 8,
   "id": "92731787-e71c-4b73-adf1-7b1d7dce0185",
   "metadata": {},
   "outputs": [
    {
     "data": {
      "text/html": [
       "<div>\n",
       "<style scoped>\n",
       "    .dataframe tbody tr th:only-of-type {\n",
       "        vertical-align: middle;\n",
       "    }\n",
       "\n",
       "    .dataframe tbody tr th {\n",
       "        vertical-align: top;\n",
       "    }\n",
       "\n",
       "    .dataframe thead th {\n",
       "        text-align: right;\n",
       "    }\n",
       "</style>\n",
       "<table border=\"1\" class=\"dataframe\">\n",
       "  <thead>\n",
       "    <tr style=\"text-align: right;\">\n",
       "      <th></th>\n",
       "      <th>A</th>\n",
       "      <th>B</th>\n",
       "      <th>C</th>\n",
       "      <th>E</th>\n",
       "    </tr>\n",
       "  </thead>\n",
       "  <tbody>\n",
       "    <tr>\n",
       "      <th>0</th>\n",
       "      <td>1.0</td>\n",
       "      <td>5.0</td>\n",
       "      <td>NaN</td>\n",
       "      <td>12.0</td>\n",
       "    </tr>\n",
       "    <tr>\n",
       "      <th>1</th>\n",
       "      <td>2.0</td>\n",
       "      <td>NaN</td>\n",
       "      <td>NaN</td>\n",
       "      <td>NaN</td>\n",
       "    </tr>\n",
       "    <tr>\n",
       "      <th>2</th>\n",
       "      <td>NaN</td>\n",
       "      <td>NaN</td>\n",
       "      <td>NaN</td>\n",
       "      <td>NaN</td>\n",
       "    </tr>\n",
       "    <tr>\n",
       "      <th>3</th>\n",
       "      <td>4.0</td>\n",
       "      <td>8.0</td>\n",
       "      <td>8.0</td>\n",
       "      <td>5.0</td>\n",
       "    </tr>\n",
       "  </tbody>\n",
       "</table>\n",
       "</div>"
      ],
      "text/plain": [
       "     A    B    C     E\n",
       "0  1.0  5.0  NaN  12.0\n",
       "1  2.0  NaN  NaN   NaN\n",
       "2  NaN  NaN  NaN   NaN\n",
       "3  4.0  8.0  8.0   5.0"
      ]
     },
     "execution_count": 8,
     "metadata": {},
     "output_type": "execute_result"
    }
   ],
   "source": [
    "# suppose i have this dataframe dataset\n",
    "\n",
    "# Create a DataFrame with missing values\n",
    "df = pd.DataFrame({\n",
    "    'A': [1, 2, np.nan, 4],\n",
    "    'B': [5, np.nan, None, 8],\n",
    "    'C': [np.nan, np.nan, np.nan, 8],\n",
    "     \"E\" : [ 12, np.nan , np.nan , 5]\n",
    "})\n",
    "\n",
    "df"
   ]
  },
  {
   "cell_type": "code",
   "execution_count": 9,
   "id": "c369bf65-00b7-4d7a-a792-7d3cdc1bb7cd",
   "metadata": {},
   "outputs": [],
   "source": [
    "# First I want to remove those rows and columns which is mostly missing values\n",
    "df.dropna(thresh = 2, inplace = True)\n"
   ]
  },
  {
   "cell_type": "code",
   "execution_count": 10,
   "id": "4990c86a-933c-470f-b099-307b6149389a",
   "metadata": {},
   "outputs": [
    {
     "data": {
      "text/html": [
       "<div>\n",
       "<style scoped>\n",
       "    .dataframe tbody tr th:only-of-type {\n",
       "        vertical-align: middle;\n",
       "    }\n",
       "\n",
       "    .dataframe tbody tr th {\n",
       "        vertical-align: top;\n",
       "    }\n",
       "\n",
       "    .dataframe thead th {\n",
       "        text-align: right;\n",
       "    }\n",
       "</style>\n",
       "<table border=\"1\" class=\"dataframe\">\n",
       "  <thead>\n",
       "    <tr style=\"text-align: right;\">\n",
       "      <th></th>\n",
       "      <th>A</th>\n",
       "      <th>B</th>\n",
       "      <th>C</th>\n",
       "      <th>E</th>\n",
       "    </tr>\n",
       "  </thead>\n",
       "  <tbody>\n",
       "    <tr>\n",
       "      <th>0</th>\n",
       "      <td>1.0</td>\n",
       "      <td>5.0</td>\n",
       "      <td>NaN</td>\n",
       "      <td>12.0</td>\n",
       "    </tr>\n",
       "    <tr>\n",
       "      <th>3</th>\n",
       "      <td>4.0</td>\n",
       "      <td>8.0</td>\n",
       "      <td>8.0</td>\n",
       "      <td>5.0</td>\n",
       "    </tr>\n",
       "  </tbody>\n",
       "</table>\n",
       "</div>"
      ],
      "text/plain": [
       "     A    B    C     E\n",
       "0  1.0  5.0  NaN  12.0\n",
       "3  4.0  8.0  8.0   5.0"
      ]
     },
     "execution_count": 10,
     "metadata": {},
     "output_type": "execute_result"
    }
   ],
   "source": [
    "df\n"
   ]
  },
  {
   "cell_type": "code",
   "execution_count": 12,
   "id": "4a0b0b11-5140-4c10-8a31-e30b3cfe4dfc",
   "metadata": {},
   "outputs": [
    {
     "data": {
      "text/html": [
       "<div>\n",
       "<style scoped>\n",
       "    .dataframe tbody tr th:only-of-type {\n",
       "        vertical-align: middle;\n",
       "    }\n",
       "\n",
       "    .dataframe tbody tr th {\n",
       "        vertical-align: top;\n",
       "    }\n",
       "\n",
       "    .dataframe thead th {\n",
       "        text-align: right;\n",
       "    }\n",
       "</style>\n",
       "<table border=\"1\" class=\"dataframe\">\n",
       "  <thead>\n",
       "    <tr style=\"text-align: right;\">\n",
       "      <th></th>\n",
       "      <th>A</th>\n",
       "      <th>B</th>\n",
       "      <th>C</th>\n",
       "      <th>E</th>\n",
       "    </tr>\n",
       "  </thead>\n",
       "  <tbody>\n",
       "    <tr>\n",
       "      <th>0</th>\n",
       "      <td>1.0</td>\n",
       "      <td>5.0</td>\n",
       "      <td>8.0</td>\n",
       "      <td>12.0</td>\n",
       "    </tr>\n",
       "    <tr>\n",
       "      <th>3</th>\n",
       "      <td>4.0</td>\n",
       "      <td>8.0</td>\n",
       "      <td>8.0</td>\n",
       "      <td>5.0</td>\n",
       "    </tr>\n",
       "  </tbody>\n",
       "</table>\n",
       "</div>"
      ],
      "text/plain": [
       "     A    B    C     E\n",
       "0  1.0  5.0  8.0  12.0\n",
       "3  4.0  8.0  8.0   5.0"
      ]
     },
     "execution_count": 12,
     "metadata": {},
     "output_type": "execute_result"
    }
   ],
   "source": [
    "# fill missing values with the column specific values.\n",
    "# df = df.dropna(thresh = 'all', inplace = True)\n",
    "mean_value = df.mean(numeric_only = True).to_dict()\n",
    "fill_with_mean = df.fillna(mean_value, axis = 0)\n",
    "fill_with_mean"
   ]
  },
  {
   "cell_type": "markdown",
   "id": "e0d4e56d-0879-4083-8b2b-4a07abb345f7",
   "metadata": {},
   "source": [
    "### isin():"
   ]
  },
  {
   "cell_type": "code",
   "execution_count": 13,
   "id": "39700df0-0764-4879-9a10-82dc14c5721d",
   "metadata": {},
   "outputs": [
    {
     "data": {
      "text/plain": [
       "211"
      ]
     },
     "execution_count": 13,
     "metadata": {},
     "output_type": "execute_result"
    }
   ],
   "source": [
    "\"\"\"\n",
    "isin():\n",
    "       The isin() function in pandas is used to filter rows in a DataFrame or Series based on whether the values are contained in a specified list,\n",
    "       Series, or DataFrame. It returns a boolean mask indicating whether each element is present in the provided collection. This function is \n",
    "       particularly useful for filtering data based on specific values or categories.\n",
    "\"\"\"\n",
    "# example: find from vk dataset that he make runs any random values like 34, 23, or etc....\n",
    "vk[vk.isin([32, 23, 74, 20])].duplicated().sum()"
   ]
  },
  {
   "cell_type": "code",
   "execution_count": 119,
   "id": "ccca8ffe-4a61-4e35-807b-3595a7ceacfd",
   "metadata": {},
   "outputs": [
    {
     "data": {
      "text/plain": [
       "match_no\n",
       "15     50\n",
       "71     51\n",
       "103    51\n",
       "122    52\n",
       "129    54\n",
       "131    54\n",
       "137    55\n",
       "182    50\n",
       "197    51\n",
       "198    53\n",
       "Name: runs, dtype: int64"
      ]
     },
     "execution_count": 119,
     "metadata": {},
     "output_type": "execute_result"
    }
   ],
   "source": [
    "vk[vk.isin(np.arange(50,56))]"
   ]
  },
  {
   "cell_type": "code",
   "execution_count": 97,
   "id": "20257046-06d9-4667-958a-2e79e7b0c4cd",
   "metadata": {},
   "outputs": [
    {
     "name": "stdout",
     "output_type": "stream",
     "text": [
      "       A      B      C\n",
      "0  False  False  False\n",
      "1   True  False   True\n",
      "2  False  False   True\n",
      "3  False   True   True\n"
     ]
    }
   ],
   "source": [
    "import pandas as pd\n",
    "import numpy as np\n",
    "\n",
    "df = pd.DataFrame({\n",
    "    'A': [1, 2, np.nan, 4],\n",
    "    'B': [5, np.nan, None, 8],\n",
    "    'C': [7, 2, 9, 8]\n",
    "})\n",
    "\n",
    "# Check if elements are in given list\n",
    "mask = df.isin([2, 8, 9])\n",
    "print(mask)\n"
   ]
  },
  {
   "cell_type": "code",
   "execution_count": 99,
   "id": "e443b6cf-c072-4d67-a744-31c126c5e52b",
   "metadata": {},
   "outputs": [
    {
     "data": {
      "text/html": [
       "<div>\n",
       "<style scoped>\n",
       "    .dataframe tbody tr th:only-of-type {\n",
       "        vertical-align: middle;\n",
       "    }\n",
       "\n",
       "    .dataframe tbody tr th {\n",
       "        vertical-align: top;\n",
       "    }\n",
       "\n",
       "    .dataframe thead th {\n",
       "        text-align: right;\n",
       "    }\n",
       "</style>\n",
       "<table border=\"1\" class=\"dataframe\">\n",
       "  <thead>\n",
       "    <tr style=\"text-align: right;\">\n",
       "      <th></th>\n",
       "      <th>A</th>\n",
       "      <th>B</th>\n",
       "      <th>C</th>\n",
       "    </tr>\n",
       "  </thead>\n",
       "  <tbody>\n",
       "    <tr>\n",
       "      <th>0</th>\n",
       "      <td>1.0</td>\n",
       "      <td>5.0</td>\n",
       "      <td>7</td>\n",
       "    </tr>\n",
       "    <tr>\n",
       "      <th>3</th>\n",
       "      <td>4.0</td>\n",
       "      <td>8.0</td>\n",
       "      <td>8</td>\n",
       "    </tr>\n",
       "  </tbody>\n",
       "</table>\n",
       "</div>"
      ],
      "text/plain": [
       "     A    B  C\n",
       "0  1.0  5.0  7\n",
       "3  4.0  8.0  8"
      ]
     },
     "execution_count": 99,
     "metadata": {},
     "output_type": "execute_result"
    }
   ],
   "source": [
    "# Only those rows shows where in columns A is 1 and 4\n",
    "df = df[df['A'].isin([1,4])]\n",
    "df"
   ]
  },
  {
   "cell_type": "markdown",
   "id": "c23450df-2f7a-42dc-a90b-fcb840714c1c",
   "metadata": {},
   "source": [
    "### apply():"
   ]
  },
  {
   "cell_type": "code",
   "execution_count": 132,
   "id": "564d11f3-f0d0-49e8-84d4-e3d12e9c4bd5",
   "metadata": {},
   "outputs": [
    {
     "data": {
      "text/html": [
       "<div>\n",
       "<style scoped>\n",
       "    .dataframe tbody tr th:only-of-type {\n",
       "        vertical-align: middle;\n",
       "    }\n",
       "\n",
       "    .dataframe tbody tr th {\n",
       "        vertical-align: top;\n",
       "    }\n",
       "\n",
       "    .dataframe thead th {\n",
       "        text-align: right;\n",
       "    }\n",
       "</style>\n",
       "<table border=\"1\" class=\"dataframe\">\n",
       "  <thead>\n",
       "    <tr style=\"text-align: right;\">\n",
       "      <th></th>\n",
       "      <th>lead</th>\n",
       "    </tr>\n",
       "    <tr>\n",
       "      <th>movie</th>\n",
       "      <th></th>\n",
       "    </tr>\n",
       "  </thead>\n",
       "  <tbody>\n",
       "    <tr>\n",
       "      <th>uri:_the_surgical_strike</th>\n",
       "      <td>Vicky Kaushal</td>\n",
       "    </tr>\n",
       "    <tr>\n",
       "      <th>battalion_609</th>\n",
       "      <td>Vicky Ahuja</td>\n",
       "    </tr>\n",
       "    <tr>\n",
       "      <th>the_accidental_prime_minister_(film)</th>\n",
       "      <td>Anupam Kher</td>\n",
       "    </tr>\n",
       "    <tr>\n",
       "      <th>why_cheat_india</th>\n",
       "      <td>Emraan Hashmi</td>\n",
       "    </tr>\n",
       "    <tr>\n",
       "      <th>evening_shadows</th>\n",
       "      <td>Mona Ambegaonkar</td>\n",
       "    </tr>\n",
       "    <tr>\n",
       "      <th>...</th>\n",
       "      <td>...</td>\n",
       "    </tr>\n",
       "    <tr>\n",
       "      <th>hum_tumhare_hain_sanam</th>\n",
       "      <td>Shah Rukh Khan</td>\n",
       "    </tr>\n",
       "    <tr>\n",
       "      <th>aankhen_(2002_film)</th>\n",
       "      <td>Amitabh Bachchan</td>\n",
       "    </tr>\n",
       "    <tr>\n",
       "      <th>saathiya_(film)</th>\n",
       "      <td>Vivek Oberoi</td>\n",
       "    </tr>\n",
       "    <tr>\n",
       "      <th>company_(film)</th>\n",
       "      <td>Ajay Devgn</td>\n",
       "    </tr>\n",
       "    <tr>\n",
       "      <th>awara_paagal_deewana</th>\n",
       "      <td>Akshay Kumar</td>\n",
       "    </tr>\n",
       "  </tbody>\n",
       "</table>\n",
       "<p>1500 rows × 1 columns</p>\n",
       "</div>"
      ],
      "text/plain": [
       "                                                  lead\n",
       "movie                                                 \n",
       "uri:_the_surgical_strike                 Vicky Kaushal\n",
       "battalion_609                              Vicky Ahuja\n",
       "the_accidental_prime_minister_(film)       Anupam Kher\n",
       "why_cheat_india                          Emraan Hashmi\n",
       "evening_shadows                       Mona Ambegaonkar\n",
       "...                                                ...\n",
       "hum_tumhare_hain_sanam                  Shah Rukh Khan\n",
       "aankhen_(2002_film)                   Amitabh Bachchan\n",
       "saathiya_(film)                           Vivek Oberoi\n",
       "company_(film)                              Ajay Devgn\n",
       "awara_paagal_deewana                      Akshay Kumar\n",
       "\n",
       "[1500 rows x 1 columns]"
      ]
     },
     "execution_count": 132,
     "metadata": {},
     "output_type": "execute_result"
    }
   ],
   "source": [
    "\"\"\"\n",
    "apply():\n",
    "        The apply() function in pandas is used to apply a function along an axis (rows or columns) of a DataFrame or to each element of a Series.\n",
    "        It is a highly flexible and powerful tool for performing custom operations on your data. You can use it with built-in functions,\n",
    "        lambda functions, or custom-defined functions.\n",
    "syntax:\n",
    "        DataFrame.apply(func, axis=0, raw=False, result_type=None, args=(), **kwargs)\n",
    "        func → function jo apply karna hai (built-in ya custom).\n",
    "        axis=0 → column-wise apply karega (default).\n",
    "        axis=1 → row-wise apply karega.\n",
    "\n",
    "\n",
    "\"\"\"\n",
    "bollywood_df"
   ]
  },
  {
   "cell_type": "code",
   "execution_count": 135,
   "id": "0da4dd45-3459-4d41-baf3-deea8dcad7d3",
   "metadata": {},
   "outputs": [],
   "source": [
    "# The reason here why not picking movie because this is index not a column name or feature\n",
    "# bollywood_df['movie'].head()"
   ]
  },
  {
   "cell_type": "code",
   "execution_count": 139,
   "id": "6e99499a-bb5b-4af5-b20c-9822089c3165",
   "metadata": {},
   "outputs": [
    {
     "data": {
      "text/plain": [
       "movie\n",
       "uri:_the_surgical_strike                  VICKY\n",
       "battalion_609                             VICKY\n",
       "the_accidental_prime_minister_(film)     ANUPAM\n",
       "why_cheat_india                          EMRAAN\n",
       "evening_shadows                            MONA\n",
       "                                         ...   \n",
       "hum_tumhare_hain_sanam                     SHAH\n",
       "aankhen_(2002_film)                     AMITABH\n",
       "saathiya_(film)                           VIVEK\n",
       "company_(film)                             AJAY\n",
       "awara_paagal_deewana                     AKSHAY\n",
       "Name: lead, Length: 1500, dtype: object"
      ]
     },
     "execution_count": 139,
     "metadata": {},
     "output_type": "execute_result"
    }
   ],
   "source": [
    "# apply(): by used of apply function if someone say to me to split the actors name and just give me first name of actors like salman khan to salman:\n",
    "\n",
    "apply_func= bollywood_df['lead'].apply(lambda x :x.split()[0].upper())\n",
    "apply_func"
   ]
  },
  {
   "cell_type": "code",
   "execution_count": 129,
   "id": "fc244ae5-c4c2-45dd-bd7d-ec8e838a3bad",
   "metadata": {},
   "outputs": [
    {
     "name": "stdout",
     "output_type": "stream",
     "text": [
      "\n",
      "Range (max-min) per column:\n",
      " A     3.0\n",
      "B     3.0\n",
      "C     3.0\n",
      "D    30.0\n",
      "E     7.0\n",
      "dtype: float64\n"
     ]
    }
   ],
   "source": [
    "# Custom function with apply mehtod\n",
    "def my_func(x):\n",
    "    return x.max() - x.min()\n",
    "\n",
    "# Apply per column\n",
    "result = df.apply(my_func)\n",
    "print(\"\\nRange (max-min) per column:\\n\", result)\n"
   ]
  },
  {
   "cell_type": "code",
   "execution_count": 130,
   "id": "f1b1eefa-5e98-4f89-8259-e63c4bb91814",
   "metadata": {},
   "outputs": [
    {
     "name": "stdout",
     "output_type": "stream",
     "text": [
      "Original DF:\n",
      "      A    B  C\n",
      "0  1.0  5.0  7\n",
      "1  2.0  NaN  2\n",
      "2  NaN  NaN  9\n",
      "3  4.0  8.0  8\n",
      "\n",
      "Column-wise sum:\n",
      " A     7.0\n",
      "B    13.0\n",
      "C    26.0\n",
      "dtype: float64\n"
     ]
    }
   ],
   "source": [
    "import pandas as pd\n",
    "import numpy as np\n",
    "\n",
    "df = pd.DataFrame({\n",
    "    'A': [1, 2, np.nan, 4],\n",
    "    'B': [5, np.nan, None, 8],\n",
    "    'C': [7, 2, 9, 8]\n",
    "})\n",
    "\n",
    "print(\"Original DF:\\n\", df)\n",
    "\n",
    "# Apply sum on each column\n",
    "col_sum = df.apply(np.sum)\n",
    "print(\"\\nColumn-wise sum:\\n\", col_sum)\n"
   ]
  },
  {
   "cell_type": "code",
   "execution_count": 147,
   "id": "11862272-e2f6-4f25-be15-396a3d5c2041",
   "metadata": {},
   "outputs": [
    {
     "data": {
      "text/html": [
       "<div>\n",
       "<style scoped>\n",
       "    .dataframe tbody tr th:only-of-type {\n",
       "        vertical-align: middle;\n",
       "    }\n",
       "\n",
       "    .dataframe tbody tr th {\n",
       "        vertical-align: top;\n",
       "    }\n",
       "\n",
       "    .dataframe thead th {\n",
       "        text-align: right;\n",
       "    }\n",
       "</style>\n",
       "<table border=\"1\" class=\"dataframe\">\n",
       "  <thead>\n",
       "    <tr style=\"text-align: right;\">\n",
       "      <th></th>\n",
       "      <th>subscribers_gained</th>\n",
       "    </tr>\n",
       "  </thead>\n",
       "  <tbody>\n",
       "    <tr>\n",
       "      <th>0</th>\n",
       "      <td>48</td>\n",
       "    </tr>\n",
       "    <tr>\n",
       "      <th>1</th>\n",
       "      <td>57</td>\n",
       "    </tr>\n",
       "    <tr>\n",
       "      <th>2</th>\n",
       "      <td>40</td>\n",
       "    </tr>\n",
       "    <tr>\n",
       "      <th>3</th>\n",
       "      <td>43</td>\n",
       "    </tr>\n",
       "    <tr>\n",
       "      <th>4</th>\n",
       "      <td>44</td>\n",
       "    </tr>\n",
       "    <tr>\n",
       "      <th>...</th>\n",
       "      <td>...</td>\n",
       "    </tr>\n",
       "    <tr>\n",
       "      <th>360</th>\n",
       "      <td>231</td>\n",
       "    </tr>\n",
       "    <tr>\n",
       "      <th>361</th>\n",
       "      <td>226</td>\n",
       "    </tr>\n",
       "    <tr>\n",
       "      <th>362</th>\n",
       "      <td>155</td>\n",
       "    </tr>\n",
       "    <tr>\n",
       "      <th>363</th>\n",
       "      <td>144</td>\n",
       "    </tr>\n",
       "    <tr>\n",
       "      <th>364</th>\n",
       "      <td>172</td>\n",
       "    </tr>\n",
       "  </tbody>\n",
       "</table>\n",
       "<p>365 rows × 1 columns</p>\n",
       "</div>"
      ],
      "text/plain": [
       "     subscribers_gained\n",
       "0                    48\n",
       "1                    57\n",
       "2                    40\n",
       "3                    43\n",
       "4                    44\n",
       "..                  ...\n",
       "360                 231\n",
       "361                 226\n",
       "362                 155\n",
       "363                 144\n",
       "364                 172\n",
       "\n",
       "[365 rows x 1 columns]"
      ]
     },
     "execution_count": 147,
     "metadata": {},
     "output_type": "execute_result"
    }
   ],
   "source": [
    "channel_subs"
   ]
  },
  {
   "cell_type": "code",
   "execution_count": 140,
   "id": "636137fb-e994-4535-8e69-89b7af919bb7",
   "metadata": {},
   "outputs": [
    {
     "data": {
      "text/plain": [
       "0     Bad days\n",
       "1     Bad days\n",
       "2     Bad days\n",
       "3    Good days\n",
       "4    Good days\n",
       "dtype: object"
      ]
     },
     "execution_count": 140,
     "metadata": {},
     "output_type": "execute_result"
    }
   ],
   "source": [
    "import pandas as pd\n",
    "\n",
    "# Example Series\n",
    "subs = pd.Series([10, 20, 30, 40, 50])\n",
    "\n",
    "# Apply the lambda function\n",
    "result = subs.apply(lambda x: 'Good days' if x>subs.mean() else 'Bad days')\n",
    "result"
   ]
  },
  {
   "cell_type": "code",
   "execution_count": 148,
   "id": "ab7be07d-3f2d-4976-b2c8-6cc3e24a4cdc",
   "metadata": {},
   "outputs": [
    {
     "data": {
      "text/plain": [
       "subscribers_gained    135.643836\n",
       "dtype: float64"
      ]
     },
     "execution_count": 148,
     "metadata": {},
     "output_type": "execute_result"
    }
   ],
   "source": [
    "subs_mean = channel_subs.mean()\n",
    "subs_mean"
   ]
  },
  {
   "cell_type": "code",
   "execution_count": 155,
   "id": "46098db5-6586-4c20-a880-f7d92e4036bf",
   "metadata": {},
   "outputs": [
    {
     "data": {
      "text/plain": [
       "subscribers_gained    202\n",
       "dtype: int64"
      ]
     },
     "execution_count": 155,
     "metadata": {},
     "output_type": "execute_result"
    }
   ],
   "source": [
    "# It means these days my channel gained less than mean\n",
    "\n",
    "channel_subs[channel_subs < subs_mean].count()\n"
   ]
  },
  {
   "cell_type": "code",
   "execution_count": 156,
   "id": "af8f1696-3e27-41c8-b933-6d9f1573058e",
   "metadata": {},
   "outputs": [
    {
     "data": {
      "text/plain": [
       "subscribers_gained    163\n",
       "dtype: int64"
      ]
     },
     "execution_count": 156,
     "metadata": {},
     "output_type": "execute_result"
    }
   ],
   "source": [
    "# It means these days my channel gained greater than all average and i'm happy these days\n",
    "\n",
    "channel_subs[channel_subs > subs_mean].count()"
   ]
  },
  {
   "cell_type": "code",
   "execution_count": 158,
   "id": "26d92c8e-379d-4820-bb4e-c2fb08416b1e",
   "metadata": {},
   "outputs": [
    {
     "data": {
      "text/plain": [
       "0       bad days\n",
       "1       bad days\n",
       "2       bad days\n",
       "3       bad days\n",
       "4       bad days\n",
       "         ...    \n",
       "360    good days\n",
       "361    good days\n",
       "362    good days\n",
       "363    good days\n",
       "364    good days\n",
       "Name: subscribers_gained, Length: 365, dtype: object"
      ]
     },
     "execution_count": 158,
     "metadata": {},
     "output_type": "execute_result"
    }
   ],
   "source": [
    "# apply(): by of this function i can perform lambda function\n",
    "# resutl = subs.apply(lambda x:'good days' if x > subs.mean() else 'bad days')\n",
    "# result\n",
    "# don't now why give this an error\n",
    "result = channel_subs['subscribers_gained'].apply(lambda x: 'good days' if x > channel_subs['subscribers_gained'].mean() else 'bad days')  \n",
    "result  "
   ]
  },
  {
   "cell_type": "code",
   "execution_count": 161,
   "id": "bdcc15b0-8a84-4225-94d8-b8996ec7f1ce",
   "metadata": {},
   "outputs": [
    {
     "data": {
      "text/plain": [
       "(array([  0,   1,   2,   3,   4,   5,   6,   7,   8,   9,  10,  11,  12,\n",
       "         13,  14,  15,  16,  17,  18,  19,  20,  21,  22,  23,  24,  25,\n",
       "         26,  27,  28,  29,  30,  31,  32,  33,  34,  35,  36,  37,  38,\n",
       "         39,  40,  41,  42,  43,  44,  45,  46,  47,  48,  49,  50,  51,\n",
       "         52,  53,  54,  55,  56,  57,  58,  59,  60,  61,  62,  63,  64,\n",
       "         65,  66,  67,  68,  69,  70,  71,  72,  73,  74,  75,  76,  77,\n",
       "         78,  79,  80,  81,  82,  83,  84,  85,  86,  87,  88,  89,  90,\n",
       "         91,  92,  93,  94,  95,  96,  97,  98,  99, 100, 101, 102, 103,\n",
       "        104, 105, 106, 107, 108, 109, 110, 111, 112, 113, 114, 115, 116,\n",
       "        117, 118, 119, 120, 121, 122, 123, 124, 125, 126, 127, 128, 129,\n",
       "        130, 131, 132, 133, 134, 135, 136, 137, 138, 139, 140, 141, 142,\n",
       "        143, 144, 145, 146, 147, 148, 149, 150, 151, 152, 153, 154, 155,\n",
       "        156, 157, 158, 159, 160, 161, 162, 163, 164, 165, 166, 167, 168,\n",
       "        169, 170, 171, 172, 173, 174, 175, 176, 177, 178, 179, 180, 181,\n",
       "        182, 183, 184, 185, 186, 187, 188, 189, 190, 191, 192, 193, 194,\n",
       "        195, 196, 197, 198, 199, 200, 201], dtype=int64),)"
      ]
     },
     "execution_count": 161,
     "metadata": {},
     "output_type": "execute_result"
    }
   ],
   "source": [
    "# These index where my subscribers less than mean\n",
    "np.where(result[result == 'bad days'])"
   ]
  },
  {
   "cell_type": "code",
   "execution_count": 22,
   "id": "cf2175d0-f2cf-4c7d-9c3b-5fcd65fa1cfd",
   "metadata": {},
   "outputs": [
    {
     "data": {
      "text/plain": [
       "163"
      ]
     },
     "execution_count": 22,
     "metadata": {},
     "output_type": "execute_result"
    }
   ],
   "source": [
    "result[result == 'good days'].count()"
   ]
  },
  {
   "cell_type": "markdown",
   "id": "19a8ed1d-94db-4303-8249-f7ba1fade27c",
   "metadata": {},
   "source": [
    "### copy():"
   ]
  },
  {
   "cell_type": "code",
   "execution_count": 157,
   "id": "b558fe91-6594-410f-8593-7fb3beb83323",
   "metadata": {},
   "outputs": [
    {
     "data": {
      "text/plain": [
       "match_no\n",
       "1       1\n",
       "2      23\n",
       "3      13\n",
       "4      12\n",
       "5       1\n",
       "       ..\n",
       "211     0\n",
       "212    20\n",
       "213    73\n",
       "214    25\n",
       "215     7\n",
       "Name: runs, Length: 215, dtype: int64"
      ]
     },
     "execution_count": 157,
     "metadata": {},
     "output_type": "execute_result"
    }
   ],
   "source": [
    "\"\"\"\n",
    "copy():\n",
    "        The copy() function in pandas is used to create a deep copy of a DataFrame or Series. This means that the new object is completely independent\n",
    "        of the original, and any modifications to the copied object will not affect the original, and vice versa. This is particularly useful when you\n",
    "        want to manipulate or analyze data without altering the original dataset.\n",
    "\n",
    "Why Use copy()? :\n",
    "                Avoid Unintended Modifications: If you assign a DataFrame or Series to a new variable without using copy(),\n",
    "                both variables will reference the same object in memory. Changes to one will affect the other.\n",
    "\n",
    "     Create Independent Copies: Using copy() ensures that the new object is independent, so you can safely modify it without worrying about side effects.\n",
    "\n",
    "Key Points:\n",
    "           Use copy() to create an independent copy of a DataFrame or Series.\n",
    "           Modifications to the copied object will not affect the original, and vice versa.\n",
    "           This is particularly useful when you want to manipulate or analyze data without altering the original dataset.\n",
    "\n",
    "When to Use copy():\n",
    "                   Data Manipulation:   When you need to perform operations on a dataset but want to preserve the original.\n",
    "                   Experimentation:     When you want to test changes without affecting the original data.\n",
    "                Avoiding Side Effects:   When working with functions that modify data in-place, creating a copy ensures the original data remains intact.\n",
    "\n",
    "\"\"\"\n",
    "vk"
   ]
  },
  {
   "cell_type": "code",
   "execution_count": 162,
   "id": "2b72bf81-7ca1-42c5-a031-2678245bb9ff",
   "metadata": {},
   "outputs": [
    {
     "data": {
      "text/plain": [
       "match_no\n",
       "1     1\n",
       "2    23\n",
       "3    13\n",
       "4    12\n",
       "5     1\n",
       "Name: runs, dtype: int64"
      ]
     },
     "execution_count": 162,
     "metadata": {},
     "output_type": "execute_result"
    }
   ],
   "source": [
    "# from original data take head which means first five rows:\n",
    "head_data = vk.head()\n",
    "head_data"
   ]
  },
  {
   "cell_type": "code",
   "execution_count": 163,
   "id": "b1e2b592-e391-49da-9231-c02f21d6ff61",
   "metadata": {},
   "outputs": [
    {
     "data": {
      "text/plain": [
       "match_no\n",
       "1     1\n",
       "2    23\n",
       "3    13\n",
       "4    12\n",
       "5     1\n",
       "Name: runs, dtype: int64"
      ]
     },
     "execution_count": 163,
     "metadata": {},
     "output_type": "execute_result"
    }
   ],
   "source": [
    "# this is a copy of head: but if i want to modified this data i can do but it's modification will not affect on original dataset\n",
    "new_data = head_data.copy()\n",
    "new_data"
   ]
  },
  {
   "cell_type": "code",
   "execution_count": 172,
   "id": "7fc58390-db93-4082-a799-7ce15ef223a2",
   "metadata": {},
   "outputs": [
    {
     "data": {
      "text/plain": [
       "match_no\n",
       "1     1\n",
       "2    23\n",
       "3    13\n",
       "4    30\n",
       "5    50\n",
       "Name: runs, dtype: int64"
      ]
     },
     "execution_count": 172,
     "metadata": {},
     "output_type": "execute_result"
    }
   ],
   "source": [
    "# i want to change in 4 index not 12 i give 30 it permanently modified but in copied data not original :\n",
    "new_data[5] = 50\n",
    "new_data"
   ]
  },
  {
   "cell_type": "code",
   "execution_count": 173,
   "id": "f47a764c-cd6b-4d8e-81f1-bc84c1636d90",
   "metadata": {},
   "outputs": [
    {
     "name": "stdout",
     "output_type": "stream",
     "text": [
      " original data match_no\n",
      "1     1\n",
      "2    23\n",
      "3    13\n",
      "4    12\n",
      "5     1\n",
      "Name: runs, dtype: int64\n",
      "modified data  match_no\n",
      "1     1\n",
      "2    23\n",
      "3    13\n",
      "4    30\n",
      "5    50\n",
      "Name: runs, dtype: int64\n"
     ]
    }
   ],
   "source": [
    "# now i check the mofication in data does affect in original data\n",
    "print(\" original data\", head_data)\n",
    "print(\"modified data \" , new_data)\n",
    "\n",
    "# it simpy mean when we want to modified any dataset we copy of it then we perform operation and etc.."
   ]
  },
  {
   "cell_type": "markdown",
   "id": "19f7a6fd-04e5-481b-aac8-75e3099a4b59",
   "metadata": {},
   "source": [
    "### copy() :"
   ]
  },
  {
   "cell_type": "code",
   "execution_count": 163,
   "id": "54546ec0-44ce-4b2d-b24c-744488a0aaca",
   "metadata": {},
   "outputs": [
    {
     "data": {
      "text/html": [
       "<div>\n",
       "<style scoped>\n",
       "    .dataframe tbody tr th:only-of-type {\n",
       "        vertical-align: middle;\n",
       "    }\n",
       "\n",
       "    .dataframe tbody tr th {\n",
       "        vertical-align: top;\n",
       "    }\n",
       "\n",
       "    .dataframe thead th {\n",
       "        text-align: right;\n",
       "    }\n",
       "</style>\n",
       "<table border=\"1\" class=\"dataframe\">\n",
       "  <thead>\n",
       "    <tr style=\"text-align: right;\">\n",
       "      <th></th>\n",
       "      <th>subscribers_gained</th>\n",
       "    </tr>\n",
       "  </thead>\n",
       "  <tbody>\n",
       "    <tr>\n",
       "      <th>0</th>\n",
       "      <td>48</td>\n",
       "    </tr>\n",
       "    <tr>\n",
       "      <th>1</th>\n",
       "      <td>57</td>\n",
       "    </tr>\n",
       "    <tr>\n",
       "      <th>2</th>\n",
       "      <td>40</td>\n",
       "    </tr>\n",
       "    <tr>\n",
       "      <th>3</th>\n",
       "      <td>43</td>\n",
       "    </tr>\n",
       "    <tr>\n",
       "      <th>4</th>\n",
       "      <td>44</td>\n",
       "    </tr>\n",
       "  </tbody>\n",
       "</table>\n",
       "</div>"
      ],
      "text/plain": [
       "   subscribers_gained\n",
       "0                  48\n",
       "1                  57\n",
       "2                  40\n",
       "3                  43\n",
       "4                  44"
      ]
     },
     "execution_count": 163,
     "metadata": {},
     "output_type": "execute_result"
    }
   ],
   "source": [
    "# load dataset\n",
    "import pandas as pd\n",
    "\n",
    "# Load the dataset\n",
    "subs = pd.read_csv('Session_16_Dataset/subs.csv')\n",
    "subs.rename(columns = lambda x:x.strip().lower().replace(' ', '_'), inplace = True) \n",
    "# Display the first few rows\n",
    "subs.head()"
   ]
  },
  {
   "cell_type": "code",
   "execution_count": 164,
   "id": "4b4ae725-b0fd-4fb7-9fcc-8ce12932b199",
   "metadata": {},
   "outputs": [
    {
     "data": {
      "text/html": [
       "<div>\n",
       "<style scoped>\n",
       "    .dataframe tbody tr th:only-of-type {\n",
       "        vertical-align: middle;\n",
       "    }\n",
       "\n",
       "    .dataframe tbody tr th {\n",
       "        vertical-align: top;\n",
       "    }\n",
       "\n",
       "    .dataframe thead th {\n",
       "        text-align: right;\n",
       "    }\n",
       "</style>\n",
       "<table border=\"1\" class=\"dataframe\">\n",
       "  <thead>\n",
       "    <tr style=\"text-align: right;\">\n",
       "      <th></th>\n",
       "      <th>subscribers_gained</th>\n",
       "    </tr>\n",
       "  </thead>\n",
       "  <tbody>\n",
       "    <tr>\n",
       "      <th>0</th>\n",
       "      <td>48</td>\n",
       "    </tr>\n",
       "    <tr>\n",
       "      <th>1</th>\n",
       "      <td>57</td>\n",
       "    </tr>\n",
       "    <tr>\n",
       "      <th>2</th>\n",
       "      <td>40</td>\n",
       "    </tr>\n",
       "    <tr>\n",
       "      <th>3</th>\n",
       "      <td>43</td>\n",
       "    </tr>\n",
       "    <tr>\n",
       "      <th>4</th>\n",
       "      <td>44</td>\n",
       "    </tr>\n",
       "  </tbody>\n",
       "</table>\n",
       "</div>"
      ],
      "text/plain": [
       "   subscribers_gained\n",
       "0                  48\n",
       "1                  57\n",
       "2                  40\n",
       "3                  43\n",
       "4                  44"
      ]
     },
     "execution_count": 164,
     "metadata": {},
     "output_type": "execute_result"
    }
   ],
   "source": [
    "# create the copy of the dataSet\n",
    "# Create a deep copy of the dataset\n",
    "subs_copy = subs.copy()\n",
    "\n",
    "# Display the first few rows of the copy\n",
    "subs_copy.head()"
   ]
  },
  {
   "cell_type": "code",
   "execution_count": 166,
   "id": "3e17a68f-1300-425f-ac69-a9522bbcaabd",
   "metadata": {},
   "outputs": [
    {
     "name": "stdout",
     "output_type": "stream",
     "text": [
      "Modified Copy:\n",
      "   subscribers_gained\n",
      "0                  96\n",
      "1                 114\n",
      "2                  80\n",
      "3                  86\n",
      "4                  88\n",
      "\n",
      "Original Dataset:\n",
      "   subscribers_gained\n",
      "0                  48\n",
      "1                  57\n",
      "2                  40\n",
      "3                  43\n",
      "4                  44\n"
     ]
    }
   ],
   "source": [
    "# Verify independence of the copy:\n",
    "# Modify the copied dataset and verify that the original dataset remains unchanged:\n",
    "\n",
    "# Modify the copied dataset\n",
    "subs_copy['subscribers_gained'] = subs_copy['subscribers_gained'] * 2\n",
    "\n",
    "# Display the first few rows of the modified copy\n",
    "print(\"Modified Copy:\")\n",
    "print(subs_copy.head())\n",
    "\n",
    "# Display the first few rows of the original dataset\n",
    "print(\"\\nOriginal Dataset:\")\n",
    "print(subs.head())"
   ]
  },
  {
   "cell_type": "code",
   "execution_count": 174,
   "id": "49b2bc11-410c-4f5f-b52a-22f3c0a749ce",
   "metadata": {},
   "outputs": [
    {
     "name": "stdout",
     "output_type": "stream",
     "text": [
      "Mean of dataset:\n",
      " subscribers_gained    135.643836\n",
      "dtype: float64\n",
      "median of dataset:\n",
      " subscribers_gained    123.0\n",
      "dtype: float64\n",
      "minimum of dataset:\n",
      " subscribers_gained    33\n",
      "dtype: int64\n",
      "maximum of dataset:\n",
      " subscribers_gained    396\n",
      "dtype: int64\n"
     ]
    }
   ],
   "source": [
    "print(f'Mean of dataset:\\n {subs.mean()}')\n",
    "print(f'median of dataset:\\n {subs.median()}')\n",
    "print(f'minimum of dataset:\\n {subs.min()}')\n",
    "print(f'maximum of dataset:\\n {subs.max()}')\n"
   ]
  },
  {
   "cell_type": "code",
   "execution_count": 181,
   "id": "aeb1538f-3f8f-453e-aca8-bedd872475fa",
   "metadata": {},
   "outputs": [
    {
     "name": "stdout",
     "output_type": "stream",
     "text": [
      "     subscribers_gained  Classification\n",
      "263                 184       Good Days\n",
      "39                   62        bad days\n",
      "57                   72        bad days\n",
      "243                 173       Good Days\n",
      "113                  96        bad days\n",
      "124                  77        bad days\n",
      "227                 214  Very Nice days\n",
      "107                 100        bad days\n",
      "180                  93        bad days\n",
      "91                   81        bad days\n"
     ]
    }
   ],
   "source": [
    "\"\"\" Use case for copy() :\n",
    "A common use case for copy() is when you want to perform operations on a dataset without altering the original. For example, let's classify the \n",
    "\"Subscribers gained\" column into \"good days\" and \"bad days\" based on the mean, but do so on a copy of the dataset:\n",
    "\"\"\"\n",
    "# Create a copy of the dataset\n",
    "subs_copy = subs.copy()\n",
    "\n",
    "# Calculate the mean of the \"Subscribers gained\" column\n",
    "mean_subs = subs_copy['subscribers_gained'].mean()\n",
    "\n",
    "# Classify each value as \"good days\" or \"bad days\"\n",
    "subs_copy['Classification'] = subs_copy['subscribers_gained'].apply(\n",
    "    lambda x: 'Very Nice days' if x >= 200 else ('Good Days' if x >= mean_subs else 'bad days')\n",
    ")\n",
    "\n",
    "\n",
    "# Display the first few rows of the modified copy\n",
    "print(subs_copy.sample(10))"
   ]
  },
  {
   "cell_type": "code",
   "execution_count": 4,
   "id": "5cd5ff56-b022-466b-a3d8-6431a53fac2d",
   "metadata": {},
   "outputs": [
    {
     "data": {
      "text/html": [
       "<div>\n",
       "<style scoped>\n",
       "    .dataframe tbody tr th:only-of-type {\n",
       "        vertical-align: middle;\n",
       "    }\n",
       "\n",
       "    .dataframe tbody tr th {\n",
       "        vertical-align: top;\n",
       "    }\n",
       "\n",
       "    .dataframe thead th {\n",
       "        text-align: right;\n",
       "    }\n",
       "</style>\n",
       "<table border=\"1\" class=\"dataframe\">\n",
       "  <thead>\n",
       "    <tr style=\"text-align: right;\">\n",
       "      <th></th>\n",
       "      <th>ID</th>\n",
       "      <th>Name</th>\n",
       "      <th>Score</th>\n",
       "    </tr>\n",
       "  </thead>\n",
       "  <tbody>\n",
       "    <tr>\n",
       "      <th>0</th>\n",
       "      <td>1</td>\n",
       "      <td>Ali</td>\n",
       "      <td>90</td>\n",
       "    </tr>\n",
       "    <tr>\n",
       "      <th>1</th>\n",
       "      <td>2</td>\n",
       "      <td>Sara</td>\n",
       "      <td>88</td>\n",
       "    </tr>\n",
       "  </tbody>\n",
       "</table>\n",
       "</div>"
      ],
      "text/plain": [
       "   ID  Name  Score\n",
       "0   1   Ali     90\n",
       "1   2  Sara     88"
      ]
     },
     "execution_count": 4,
     "metadata": {},
     "output_type": "execute_result"
    }
   ],
   "source": [
    "import pandas as pd\n",
    "df1 = pd.DataFrame({\"ID\":[1,2], \"Name\":[\"Ali\",\"Sara\"]})\n",
    "df2 = pd.DataFrame({\"ID\":[1,2], \"Score\":[90,88]})\n",
    "\n",
    "pd.merge(df1, df2, on=\"ID\")\n",
    "\n"
   ]
  },
  {
   "cell_type": "code",
   "execution_count": 5,
   "id": "807a96fc-1e1e-4a88-83c7-22f63eaf626c",
   "metadata": {},
   "outputs": [
    {
     "data": {
      "text/plain": [
       "2025-01-01     3\n",
       "2025-01-03     7\n",
       "2025-01-05    11\n",
       "Freq: 2D, dtype: int64"
      ]
     },
     "execution_count": 5,
     "metadata": {},
     "output_type": "execute_result"
    }
   ],
   "source": [
    "dates = pd.date_range(\"2025-01-01\", periods=6)\n",
    "ts = pd.Series([1,2,3,4,5,6], index=dates)\n",
    "ts.resample(\"2D\").sum()\n"
   ]
  },
  {
   "cell_type": "code",
   "execution_count": 7,
   "id": "59d77a46-9241-4330-96d7-72e24e7909bd",
   "metadata": {},
   "outputs": [
    {
     "data": {
      "text/html": [
       "<div>\n",
       "<style scoped>\n",
       "    .dataframe tbody tr th:only-of-type {\n",
       "        vertical-align: middle;\n",
       "    }\n",
       "\n",
       "    .dataframe tbody tr th {\n",
       "        vertical-align: top;\n",
       "    }\n",
       "\n",
       "    .dataframe thead th {\n",
       "        text-align: right;\n",
       "    }\n",
       "</style>\n",
       "<table border=\"1\" class=\"dataframe\">\n",
       "  <thead>\n",
       "    <tr style=\"text-align: right;\">\n",
       "      <th></th>\n",
       "      <th>Name</th>\n",
       "      <th>Age</th>\n",
       "      <th>Score</th>\n",
       "    </tr>\n",
       "  </thead>\n",
       "  <tbody>\n",
       "    <tr>\n",
       "      <th>0</th>\n",
       "      <td>Majid</td>\n",
       "      <td>22</td>\n",
       "      <td>90</td>\n",
       "    </tr>\n",
       "    <tr>\n",
       "      <th>1</th>\n",
       "      <td>Ali</td>\n",
       "      <td>25</td>\n",
       "      <td>85</td>\n",
       "    </tr>\n",
       "    <tr>\n",
       "      <th>2</th>\n",
       "      <td>Sara</td>\n",
       "      <td>23</td>\n",
       "      <td>88</td>\n",
       "    </tr>\n",
       "  </tbody>\n",
       "</table>\n",
       "</div>"
      ],
      "text/plain": [
       "    Name  Age  Score\n",
       "0  Majid   22     90\n",
       "1    Ali   25     85\n",
       "2   Sara   23     88"
      ]
     },
     "execution_count": 7,
     "metadata": {},
     "output_type": "execute_result"
    }
   ],
   "source": [
    "data = {\n",
    "    \"Name\": [\"Majid\", \"Ali\", \"Sara\"],\n",
    "    \"Age\": [22, 25, 23],\n",
    "    \"Score\": [90, 85, 88]\n",
    "}\n",
    "\n",
    "df = pd.DataFrame(data)\n",
    "df\n"
   ]
  },
  {
   "cell_type": "code",
   "execution_count": 9,
   "id": "d17b8937-f5dd-4f82-bf3e-8bb257089f4b",
   "metadata": {},
   "outputs": [
    {
     "data": {
      "text/html": [
       "<div>\n",
       "<style scoped>\n",
       "    .dataframe tbody tr th:only-of-type {\n",
       "        vertical-align: middle;\n",
       "    }\n",
       "\n",
       "    .dataframe tbody tr th {\n",
       "        vertical-align: top;\n",
       "    }\n",
       "\n",
       "    .dataframe thead th {\n",
       "        text-align: right;\n",
       "    }\n",
       "</style>\n",
       "<table border=\"1\" class=\"dataframe\">\n",
       "  <thead>\n",
       "    <tr style=\"text-align: right;\">\n",
       "      <th></th>\n",
       "      <th>Name</th>\n",
       "      <th>Age</th>\n",
       "      <th>Score</th>\n",
       "    </tr>\n",
       "  </thead>\n",
       "  <tbody>\n",
       "    <tr>\n",
       "      <th>0</th>\n",
       "      <td>Majid</td>\n",
       "      <td>22</td>\n",
       "      <td>90</td>\n",
       "    </tr>\n",
       "    <tr>\n",
       "      <th>1</th>\n",
       "      <td>Ali</td>\n",
       "      <td>25</td>\n",
       "      <td>85</td>\n",
       "    </tr>\n",
       "    <tr>\n",
       "      <th>2</th>\n",
       "      <td>Sara</td>\n",
       "      <td>23</td>\n",
       "      <td>88</td>\n",
       "    </tr>\n",
       "  </tbody>\n",
       "</table>\n",
       "</div>"
      ],
      "text/plain": [
       "    Name  Age  Score\n",
       "0  Majid   22     90\n",
       "1    Ali   25     85\n",
       "2   Sara   23     88"
      ]
     },
     "execution_count": 9,
     "metadata": {},
     "output_type": "execute_result"
    }
   ],
   "source": [
    "# Z-score method (outliers ka approx detection)\n",
    "import numpy as np\n",
    "z_scores = (df[\"Score\"] - df[\"Score\"].mean()) / df[\"Score\"].std()\n",
    "df = df[(np.abs(z_scores) < 3)]\n",
    "df"
   ]
  },
  {
   "cell_type": "code",
   "execution_count": 10,
   "id": "b6868a7d-a3d3-4cea-9614-14f3eb2d7cd3",
   "metadata": {},
   "outputs": [
    {
     "data": {
      "text/html": [
       "<div>\n",
       "<style scoped>\n",
       "    .dataframe tbody tr th:only-of-type {\n",
       "        vertical-align: middle;\n",
       "    }\n",
       "\n",
       "    .dataframe tbody tr th {\n",
       "        vertical-align: top;\n",
       "    }\n",
       "\n",
       "    .dataframe thead th {\n",
       "        text-align: right;\n",
       "    }\n",
       "</style>\n",
       "<table border=\"1\" class=\"dataframe\">\n",
       "  <thead>\n",
       "    <tr style=\"text-align: right;\">\n",
       "      <th></th>\n",
       "      <th>Name</th>\n",
       "      <th>Age</th>\n",
       "      <th>Score</th>\n",
       "      <th>Age_group</th>\n",
       "    </tr>\n",
       "  </thead>\n",
       "  <tbody>\n",
       "    <tr>\n",
       "      <th>0</th>\n",
       "      <td>Majid</td>\n",
       "      <td>22</td>\n",
       "      <td>90</td>\n",
       "      <td>Young</td>\n",
       "    </tr>\n",
       "    <tr>\n",
       "      <th>1</th>\n",
       "      <td>Ali</td>\n",
       "      <td>25</td>\n",
       "      <td>85</td>\n",
       "      <td>Young</td>\n",
       "    </tr>\n",
       "    <tr>\n",
       "      <th>2</th>\n",
       "      <td>Sara</td>\n",
       "      <td>23</td>\n",
       "      <td>88</td>\n",
       "      <td>Young</td>\n",
       "    </tr>\n",
       "  </tbody>\n",
       "</table>\n",
       "</div>"
      ],
      "text/plain": [
       "    Name  Age  Score Age_group\n",
       "0  Majid   22     90     Young\n",
       "1    Ali   25     85     Young\n",
       "2   Sara   23     88     Young"
      ]
     },
     "execution_count": 10,
     "metadata": {},
     "output_type": "execute_result"
    }
   ],
   "source": [
    "df[\"Age_group\"] = pd.cut(df[\"Age\"], bins=[0,18,35,60,100], labels=[\"Teen\",\"Young\",\"Adult\",\"Senior\"])\n",
    "df"
   ]
  },
  {
   "cell_type": "markdown",
   "id": "68c317b1-d1ff-456c-8e64-e271bb60f08a",
   "metadata": {},
   "source": [
    "## Last Update:"
   ]
  },
  {
   "cell_type": "code",
   "execution_count": 183,
   "id": "4cf4cf40-d106-45fc-8e4c-f2f95151d87b",
   "metadata": {},
   "outputs": [
    {
     "name": "stdout",
     "output_type": "stream",
     "text": [
      "    August 2025\n",
      "Mo Tu We Th Fr Sa Su\n",
      "             1  2  3\n",
      " 4  5  6  7  8  9 10\n",
      "11 12 13 14 15 16 17\n",
      "18 19 20 21 22 23 24\n",
      "25 26 27 28 29 30 31\n",
      "\n"
     ]
    }
   ],
   "source": [
    "import calendar\n",
    "yy = 2025\n",
    "mm = 8\n",
    "print(calendar.month(yy, mm))"
   ]
  },
  {
   "cell_type": "code",
   "execution_count": 184,
   "id": "cea13d8b-f624-4cc5-a35a-902b171c4fe9",
   "metadata": {},
   "outputs": [
    {
     "name": "stdout",
     "output_type": "stream",
     "text": [
      "31\n"
     ]
    }
   ],
   "source": [
    "from datetime import datetime\n",
    "day = datetime.today().day\n",
    "print(day)"
   ]
  },
  {
   "cell_type": "code",
   "execution_count": null,
   "id": "b80f9cc1-4cf5-4187-84fb-bdc1ec83e727",
   "metadata": {},
   "outputs": [],
   "source": []
  }
 ],
 "metadata": {
  "kernelspec": {
   "display_name": "Python 3 (ipykernel)",
   "language": "python",
   "name": "python3"
  },
  "language_info": {
   "codemirror_mode": {
    "name": "ipython",
    "version": 3
   },
   "file_extension": ".py",
   "mimetype": "text/x-python",
   "name": "python",
   "nbconvert_exporter": "python",
   "pygments_lexer": "ipython3",
   "version": "3.12.4"
  }
 },
 "nbformat": 4,
 "nbformat_minor": 5
}
