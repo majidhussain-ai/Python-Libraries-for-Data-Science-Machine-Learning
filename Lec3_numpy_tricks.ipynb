{
 "cells": [
  {
   "cell_type": "code",
   "execution_count": 2,
   "id": "411c8476-bc71-4f39-998b-b757575960ff",
   "metadata": {},
   "outputs": [],
   "source": [
    "import numpy as np"
   ]
  },
  {
   "cell_type": "markdown",
   "id": "99c893af-2163-4500-a872-b328aeab8ba2",
   "metadata": {},
   "source": [
    "### Sorting :"
   ]
  },
  {
   "cell_type": "markdown",
   "id": "bf2a128d-d213-4d85-ab67-d7d6d25538a4",
   "metadata": {},
   "source": [
    "#### np.sort "
   ]
  },
  {
   "cell_type": "code",
   "execution_count": 2,
   "id": "de02f971-4039-4ed7-a270-b00e3bd9cd03",
   "metadata": {},
   "outputs": [],
   "source": [
    "import numpy as np"
   ]
  },
  {
   "cell_type": "code",
   "execution_count": 4,
   "id": "07ec38b3-5631-41f1-9338-d026d48cb3c3",
   "metadata": {},
   "outputs": [
    {
     "data": {
      "text/plain": [
       "array([ 5, 19,  4, 22,  8, 26, 13, 19,  9, 19,  1, 13, 17, 21,  2])"
      ]
     },
     "execution_count": 4,
     "metadata": {},
     "output_type": "execute_result"
    }
   ],
   "source": [
    "# by using of np.sort function we can sorting the values of when we use random function to generate random value it can sort them in ascending\n",
    "a = np.random.randint(1,30,15)\n",
    "a"
   ]
  },
  {
   "cell_type": "code",
   "execution_count": 5,
   "id": "b6a6c2e1-5102-4471-9c7d-6ca6fc64ec78",
   "metadata": {},
   "outputs": [
    {
     "data": {
      "text/plain": [
       "array([ 1,  2,  4,  5,  8,  9, 13, 13, 17, 19, 19, 19, 21, 22, 26])"
      ]
     },
     "execution_count": 5,
     "metadata": {},
     "output_type": "execute_result"
    }
   ],
   "source": [
    "# by using of np.sort we can sort values in ascending : This is 1D array but we can do it in 2D array \n",
    "np.sort(a)"
   ]
  },
  {
   "cell_type": "code",
   "execution_count": 7,
   "id": "e8b7af6a-b729-4013-8764-896ec23c85a8",
   "metadata": {},
   "outputs": [
    {
     "data": {
      "text/plain": [
       "array([[123,  10,  66, 114,  20,  53],\n",
       "       [ 52, 104,  25,  75, 108, 115],\n",
       "       [ 38, 108,  54,  35,  56, 102],\n",
       "       [ 32,  69,  57,  97, 106, 119]])"
      ]
     },
     "execution_count": 7,
     "metadata": {},
     "output_type": "execute_result"
    }
   ],
   "source": [
    "# This is 2D matrix\n",
    "b = np.random.randint(1,124,24).reshape(4,6)\n",
    "b"
   ]
  },
  {
   "cell_type": "code",
   "execution_count": 8,
   "id": "7df2a92a-3003-4029-a7f7-7d312804e267",
   "metadata": {},
   "outputs": [
    {
     "data": {
      "text/plain": [
       "array([[ 10,  20,  53,  66, 114, 123],\n",
       "       [ 25,  52,  75, 104, 108, 115],\n",
       "       [ 35,  38,  54,  56, 102, 108],\n",
       "       [ 32,  57,  69,  97, 106, 119]])"
      ]
     },
     "execution_count": 8,
     "metadata": {},
     "output_type": "execute_result"
    }
   ],
   "source": [
    "# we can sort of matrix by using of np.sort\n",
    "np.sort(b)\n",
    "\n",
    "# This is row wize sorting "
   ]
  },
  {
   "cell_type": "code",
   "execution_count": 9,
   "id": "d232b6b2-09ac-40bc-b457-96a49b0d8503",
   "metadata": {},
   "outputs": [
    {
     "data": {
      "text/plain": [
       "array([[ 32,  10,  25,  35,  20,  53],\n",
       "       [ 38,  69,  54,  75,  56, 102],\n",
       "       [ 52, 104,  57,  97, 106, 115],\n",
       "       [123, 108,  66, 114, 108, 119]])"
      ]
     },
     "execution_count": 9,
     "metadata": {},
     "output_type": "execute_result"
    }
   ],
   "source": [
    "# but if we want to column wize sorting we can do\n",
    "np.sort(b, axis=0)"
   ]
  },
  {
   "cell_type": "code",
   "execution_count": 7,
   "id": "aa0cc442-74d9-4c6e-842f-0e0f5029104b",
   "metadata": {},
   "outputs": [
    {
     "data": {
      "text/plain": [
       "{3, 4, 6, 10, 11, 12, 14, 15, 16, 23, 25, 30, 33, 38, 39}"
      ]
     },
     "execution_count": 7,
     "metadata": {},
     "output_type": "execute_result"
    }
   ],
   "source": [
    "random_sort_values = np.random.randint(1,40,20)\n",
    "set(np.sort(random_sort_values))"
   ]
  },
  {
   "cell_type": "code",
   "execution_count": 5,
   "id": "961875cb-ff09-4697-81b4-39834f751fdb",
   "metadata": {},
   "outputs": [
    {
     "data": {
      "text/plain": [
       "{1, 2, 3, 4, 23, 25, 323}"
      ]
     },
     "execution_count": 5,
     "metadata": {},
     "output_type": "execute_result"
    }
   ],
   "source": [
    "sorting = np.array([1,2,4,4,3,23,4,25,323,3])\n",
    "set(np.sort(sorting))"
   ]
  },
  {
   "cell_type": "markdown",
   "id": "cd8c243e-9944-40df-b297-b1525d5298c3",
   "metadata": {},
   "source": [
    "### np.append :"
   ]
  },
  {
   "cell_type": "code",
   "execution_count": 11,
   "id": "46b52b1f-3ca6-4ff4-9799-16ff07a46804",
   "metadata": {},
   "outputs": [
    {
     "data": {
      "text/plain": [
       "array([16, 17,  9, 22, 19,  6, 13, 12, 18,  3,  4, 24, 12,  9, 14])"
      ]
     },
     "execution_count": 11,
     "metadata": {},
     "output_type": "execute_result"
    }
   ],
   "source": [
    "# By using of np.append function we can append values in 1D and 2D arrays\n",
    "# append values at the end \n",
    "a = np.random.randint(1,30,15)\n",
    "a"
   ]
  },
  {
   "cell_type": "code",
   "execution_count": 12,
   "id": "4ee8f181-5133-43f3-8658-737efe6f9b59",
   "metadata": {},
   "outputs": [
    {
     "data": {
      "text/plain": [
       "array([16, 17,  9, 22, 19,  6, 13, 12, 18,  3,  4, 24, 12,  9, 14, 28])"
      ]
     },
     "execution_count": 12,
     "metadata": {},
     "output_type": "execute_result"
    }
   ],
   "source": [
    "np.append(a, 28)"
   ]
  },
  {
   "cell_type": "code",
   "execution_count": 4,
   "id": "0fe89860-ff1d-4158-895f-5819f1da1a7a",
   "metadata": {},
   "outputs": [
    {
     "data": {
      "text/plain": [
       "array([[ 21,  24, 106,  71, 119,  73],\n",
       "       [ 64, 115,  62,  80,  68, 102],\n",
       "       [ 78, 102,  67,  30,  81,  52],\n",
       "       [ 65, 106,  76,  73, 109,  48]])"
      ]
     },
     "execution_count": 4,
     "metadata": {},
     "output_type": "execute_result"
    }
   ],
   "source": [
    "# append values in 2D matrix\n",
    "b = np.random.randint(1,124,24).reshape(4,6)\n",
    "b"
   ]
  },
  {
   "cell_type": "code",
   "execution_count": 13,
   "id": "c7ab61f4-7e54-4927-b215-e941008dc7de",
   "metadata": {},
   "outputs": [
    {
     "data": {
      "text/plain": [
       "array([[ 21.,  24., 106.,  71., 119.,  73.,   1.],\n",
       "       [ 64., 115.,  62.,  80.,  68., 102.,   1.],\n",
       "       [ 78., 102.,  67.,  30.,  81.,  52.,   1.],\n",
       "       [ 65., 106.,  76.,  73., 109.,  48.,   1.]])"
      ]
     },
     "execution_count": 13,
     "metadata": {},
     "output_type": "execute_result"
    }
   ],
   "source": [
    "np.append(b, np.ones((b.shape[0],1)), axis = 1)"
   ]
  },
  {
   "cell_type": "code",
   "execution_count": 8,
   "id": "1a27999a-8976-46e1-8e9f-fc449e3043fc",
   "metadata": {},
   "outputs": [
    {
     "data": {
      "text/plain": [
       "array([19.,  8., 24., 32., 32., 10., 13.,  6., 32., 34.,  1.,  1.,  1.,\n",
       "        1.])"
      ]
     },
     "execution_count": 8,
     "metadata": {},
     "output_type": "execute_result"
    }
   ],
   "source": [
    "random_value = np.random.randint(1,39,10)\n",
    "append_value = np.append(random_value , np.ones(4))\n",
    "append_value"
   ]
  },
  {
   "cell_type": "code",
   "execution_count": 2,
   "id": "fa390bfe-0fa5-4546-b5f4-b3f9f2b6ca73",
   "metadata": {},
   "outputs": [
    {
     "data": {
      "text/plain": [
       "array([[13., 13., 21., 22., 16., 22.,  1.],\n",
       "       [25., 20., 13., 22., 27.,  5.,  1.],\n",
       "       [23., 19., 23., 16., 26., 25.,  1.],\n",
       "       [ 1.,  4., 15., 26., 28., 19.,  1.]])"
      ]
     },
     "execution_count": 2,
     "metadata": {},
     "output_type": "execute_result"
    }
   ],
   "source": [
    "import numpy as np\n",
    "random_value = np.random.randint(1, 30, 24).reshape(4,6)\n",
    "random_value\n",
    "np.append(random_value , np.ones((random_value.shape[0],1)), axis = 1)"
   ]
  },
  {
   "cell_type": "code",
   "execution_count": 12,
   "id": "712758c5-d8c8-425b-be04-9ca23d4fc227",
   "metadata": {},
   "outputs": [
    {
     "data": {
      "text/plain": [
       "array([[ 21.,  24., 106.,  71., 119.,  73.,   1.],\n",
       "       [ 64., 115.,  62.,  80.,  68., 102.,   1.],\n",
       "       [ 78., 102.,  67.,  30.,  81.,  52.,   1.],\n",
       "       [ 65., 106.,  76.,  73., 109.,  48.,   1.]])"
      ]
     },
     "execution_count": 12,
     "metadata": {},
     "output_type": "execute_result"
    }
   ],
   "source": [
    "# append values by column wize\n",
    "np.append(b, np.ones((b.shape[0],1)),axis=1)"
   ]
  },
  {
   "cell_type": "markdown",
   "id": "0e63ae0a-9bfd-433f-b578-17d57baf3eae",
   "metadata": {},
   "source": [
    "### np.concatenate :"
   ]
  },
  {
   "cell_type": "code",
   "execution_count": 6,
   "id": "e81bdc63-95ca-48b8-9753-58d4ccd6b7fc",
   "metadata": {},
   "outputs": [
    {
     "name": "stdout",
     "output_type": "stream",
     "text": [
      "[[0 1 2]\n",
      " [3 4 5]]\n",
      "[[ 6  7  8]\n",
      " [ 9 10 11]]\n"
     ]
    }
   ],
   "source": [
    "# we can concatenate tabular form of data mean 2D or matrix data in row wize and column wize\n",
    "a = np.arange(6).reshape(2,3)\n",
    "b = np.arange(6,12).reshape(2,3)\n",
    "print(a)\n",
    "print(b)"
   ]
  },
  {
   "cell_type": "code",
   "execution_count": 25,
   "id": "83ddfc12-cdfa-47bf-b174-e7975c5179ff",
   "metadata": {},
   "outputs": [
    {
     "data": {
      "text/plain": [
       "array([[ 0,  1,  2],\n",
       "       [ 3,  4,  5],\n",
       "       [ 6,  7,  8],\n",
       "       [ 9, 10, 11]])"
      ]
     },
     "execution_count": 25,
     "metadata": {},
     "output_type": "execute_result"
    }
   ],
   "source": [
    "# by defualt in column wize concatenate but if we want to row wize concatenate we can do it\n",
    "np.concatenate((a,b))"
   ]
  },
  {
   "cell_type": "code",
   "execution_count": 7,
   "id": "676f1797-4188-4ec9-ad13-d74328d950b3",
   "metadata": {},
   "outputs": [
    {
     "data": {
      "text/plain": [
       "array([[ 0,  1,  2],\n",
       "       [ 3,  4,  5],\n",
       "       [ 6,  7,  8],\n",
       "       [ 9, 10, 11]])"
      ]
     },
     "execution_count": 7,
     "metadata": {},
     "output_type": "execute_result"
    }
   ],
   "source": [
    "# same as above\n",
    "\n",
    "np.vstack((a,b))"
   ]
  },
  {
   "cell_type": "code",
   "execution_count": 26,
   "id": "0cc9ea83-86b6-495c-bd7c-f15f7d4e8d41",
   "metadata": {},
   "outputs": [
    {
     "data": {
      "text/plain": [
       "array([[ 0,  1,  2,  6,  7,  8],\n",
       "       [ 3,  4,  5,  9, 10, 11]])"
      ]
     },
     "execution_count": 26,
     "metadata": {},
     "output_type": "execute_result"
    }
   ],
   "source": [
    "# row wize concatenation\n",
    "np.concatenate((a,b), axis = 1)"
   ]
  },
  {
   "cell_type": "code",
   "execution_count": 2,
   "id": "16fd9528-4e04-4333-a8df-2f7747a26247",
   "metadata": {},
   "outputs": [
    {
     "data": {
      "text/plain": [
       "array([1, 2, 3, 4, 5, 6, 7, 8, 9, 0])"
      ]
     },
     "execution_count": 2,
     "metadata": {},
     "output_type": "execute_result"
    }
   ],
   "source": [
    "# we can also concatenation in 1D array\n",
    "a = np.array([1,2,3,4,5])\n",
    "b = np.array([6,7,8,9,0])\n",
    "np.concatenate((a,b))"
   ]
  },
  {
   "cell_type": "code",
   "execution_count": 4,
   "id": "83947abc-222d-4106-b561-60813e7a7d48",
   "metadata": {},
   "outputs": [
    {
     "data": {
      "text/plain": [
       "array([1, 2, 3, 4, 5, 6, 7, 8, 9, 0])"
      ]
     },
     "execution_count": 4,
     "metadata": {},
     "output_type": "execute_result"
    }
   ],
   "source": [
    "# same as above.\n",
    "\n",
    "np.hstack((a,b))"
   ]
  },
  {
   "cell_type": "markdown",
   "id": "3b3e391f-ed4e-428e-8964-540c09090140",
   "metadata": {},
   "source": [
    "### np.unique() :"
   ]
  },
  {
   "cell_type": "code",
   "execution_count": 34,
   "id": "d8b27bd7-a77f-47c8-be16-98d073716d94",
   "metadata": {},
   "outputs": [
    {
     "data": {
      "text/plain": [
       "array([ 1,  2,  2,  3,  4,  4, 45,  5,  5,  3,  2,  2,  4,  5,  6])"
      ]
     },
     "execution_count": 34,
     "metadata": {},
     "output_type": "execute_result"
    }
   ],
   "source": [
    "# In this function values should repeated many times. But applying of np.unique() it can only show one not doublicated\n",
    "a = np.array([1,2,2,3,4,4,45,5,5,3,2,2,4,5,6])\n",
    "a"
   ]
  },
  {
   "cell_type": "code",
   "execution_count": 35,
   "id": "6cecafd5-3669-4b97-b55c-ceea0db7fbee",
   "metadata": {},
   "outputs": [
    {
     "data": {
      "text/plain": [
       "array([ 1,  2,  3,  4,  5,  6, 45])"
      ]
     },
     "execution_count": 35,
     "metadata": {},
     "output_type": "execute_result"
    }
   ],
   "source": [
    "# it only show only one not doublicate like of sets\n",
    "np.unique(a)"
   ]
  },
  {
   "cell_type": "code",
   "execution_count": 6,
   "id": "fe2f2024-9744-4e43-8624-3bdd61421c51",
   "metadata": {},
   "outputs": [
    {
     "data": {
      "text/plain": [
       "array([[ 57,  71,  48,  11,  16,  97],\n",
       "       [ 73,  54,  31, 106,  27,   5],\n",
       "       [ 34,  51, 108,  35,  57,  76],\n",
       "       [ 50,  35,  79,  69, 105, 101],\n",
       "       [ 52,  48,   1,  18,  55,   9],\n",
       "       [  2,  96, 105,  74,  33,  40]])"
      ]
     },
     "execution_count": 6,
     "metadata": {},
     "output_type": "execute_result"
    }
   ],
   "source": [
    "# it can also apply on 2D or matrix form of data\n",
    "b1 = np.random.randint(1,112,36).reshape(6,6)\n",
    "b1"
   ]
  },
  {
   "cell_type": "code",
   "execution_count": 7,
   "id": "dc92c691-94a5-49ad-a326-8de5e46bd0ec",
   "metadata": {},
   "outputs": [
    {
     "data": {
      "text/plain": [
       "array([[ 11,  16,  48,  57,  71,  97],\n",
       "       [106,  27,  31,  73,  54,   5],\n",
       "       [ 35,  57, 108,  34,  51,  76],\n",
       "       [ 69, 105,  79,  50,  35, 101],\n",
       "       [ 18,  55,   1,  52,  48,   9],\n",
       "       [ 74,  33, 105,   2,  96,  40]])"
      ]
     },
     "execution_count": 7,
     "metadata": {},
     "output_type": "execute_result"
    }
   ],
   "source": [
    "# Don't know why but it first convert matrix into vector form then sort these values and also return only once values not repeated\n",
    "np.unique(b1, axis = 1)"
   ]
  },
  {
   "cell_type": "markdown",
   "id": "bd50f57d-e01c-4cf4-829c-735d7d5a7c3d",
   "metadata": {},
   "source": [
    "### np.expand_dims :"
   ]
  },
  {
   "cell_type": "code",
   "execution_count": 43,
   "id": "85d8ac74-e603-49ad-8f0a-1af829e96ad5",
   "metadata": {},
   "outputs": [
    {
     "data": {
      "text/plain": [
       "array([1, 2, 4, 4, 5, 5, 6, 7, 8, 9, 0])"
      ]
     },
     "execution_count": 43,
     "metadata": {},
     "output_type": "execute_result"
    }
   ],
   "source": [
    "# with the help of numpy.expand_dims() method, we can get the expanded diminsion of an array\n",
    "a1 = np.array([1,2,4,4,5,5,6,7,8,9,0])\n",
    "a1"
   ]
  },
  {
   "cell_type": "code",
   "execution_count": 37,
   "id": "320432bb-d1ea-49ac-b386-d275087b259c",
   "metadata": {},
   "outputs": [
    {
     "data": {
      "text/plain": [
       "(11,)"
      ]
     },
     "execution_count": 37,
     "metadata": {},
     "output_type": "execute_result"
    }
   ],
   "source": [
    "a1.shape"
   ]
  },
  {
   "cell_type": "code",
   "execution_count": 38,
   "id": "da3aba16-2fec-4a02-ac9c-89d7544720d4",
   "metadata": {},
   "outputs": [
    {
     "data": {
      "text/plain": [
       "array([[1, 2, 4, 4, 5, 5, 6, 7, 8, 9, 0]])"
      ]
     },
     "execution_count": 38,
     "metadata": {},
     "output_type": "execute_result"
    }
   ],
   "source": [
    "# Before like above it was One Diminsion but now it is 2D \n",
    "a1 = np.expand_dims(a1, axis = 0)\n",
    "a1"
   ]
  },
  {
   "cell_type": "code",
   "execution_count": 39,
   "id": "92acfc15-c317-4067-ae34-83a9d152c8be",
   "metadata": {},
   "outputs": [
    {
     "data": {
      "text/plain": [
       "(1, 11)"
      ]
     },
     "execution_count": 39,
     "metadata": {},
     "output_type": "execute_result"
    }
   ],
   "source": [
    "a1.shape"
   ]
  },
  {
   "cell_type": "code",
   "execution_count": 47,
   "id": "9570a146-86dd-4367-b066-3f9b1f118723",
   "metadata": {},
   "outputs": [
    {
     "data": {
      "text/plain": [
       "(11, 1)"
      ]
     },
     "execution_count": 47,
     "metadata": {},
     "output_type": "execute_result"
    }
   ],
   "source": [
    "# Now it is 2D but column wize\n",
    "np.expand_dims(a1, axis = 1).shape"
   ]
  },
  {
   "cell_type": "markdown",
   "id": "61154bed-df51-461c-9575-2f8d09b01344",
   "metadata": {},
   "source": [
    "### np.where() :"
   ]
  },
  {
   "cell_type": "code",
   "execution_count": 49,
   "id": "7c42924c-a2fb-4e42-8449-e5ef801f9f5c",
   "metadata": {},
   "outputs": [
    {
     "data": {
      "text/plain": [
       "array([33, 44, 45, 78, 89, 80, 43, 54, 90, 93, 83, 38, 82])"
      ]
     },
     "execution_count": 49,
     "metadata": {},
     "output_type": "execute_result"
    }
   ],
   "source": [
    "\"\"\"\n",
    "the numpy.where() function returns the indices of elements in an input array where the condition satisfied. \n",
    "It can be used to locate the indices of elements that meet a certain condition.\n",
    "\"\"\"\n",
    "a = np.array([33,44,45,78,89,80,43,54, 90, 93, 83, 38, 82])\n",
    "a"
   ]
  },
  {
   "cell_type": "code",
   "execution_count": 50,
   "id": "84ed8bd6-4aab-4988-8638-6d328453c82d",
   "metadata": {},
   "outputs": [
    {
     "data": {
      "text/plain": [
       "(array([ 3,  4,  5,  7,  8,  9, 10, 12], dtype=int64),)"
      ]
     },
     "execution_count": 50,
     "metadata": {},
     "output_type": "execute_result"
    }
   ],
   "source": [
    "# find all indices with value greater than 50\n",
    "np.where(a>50)\n",
    "\n",
    "# This will give just index where given values satisfied"
   ]
  },
  {
   "cell_type": "code",
   "execution_count": 53,
   "id": "bc43ab44-26e4-4bb9-b745-39ca030a6ac7",
   "metadata": {},
   "outputs": [
    {
     "data": {
      "text/plain": [
       "array([33, 44, 45,  0,  0,  0, 43,  0,  0,  0,  0, 38,  0])"
      ]
     },
     "execution_count": 53,
     "metadata": {},
     "output_type": "execute_result"
    }
   ],
   "source": [
    "# replace all values of a>50 with zero\n",
    "# syntax: var(condition, true, false)\n",
    "np.where(a>50, 0, a)"
   ]
  },
  {
   "cell_type": "code",
   "execution_count": 52,
   "id": "4cbdaa6c-2035-440c-bf93-82f8ce19800f",
   "metadata": {},
   "outputs": [
    {
     "data": {
      "text/plain": [
       "array([ 0, 44,  0,  0, 89, 80, 43,  0,  0,  0, 83, 38, 82])"
      ]
     },
     "execution_count": 52,
     "metadata": {},
     "output_type": "execute_result"
    }
   ],
   "source": [
    "# replace all odd numbers into 0\n",
    "np.where(a%3==0, 0, a)"
   ]
  },
  {
   "cell_type": "code",
   "execution_count": 58,
   "id": "92f91b13-95c5-4b6f-ac9e-6f45d546ab36",
   "metadata": {},
   "outputs": [
    {
     "data": {
      "text/plain": [
       "array([[[ 39,  75,  30,  66,  15,  26],\n",
       "        [  1,  50,  91, 102, 105,  74],\n",
       "        [ 46,  72,  62,   5,  82,  43]],\n",
       "\n",
       "       [[ 27,  67,   8,  36,  95, 111],\n",
       "        [ 58,  67,   6,  87,  64,  85],\n",
       "        [ 30,  30,   9,  46, 100,  94]]])"
      ]
     },
     "execution_count": 58,
     "metadata": {},
     "output_type": "execute_result"
    }
   ],
   "source": [
    "# We can also check index in 2D matrix\n",
    "b1 = np.random.randint(1,112,36).reshape(2,3,6)\n",
    "b1"
   ]
  },
  {
   "cell_type": "code",
   "execution_count": 55,
   "id": "b45f8cbb-4943-495b-aa00-cfc71566328b",
   "metadata": {},
   "outputs": [
    {
     "data": {
      "text/plain": [
       "(array([0, 0, 0, 0, 0, 0, 0, 0, 1, 1, 1, 1, 1, 1, 1, 1, 1, 1, 1],\n",
       "       dtype=int64),\n",
       " array([0, 0, 0, 1, 1, 2, 2, 2, 0, 0, 0, 1, 1, 1, 1, 2, 2, 2, 2],\n",
       "       dtype=int64),\n",
       " array([1, 4, 5, 0, 3, 0, 1, 2, 1, 2, 4, 0, 2, 4, 5, 0, 2, 4, 5],\n",
       "       dtype=int64))"
      ]
     },
     "execution_count": 55,
     "metadata": {},
     "output_type": "execute_result"
    }
   ],
   "source": [
    "np.where(b1>50)"
   ]
  },
  {
   "cell_type": "code",
   "execution_count": 57,
   "id": "41358602-3494-4954-9dca-b13711174c39",
   "metadata": {},
   "outputs": [
    {
     "data": {
      "text/plain": [
       "array([[ 44,  88,  47,  26,  82,   0],\n",
       "       [ 20,   0,   0,  50,  79,  20],\n",
       "       [  8,   0,   0,  35,   0,   0],\n",
       "       [  0,   0,  77,  94,   0,  40],\n",
       "       [ 88,  83,   0, 104,  61,   0],\n",
       "       [ 28,   0,  19,  20,   8,  13]])"
      ]
     },
     "execution_count": 57,
     "metadata": {},
     "output_type": "execute_result"
    }
   ],
   "source": [
    "# here also replace divisible of 3 into 0\n",
    "np.where(b1%3 == 0 , 0, b1)"
   ]
  },
  {
   "cell_type": "markdown",
   "id": "9c1b648f-a796-46ab-9e92-b45600ccb9a0",
   "metadata": {},
   "source": [
    "### np.argmax() & np.argmin() :"
   ]
  },
  {
   "cell_type": "code",
   "execution_count": 31,
   "id": "0f38ac20-490e-4f1d-87e6-5b9edbe5686f",
   "metadata": {},
   "outputs": [
    {
     "data": {
      "text/plain": [
       "array([33, 44, 45, 78, 89, 80, 43, 54, 90, 93, 83, 38, 82])"
      ]
     },
     "execution_count": 31,
     "metadata": {},
     "output_type": "execute_result"
    }
   ],
   "source": [
    "\"\"\"\n",
    "the numpy.argmax() function returns index of the max element of the arry in a particular axis\n",
    "\"\"\"\n",
    "\n",
    "a = np.array([33,44,45,78,89,80,43,54, 90, 93, 83, 38, 82])\n",
    "a"
   ]
  },
  {
   "cell_type": "code",
   "execution_count": 59,
   "id": "4409070b-2107-48e6-b798-6f53bfa2ebad",
   "metadata": {},
   "outputs": [
    {
     "name": "stdout",
     "output_type": "stream",
     "text": [
      "0 33\n",
      "1 44\n",
      "2 45\n",
      "3 78\n",
      "4 89\n",
      "5 80\n",
      "6 43\n",
      "7 54\n",
      "8 90\n",
      "9 93\n",
      "10 83\n",
      "11 38\n",
      "12 82\n"
     ]
    }
   ],
   "source": [
    "for index, value in enumerate(a):\n",
    "    print(index, value)"
   ]
  },
  {
   "cell_type": "code",
   "execution_count": 25,
   "id": "3455a19b-0fcf-42b9-9a12-479f0ba47b8a",
   "metadata": {},
   "outputs": [
    {
     "name": "stdout",
     "output_type": "stream",
     "text": [
      "9\n",
      "33\n",
      "93\n"
     ]
    }
   ],
   "source": [
    "# find the index of maximum element value 90 at index 9\n",
    "print(np.argmax(a))\n",
    "print(np.min(a))\n",
    "print(np.max(a))"
   ]
  },
  {
   "cell_type": "code",
   "execution_count": 64,
   "id": "d81766b9-03eb-4c3c-89f2-f40646f13cc5",
   "metadata": {},
   "outputs": [
    {
     "data": {
      "text/plain": [
       "0"
      ]
     },
     "execution_count": 64,
     "metadata": {},
     "output_type": "execute_result"
    }
   ],
   "source": [
    "# value 33 at index 0 \n",
    "\n",
    "np.argmin(a)"
   ]
  },
  {
   "cell_type": "code",
   "execution_count": 3,
   "id": "a57c8339-fc5d-49be-84be-24726454d20c",
   "metadata": {},
   "outputs": [
    {
     "data": {
      "text/plain": [
       "array([[ 23,  85,  73,  32,  96,  68],\n",
       "       [ 54,  25,  45,  34,  88, 111],\n",
       "       [ 95,  96,  76,  57,  32,  19],\n",
       "       [ 19,  40, 110, 101,  15, 108],\n",
       "       [ 45,  84,  39,  31,  78,  35],\n",
       "       [  6, 110, 103,  16,   7,  94]])"
      ]
     },
     "execution_count": 3,
     "metadata": {},
     "output_type": "execute_result"
    }
   ],
   "source": [
    "# we can also check in 2D matrix of maximum index by row wize and column wize\n",
    "b1 = np.random.randint(1,112,36).reshape(6,6)\n",
    "b1"
   ]
  },
  {
   "cell_type": "code",
   "execution_count": 4,
   "id": "17d1c4c6-0c3d-4932-bb29-1aac627178ad",
   "metadata": {},
   "outputs": [
    {
     "data": {
      "text/plain": [
       "array([2, 5, 3, 3, 0, 1], dtype=int64)"
      ]
     },
     "execution_count": 4,
     "metadata": {},
     "output_type": "execute_result"
    }
   ],
   "source": [
    "# it is column wize find max index from matrix \n",
    "np.argmax(b1, axis = 0)"
   ]
  },
  {
   "cell_type": "code",
   "execution_count": 21,
   "id": "1c0cfa91-c767-4fe8-9d8b-e174136384fe",
   "metadata": {},
   "outputs": [
    {
     "data": {
      "text/plain": [
       "array([4, 4, 2, 2, 5, 1], dtype=int64)"
      ]
     },
     "execution_count": 21,
     "metadata": {},
     "output_type": "execute_result"
    }
   ],
   "source": [
    "np.argmin(b1 , axis = 0)"
   ]
  },
  {
   "cell_type": "code",
   "execution_count": 62,
   "id": "5666b17f-4f52-48f3-8a50-73e0058fde7f",
   "metadata": {},
   "outputs": [
    {
     "data": {
      "text/plain": [
       "array([0, 5, 0, 4, 3, 5], dtype=int64)"
      ]
     },
     "execution_count": 62,
     "metadata": {},
     "output_type": "execute_result"
    }
   ],
   "source": [
    "# this is row wize find max index\n",
    "np.argmax(b1, axis = 1)"
   ]
  },
  {
   "cell_type": "code",
   "execution_count": 67,
   "id": "2469f891-bf44-4188-af99-b51996fc55db",
   "metadata": {},
   "outputs": [
    {
     "data": {
      "text/plain": [
       "array([4, 2, 2, 1, 5, 0], dtype=int64)"
      ]
     },
     "execution_count": 67,
     "metadata": {},
     "output_type": "execute_result"
    }
   ],
   "source": [
    "np.argmin(b1 , axis = 1)"
   ]
  },
  {
   "cell_type": "markdown",
   "id": "d23a5f77-64fa-4570-9e31-d8c288495b7c",
   "metadata": {},
   "source": [
    "### np.cumsum() & np.cumprod() :"
   ]
  },
  {
   "cell_type": "code",
   "execution_count": 4,
   "id": "f5de2030-0cf9-42e0-ac61-2a7b9119e0c2",
   "metadata": {},
   "outputs": [
    {
     "data": {
      "text/plain": [
       "array([33, 44, 45, 78, 89, 80, 43, 54, 90, 93, 83, 38, 82])"
      ]
     },
     "execution_count": 4,
     "metadata": {},
     "output_type": "execute_result"
    }
   ],
   "source": [
    "\"\"\"\n",
    "numpy.cumsum() function is used when we want to compute the cumulative sum of array elements over a given axis\n",
    "\n",
    "Where use  of cumsum():\n",
    "          Feature Engineering – Creating time-series cumulative features (e.g., cumulative sales).\n",
    "          Time Series Analysis – Used to compute cumulative returns, rolling trends, or event impacts.\n",
    "          Reinforcement Learning – Tracks accumulated rewards in an episode.\n",
    "          Image Processing – Integral images (used in object detection).\n",
    "\n",
    "Where Use of cumprod():\n",
    "                        Where is np.cumprod() Used in Machine Learning?\n",
    "                        Stock Market Prediction – Used to calculate cumulative returns of assets.\n",
    "                         Probability Calculations – Computes joint probability distributions.\n",
    "                         Data Augmentation – Simulates exponential growth in modeling.\n",
    "                        Deep Learning Weight Updates – Tracks weight adjustments in optimization.\n",
    "\"\"\"\n",
    "a"
   ]
  },
  {
   "cell_type": "code",
   "execution_count": 69,
   "id": "7ca2f883-561e-4101-98de-90ae3c8554ae",
   "metadata": {},
   "outputs": [
    {
     "data": {
      "text/plain": [
       "array([ 33,  77, 122, 200, 289, 369, 412, 466, 556, 649, 732, 770, 852])"
      ]
     },
     "execution_count": 69,
     "metadata": {},
     "output_type": "execute_result"
    }
   ],
   "source": [
    "np.cumsum(a)\n",
    "# it is like : 33 , 33+44, 77+78, 122+89, and upto "
   ]
  },
  {
   "cell_type": "code",
   "execution_count": 74,
   "id": "cf5ee35d-2771-4476-8dec-e919ad50b82d",
   "metadata": {},
   "outputs": [
    {
     "data": {
      "text/plain": [
       "array([         33,        1452,       65340,     5096520,   453590280,\n",
       "        1927484032,  1277434752,   261999872,  2105152000, -1789359616,\n",
       "        1807007232,   -53201920,   -67590144])"
      ]
     },
     "execution_count": 74,
     "metadata": {},
     "output_type": "execute_result"
    }
   ],
   "source": [
    "np.cumprod(a)"
   ]
  },
  {
   "cell_type": "code",
   "execution_count": 5,
   "id": "5a7229e6-1c97-4c98-bca9-065f960c7fce",
   "metadata": {},
   "outputs": [
    {
     "data": {
      "text/plain": [
       "array([[ 68,  72,  69,  62,  77,  22],\n",
       "       [ 74,  30,  36,  10,  55,  58],\n",
       "       [ 75,  33,  54,  79,  55,  89],\n",
       "       [ 85,  42,  29,  43, 111,  77],\n",
       "       [ 81,  90,  37,  11,  52,  41],\n",
       "       [101,  27,  99,  14,  72,   7]])"
      ]
     },
     "execution_count": 5,
     "metadata": {},
     "output_type": "execute_result"
    }
   ],
   "source": [
    "b1"
   ]
  },
  {
   "cell_type": "code",
   "execution_count": 6,
   "id": "15e2f1d1-aaf9-4a03-9cfc-f2172bd43c19",
   "metadata": {},
   "outputs": [
    {
     "data": {
      "text/plain": [
       "array([[ 68,  72,  69,  62,  77,  22],\n",
       "       [142, 102, 105,  72, 132,  80],\n",
       "       [217, 135, 159, 151, 187, 169],\n",
       "       [302, 177, 188, 194, 298, 246],\n",
       "       [383, 267, 225, 205, 350, 287],\n",
       "       [484, 294, 324, 219, 422, 294]])"
      ]
     },
     "execution_count": 6,
     "metadata": {},
     "output_type": "execute_result"
    }
   ],
   "source": [
    "# cumulative sum of column wize\n",
    "np.cumsum(b1, axis = 0)"
   ]
  },
  {
   "cell_type": "code",
   "execution_count": 7,
   "id": "c204ab57-d0e3-40a3-9595-710a86980d82",
   "metadata": {},
   "outputs": [
    {
     "data": {
      "text/plain": [
       "array([[         68,          72,          69,          62,          77,\n",
       "                 22],\n",
       "       [       5032,        2160,        2484,         620,        4235,\n",
       "               1276],\n",
       "       [     377400,       71280,      134136,       48980,      232925,\n",
       "             113564],\n",
       "       [   32079000,     2993760,     3889944,     2106140,    25854675,\n",
       "            8744428],\n",
       "       [-1696568296,   269438400,   143927928,    23167540,  1344443100,\n",
       "          358521548],\n",
       "       [  445293944, -1315097792,  1363962984,   324345560, -1984344608,\n",
       "        -1785316460]])"
      ]
     },
     "execution_count": 7,
     "metadata": {},
     "output_type": "execute_result"
    }
   ],
   "source": [
    "np.cumprod(b1 , axis = 0)"
   ]
  },
  {
   "cell_type": "code",
   "execution_count": 72,
   "id": "24318c77-8a2f-4248-86b1-2deac8ffddfb",
   "metadata": {},
   "outputs": [
    {
     "data": {
      "text/plain": [
       "array([[104, 157, 215, 265, 270, 280],\n",
       "       [ 41, 116, 117, 161, 213, 302],\n",
       "       [110, 174, 197, 243, 314, 373],\n",
       "       [ 59,  75, 130, 202, 278, 295],\n",
       "       [ 35,  81, 135, 227, 270, 292],\n",
       "       [ 21,  79, 133, 187, 220, 330]])"
      ]
     },
     "execution_count": 72,
     "metadata": {},
     "output_type": "execute_result"
    }
   ],
   "source": [
    "# cumulative sum of row wize\n",
    "np.cumsum(b1, axis = 1)"
   ]
  },
  {
   "cell_type": "code",
   "execution_count": 77,
   "id": "0b4e62f3-ce4b-4148-9d0d-dba1737a0414",
   "metadata": {},
   "outputs": [
    {
     "data": {
      "text/plain": [
       "array([[        104,        5512,      319696,    15984800,    79924000,\n",
       "          799240000],\n",
       "       [         41,        3075,        3075,      135300,     7035600,\n",
       "          626168400],\n",
       "       [        110,        7040,      161920,     7448320,   528830720,\n",
       "         1136241408],\n",
       "       [         59,         944,       51920,     3738240,   284106240,\n",
       "          534838784],\n",
       "       [         35,        1610,       86940,     7998480,   343934640,\n",
       "        -1023372512],\n",
       "       [         21,        1218,       65772,     3551688,   117205704,\n",
       "            7725552]])"
      ]
     },
     "execution_count": 77,
     "metadata": {},
     "output_type": "execute_result"
    }
   ],
   "source": [
    "np.cumprod(b1, axis = 1)"
   ]
  },
  {
   "cell_type": "code",
   "execution_count": 73,
   "id": "55fb8b26-a981-4cc3-9b20-3a6c6da85990",
   "metadata": {},
   "outputs": [
    {
     "name": "stdout",
     "output_type": "stream",
     "text": [
      "[ 1  3  6 10]\n"
     ]
    }
   ],
   "source": [
    "import numpy as np\n",
    "\n",
    "arr = np.array([[1, 2], [3, 4]])\n",
    "result = np.cumsum(arr)  # Flattened cumulative sum\n",
    "\n",
    "print(result)"
   ]
  },
  {
   "cell_type": "code",
   "execution_count": 29,
   "id": "b8008e14-67c7-42a7-8019-181d8c002f56",
   "metadata": {},
   "outputs": [
    {
     "data": {
      "text/plain": [
       "array([[[34, 30, 31],\n",
       "        [42, 43, 36],\n",
       "        [61, 54, 67]],\n",
       "\n",
       "       [[ 6,  6, 28],\n",
       "        [11, 45, 57],\n",
       "        [44, 67, 78]],\n",
       "\n",
       "       [[27, 30, 13],\n",
       "        [32, 51, 21],\n",
       "        [41, 71, 43]]])"
      ]
     },
     "execution_count": 29,
     "metadata": {},
     "output_type": "execute_result"
    }
   ],
   "source": [
    "arr = np.random.randint(1,40,27).reshape(3,3,3)\n",
    "arr\n",
    "np.cumsum(arr, axis = 1)"
   ]
  },
  {
   "cell_type": "markdown",
   "id": "c8612832-73c9-486a-8f8c-0f4920b768da",
   "metadata": {},
   "source": [
    "### np.percentile() :"
   ]
  },
  {
   "cell_type": "code",
   "execution_count": 32,
   "id": "1bb27cf3-42db-4918-b2e8-9d1cb8d7d63d",
   "metadata": {},
   "outputs": [
    {
     "data": {
      "text/plain": [
       "array([33, 44, 45, 78, 89, 80, 43, 54, 90, 93, 83, 38, 82])"
      ]
     },
     "execution_count": 32,
     "metadata": {},
     "output_type": "execute_result"
    }
   ],
   "source": [
    "\"\"\"\n",
    "numpy.percentile() function is used to compute the nth percentile of given data (array elements ) along the specified axis.\n",
    "intuition : first we sort the given data into ascending or descending form then we perform percentile operation\n",
    "syntax:\n",
    "\n",
    "      np.percentile(var, val)\n",
    "      np.percentile(a2, 25)\n",
    "\"\"\"\n",
    "a\n"
   ]
  },
  {
   "cell_type": "code",
   "execution_count": 81,
   "id": "85f5ac64-4a56-42fd-82c0-fc498cbc5c2d",
   "metadata": {},
   "outputs": [
    {
     "data": {
      "text/plain": [
       "array([33, 38, 43, 44, 45, 54, 78, 80, 82, 83, 89, 90, 93])"
      ]
     },
     "execution_count": 81,
     "metadata": {},
     "output_type": "execute_result"
    }
   ],
   "source": [
    "# first sorting given data into ascending form\n",
    "a1 = np.sort(a)\n",
    "a1\n",
    "\n",
    "# but if want in descending form of data i can do it\n",
    "# a1 = np.sort(a)[::-1]\n",
    "# a1"
   ]
  },
  {
   "cell_type": "code",
   "execution_count": 34,
   "id": "b4860476-0570-4dd0-b8e1-8179a04a8682",
   "metadata": {},
   "outputs": [
    {
     "name": "stdout",
     "output_type": "stream",
     "text": [
      "13\n",
      "33\n",
      "93\n"
     ]
    }
   ],
   "source": [
    "print(np.size(a))\n",
    "print(np.min(a))\n",
    "print(np.max(a))"
   ]
  },
  {
   "cell_type": "code",
   "execution_count": 84,
   "id": "a4fdb0b6-23cf-4abb-a072-b921f24161ee",
   "metadata": {},
   "outputs": [
    {
     "data": {
      "text/plain": [
       "44.0"
      ]
     },
     "execution_count": 84,
     "metadata": {},
     "output_type": "execute_result"
    }
   ],
   "source": [
    "# find of 25 , 50 and 75 percentile of data\n",
    "np.percentile(a1, 25)"
   ]
  },
  {
   "cell_type": "code",
   "execution_count": 87,
   "id": "ee7bf99b-25cd-4069-948a-6c5cc76fd731",
   "metadata": {},
   "outputs": [
    {
     "data": {
      "text/plain": [
       "78.0"
      ]
     },
     "execution_count": 87,
     "metadata": {},
     "output_type": "execute_result"
    }
   ],
   "source": [
    "# 50 percentile\n",
    "np.percentile(a1,50)"
   ]
  },
  {
   "cell_type": "code",
   "execution_count": 88,
   "id": "1d31cb18-942f-4368-9f7a-11a0e57754d0",
   "metadata": {},
   "outputs": [
    {
     "data": {
      "text/plain": [
       "83.0"
      ]
     },
     "execution_count": 88,
     "metadata": {},
     "output_type": "execute_result"
    }
   ],
   "source": [
    "# 75 percentile\n",
    "np.percentile(a1, 75)"
   ]
  },
  {
   "cell_type": "code",
   "execution_count": 89,
   "id": "17a4a67c-6ca6-4582-bf06-bd7cb3f838da",
   "metadata": {},
   "outputs": [
    {
     "data": {
      "text/plain": [
       "93.0"
      ]
     },
     "execution_count": 89,
     "metadata": {},
     "output_type": "execute_result"
    }
   ],
   "source": [
    "# 100  p\n",
    "np.percentile(a1, 100)"
   ]
  },
  {
   "cell_type": "markdown",
   "id": "18b11aa9-687d-42ce-802e-3fa22c9ac0a7",
   "metadata": {},
   "source": [
    "### np.histogram() :"
   ]
  },
  {
   "cell_type": "code",
   "execution_count": 63,
   "id": "75140105-d3b9-4035-97a9-449df595a129",
   "metadata": {},
   "outputs": [
    {
     "name": "stdout",
     "output_type": "stream",
     "text": [
      "[33 38 43 44 45 54 78 80 82 83 89 90 93]\n"
     ]
    }
   ],
   "source": [
    "\"\"\"\n",
    "Numpy has a built_in numpy.histogram() function which represents the frequency of data distribution in the graphical form.\n",
    "If you have any query you can ask from chatgpt is the best way.\n",
    "\"\"\"\n",
    "\n",
    "a = np.array([33, 44, 45, 78, 89, 80, 43, 54, 90, 93, 83, 38, 82])\n",
    "a.sort()\n",
    "print(a)"
   ]
  },
  {
   "cell_type": "code",
   "execution_count": 60,
   "id": "d553c2da-c114-4c1a-b11d-8c6ea74c94c7",
   "metadata": {},
   "outputs": [
    {
     "name": "stdout",
     "output_type": "stream",
     "text": [
      "Counts: [3 4 2 3]\n",
      "Bins: [1. 3. 5. 7. 9.]\n"
     ]
    }
   ],
   "source": [
    "import numpy as np\n",
    "\n",
    "data = [1, 2, 2, 3, 4, 4, 4, 5, 6, 7, 8, 9]\n",
    "counts, bins = np.histogram(data, bins=4)\n",
    "\n",
    "print(\"Counts:\", counts)\n",
    "print(\"Bins:\", bins)\n"
   ]
  },
  {
   "cell_type": "code",
   "execution_count": 65,
   "id": "36248699-22ac-471d-b2a3-7c3829acdef1",
   "metadata": {},
   "outputs": [
    {
     "data": {
      "image/png": "[encoded data removed]",
      "text/plain": [
       "<Figure size 640x480 with 1 Axes>"
      ]
     },
     "metadata": {},
     "output_type": "display_data"
    }
   ],
   "source": [
    "import matplotlib.pyplot as plt\n",
    "\n",
    "data = np.random.randn(1000)  # normal distribution\n",
    "counts, bins = np.histogram(data, bins=10)\n",
    "\n",
    "plt.hist(data, bins=10, color=\"skyblue\", edgecolor=\"black\")\n",
    "plt.xlabel(\"Value\")\n",
    "plt.ylabel(\"Frequency\")\n",
    "plt.title(\"Histogram Example\")\n",
    "plt.show()\n"
   ]
  },
  {
   "cell_type": "code",
   "execution_count": 64,
   "id": "3ded7c0b-738e-4227-ab7a-2963af1a663a",
   "metadata": {},
   "outputs": [
    {
     "data": {
      "text/plain": [
       "(array([0, 0, 0, 2, 3, 1, 0, 1, 4, 2], dtype=int64),\n",
       " array([  0,  10,  20,  30,  40,  50,  60,  70,  80,  90, 100]))"
      ]
     },
     "execution_count": 64,
     "metadata": {},
     "output_type": "execute_result"
    }
   ],
   "source": [
    "# Ess mein ye btaya giya hai keh 0-10 ke darmiyan kitne value hai, 11-20 ke darmiyan kitne upto 91-100 ke darmiyan kitny value repeat howy\n",
    "np.histogram(a , bins = [0, 10, 20, 30, 40, 50, 60, 70, 80, 90, 100])"
   ]
  },
  {
   "cell_type": "code",
   "execution_count": 66,
   "id": "f7f3e76f-6337-4630-a21e-00769d6608aa",
   "metadata": {},
   "outputs": [
    {
     "name": "stdout",
     "output_type": "stream",
     "text": [
      "18 317 147\n"
     ]
    }
   ],
   "source": [
    "\"\"\"\n",
    "Chhoti datasets → \n",
    "                Sturges ya sqrt rule\n",
    "Large datasets → \n",
    "               Freedman-Diaconis rule (IQR based)\n",
    "Goal: \n",
    "     detail + smoothness balance karna\n",
    "\n",
    "\"\"\"\n",
    "\n",
    "import numpy as np\n",
    "\n",
    "data = np.random.randn(100000)  # large dataset\n",
    "\n",
    "# Sturges' Rule\n",
    "bins_sturges = int(np.ceil(np.log2(len(data)) + 1))\n",
    "\n",
    "# Square-root Rule\n",
    "bins_sqrt = int(np.ceil(np.sqrt(len(data))))\n",
    "\n",
    "# Freedman-Diaconis Rule\n",
    "q75, q25 = np.percentile(data, [75 ,25])\n",
    "iqr = q75 - q25\n",
    "bin_width = 2 * iqr / (len(data)**(1/3))\n",
    "bins_fd = int(np.ceil((data.max() - data.min()) / bin_width))\n",
    "\n",
    "print(bins_sturges, bins_sqrt, bins_fd)\n"
   ]
  },
  {
   "cell_type": "code",
   "execution_count": null,
   "id": "7b55ae0d-e5b8-4edc-a0e9-86ec0519c98b",
   "metadata": {},
   "outputs": [],
   "source": []
  },
  {
   "cell_type": "markdown",
   "id": "9f3741a6-e956-4205-afd8-15aef32c804d",
   "metadata": {},
   "source": [
    "### np.corrcoef() :"
   ]
  },
  {
   "cell_type": "code",
   "execution_count": 1,
   "id": "4d0b1196-12e4-4964-aa2b-eab4d7d4dd1f",
   "metadata": {},
   "outputs": [],
   "source": [
    "import numpy as np"
   ]
  },
  {
   "cell_type": "code",
   "execution_count": 67,
   "id": "947317a0-a189-4d80-a747-f5e18197db94",
   "metadata": {},
   "outputs": [
    {
     "name": "stdout",
     "output_type": "stream",
     "text": [
      "[[1. 1.]\n",
      " [1. 1.]]\n"
     ]
    }
   ],
   "source": [
    "\"\"\"\n",
    "the correlation coefficient measures the strength and direction of the linear relationship between two variables.\n",
    "It ranges from -1 to 1:\n",
    "*). +1 → Perfect positive correlation (as one variable increases, the other increases).\n",
    "*).  0 → No correlation (no relationship between variables).\n",
    "*). -1 → Perfect negative correlation (as one variable increases, the other decreases).\n",
    "return pearson product_moment correlation coefficients.\n",
    "\n",
    "Diagonal → correlation of variable with itself = 1\n",
    "\n",
    "Off-diagonal → correlation between two variables\n",
    "\"\"\"\n",
    "\n",
    "# Strong positive correlation\n",
    "experience = [ 5,10,15,20,25,30]\n",
    "salary = [ 100, 200, 300, 400, 500, 600]\n",
    "\n",
    "correlation_matrix = np.corrcoef(experience , salary)\n",
    "print(correlation_matrix)"
   ]
  },
  {
   "cell_type": "code",
   "execution_count": 3,
   "id": "c71453ac-7192-4cb3-9b03-004718477724",
   "metadata": {},
   "outputs": [
    {
     "name": "stdout",
     "output_type": "stream",
     "text": [
      "[[ 1.         -0.94285714]\n",
      " [-0.94285714  1.        ]]\n"
     ]
    }
   ],
   "source": [
    "# Strong negative correlation :\n",
    "experience = [ 5,10,15,20,25,30]\n",
    "salary = [600, 500, 400, 200, 300, 100]\n",
    "correlation_matrix = np.corrcoef(experience , salary)\n",
    "print(correlation_matrix)"
   ]
  },
  {
   "cell_type": "code",
   "execution_count": 6,
   "id": "4ce74ca8-22d2-4d80-92cd-82d88b77fe7f",
   "metadata": {},
   "outputs": [
    {
     "name": "stdout",
     "output_type": "stream",
     "text": [
      "[[1.         0.00580112]\n",
      " [0.00580112 1.        ]]\n"
     ]
    }
   ],
   "source": [
    "# no correlation\n",
    "experience = [ 5,10,15,20,25,30]\n",
    "salary = [12, 42, 11, 42, 44, 5]   # random values\n",
    "correlation_matrix = np.corrcoef(experience , salary)\n",
    "print(correlation_matrix)"
   ]
  },
  {
   "cell_type": "code",
   "execution_count": 5,
   "id": "d06c25c9-623a-4b4d-bb07-541819cb2d42",
   "metadata": {},
   "outputs": [
    {
     "name": "stdout",
     "output_type": "stream",
     "text": [
      "[[1.         0.30348849]\n",
      " [0.30348849 1.        ]]\n"
     ]
    }
   ],
   "source": [
    "# No correlation\n",
    "x = np.array([1, 2, 3, 4, 5])\n",
    "y = np.array([10, 5, 3, 8, 12])  # Random values\n",
    "\n",
    "correlation_matrix = np.corrcoef(x, y)\n",
    "print(correlation_matrix)"
   ]
  },
  {
   "cell_type": "code",
   "execution_count": 7,
   "id": "e18a3696-4b5f-4f88-bc60-08ec4de4f7a8",
   "metadata": {},
   "outputs": [
    {
     "name": "stdout",
     "output_type": "stream",
     "text": [
      "[[ 1.  1. -1.]\n",
      " [ 1.  1. -1.]\n",
      " [-1. -1.  1.]]\n"
     ]
    }
   ],
   "source": [
    "# Correlation in a 2D array \n",
    "data = np.array([\n",
    "    [10, 20, 30, 40, 50],  # Variable 1\n",
    "    [5, 15, 25, 35, 45],   # Variable 2 (positively correlated)\n",
    "    [50, 40, 30, 20, 10],  # Variable 3 (negatively correlated)\n",
    "])\n",
    "\n",
    "correlation_matrix = np.corrcoef(data)\n",
    "print(correlation_matrix)\n"
   ]
  },
  {
   "cell_type": "markdown",
   "id": "4a56af6b-439b-46bf-9c00-b5642972e88b",
   "metadata": {},
   "source": [
    "### np.isin() :"
   ]
  },
  {
   "cell_type": "code",
   "execution_count": 1,
   "id": "d35918d7-3c2a-4a18-90cc-9f5566e61e92",
   "metadata": {},
   "outputs": [
    {
     "data": {
      "text/plain": [
       "array([[ 8, 45, 22, 38],\n",
       "       [ 6, 47, 14, 10],\n",
       "       [38, 45, 41, 49],\n",
       "       [44,  1, 14, 36],\n",
       "       [40, 29, 32, 48],\n",
       "       [49, 41, 49, 44]])"
      ]
     },
     "execution_count": 1,
     "metadata": {},
     "output_type": "execute_result"
    }
   ],
   "source": [
    "\"\"\"\n",
    "The numpy.isin() function checks if elements of one array exist in another array and\n",
    "returns a Boolean mask (True/False values) \n",
    "\"\"\"\n",
    "import numpy as np\n",
    "arr = np.random.randint(1, 50, 24).reshape(6,4)\n",
    "arr"
   ]
  },
  {
   "cell_type": "code",
   "execution_count": 5,
   "id": "07d2b9c6-eeab-4ea8-a6b3-1d499c902470",
   "metadata": {},
   "outputs": [
    {
     "data": {
      "text/plain": [
       "array([[False, False,  True, False],\n",
       "       [False, False, False,  True],\n",
       "       [False, False, False, False],\n",
       "       [False, False, False, False],\n",
       "       [ True, False, False, False],\n",
       "       [False, False, False, False]])"
      ]
     },
     "execution_count": 5,
     "metadata": {},
     "output_type": "execute_result"
    }
   ],
   "source": [
    "# values in boolean form\n",
    "test_values = [ 10, 20, 30, 23, 25, 22, 50 , 34, 40]\n",
    "np.isin(arr, test_values)          # this show only those values those are match"
   ]
  },
  {
   "cell_type": "code",
   "execution_count": 72,
   "id": "9e9575e5-7132-4ffe-814f-9257f6f3e4ed",
   "metadata": {},
   "outputs": [
    {
     "data": {
      "text/plain": [
       "array([2, 4])"
      ]
     },
     "execution_count": 72,
     "metadata": {},
     "output_type": "execute_result"
    }
   ],
   "source": [
    "# But if we want we can take values those are in given data. by sorting wize\n",
    "arr[np.isin(arr, test_values)]\n"
   ]
  },
  {
   "cell_type": "code",
   "execution_count": 73,
   "id": "18a94cf0-5bb4-4fe1-ba8c-27bfaef6676c",
   "metadata": {},
   "outputs": [
    {
     "name": "stdout",
     "output_type": "stream",
     "text": [
      "[2 4]\n"
     ]
    }
   ],
   "source": [
    "# Examples from chatgpt :\n",
    "# Basic usage \n",
    "import numpy as np\n",
    "\n",
    "arr = np.array([1, 2, 3, 4, 5])\n",
    "test_values = [2, 4, 6]\n",
    "\n",
    "result = np.isin(arr, test_values)\n",
    "print(arr[result])  "
   ]
  },
  {
   "cell_type": "code",
   "execution_count": 11,
   "id": "686d40a8-0b1f-4079-8f14-340d3503f237",
   "metadata": {},
   "outputs": [
    {
     "data": {
      "text/plain": [
       "array([ True,  True,  True,  True, False])"
      ]
     },
     "execution_count": 11,
     "metadata": {},
     "output_type": "execute_result"
    }
   ],
   "source": [
    "# I can also check in this form by providing of list \n",
    "arr = np.array([1, 2, 3, 4, 5])\n",
    "result = np.isin([3,2,5,5,6], arr)\n",
    "result"
   ]
  },
  {
   "cell_type": "code",
   "execution_count": 19,
   "id": "46dc7206-df0c-48b4-a693-2082ef451f72",
   "metadata": {},
   "outputs": [
    {
     "name": "stdout",
     "output_type": "stream",
     "text": [
      "[2 4]\n"
     ]
    }
   ],
   "source": [
    "# filter values\n",
    "filtered_values = arr[np.isin(arr, test_values)]\n",
    "print(filtered_values) \n"
   ]
  },
  {
   "cell_type": "code",
   "execution_count": 20,
   "id": "3316ae80-4a19-4a8f-890e-b7fb108cbe4c",
   "metadata": {},
   "outputs": [
    {
     "name": "stdout",
     "output_type": "stream",
     "text": [
      "[1 3 5]\n"
     ]
    }
   ],
   "source": [
    "# by using invert=True by getting non_matching values\n",
    "non_matching = arr[np.isin(arr, test_values, invert=True)]\n",
    "print(non_matching) \n"
   ]
  },
  {
   "cell_type": "code",
   "execution_count": 23,
   "id": "399995e9-ee6e-4634-833d-1883c425d387",
   "metadata": {},
   "outputs": [
    {
     "name": "stdout",
     "output_type": "stream",
     "text": [
      "[2 4 6]\n"
     ]
    }
   ],
   "source": [
    "# we can also used np.isin() in 2D \n",
    "matrix = np.array([[1, 2, 3], [4, 5, 6]])\n",
    "test_values = [2, 4, 6]\n",
    "\n",
    "result = matrix[np.isin(matrix, test_values)]\n",
    "print(result)\n"
   ]
  },
  {
   "cell_type": "code",
   "execution_count": 24,
   "id": "0ae989cc-c349-4558-9cf4-0a223bc9b49c",
   "metadata": {},
   "outputs": [
    {
     "name": "stdout",
     "output_type": "stream",
     "text": [
      "[ 1 99  3 99  5]\n"
     ]
    }
   ],
   "source": [
    "# we can also replace values those values those are matching\n",
    "arr = np.array([1, 2, 3, 4, 5])\n",
    "arr[np.isin(arr, test_values)] = 99\n",
    "print(arr)  \n"
   ]
  },
  {
   "cell_type": "markdown",
   "id": "6a37d20b-0df4-4125-9258-631c87d572be",
   "metadata": {},
   "source": [
    "### np.isnan() :\n"
   ]
  },
  {
   "cell_type": "code",
   "execution_count": 75,
   "id": "ced448d5-9f42-4ce4-9c40-9f71252be608",
   "metadata": {},
   "outputs": [
    {
     "name": "stdout",
     "output_type": "stream",
     "text": [
      "Missing Value Mask: [False  True False False  True False]\n"
     ]
    }
   ],
   "source": [
    "\"\"\"\n",
    "Missing values in NumPy are usually represented as NaN (Not a Number). We can detect them using numpy.isnan().\n",
    "\n",
    "It's Usage :\n",
    "            Data Cleaning → Handle missing values before training models.\n",
    "            Feature Engineering → Fill gaps using statistical methods.\n",
    "            Time-Series Analysis → Detect and handle missing timestamps.\n",
    "\"\"\"\n",
    "import numpy as np\n",
    "\n",
    "# Create an array with missing values (NaN)\n",
    "data = np.array([10.0, np.nan, 30.0, 40.0, np.nan, 60.0])\n",
    "\n",
    "# Find missing values (returns a Boolean mask)\n",
    "missing_mask = np.isnan(data)\n",
    "\n",
    "print(\"Missing Value Mask:\", missing_mask)\n"
   ]
  },
  {
   "cell_type": "code",
   "execution_count": 44,
   "id": "8fe25618-f00f-4d6e-91a8-2f689e943e84",
   "metadata": {},
   "outputs": [
    {
     "data": {
      "text/plain": [
       "(array([1, 4], dtype=int64),)"
      ]
     },
     "execution_count": 44,
     "metadata": {},
     "output_type": "execute_result"
    }
   ],
   "source": [
    "# We can also find missing values of indices \n",
    "np.where( np.isnan(data))"
   ]
  },
  {
   "cell_type": "code",
   "execution_count": 45,
   "id": "bbf30b82-d5be-40bc-a935-fe8f096fecb8",
   "metadata": {},
   "outputs": [
    {
     "data": {
      "text/plain": [
       "2"
      ]
     },
     "execution_count": 45,
     "metadata": {},
     "output_type": "execute_result"
    }
   ],
   "source": [
    "# counting missing values\n",
    "np.sum(np.isnan(data))"
   ]
  },
  {
   "cell_type": "code",
   "execution_count": 16,
   "id": "af5a68f0-e37b-4384-81a7-bcec2e6c95f5",
   "metadata": {},
   "outputs": [
    {
     "data": {
      "text/plain": [
       "array([10., 30., 40., 60.])"
      ]
     },
     "execution_count": 16,
     "metadata": {},
     "output_type": "execute_result"
    }
   ],
   "source": [
    "# removing missing values from an array \n",
    "data[~np.isnan(data)]"
   ]
  },
  {
   "cell_type": "code",
   "execution_count": 55,
   "id": "71bd09ab-c078-4639-af82-043a84f4480c",
   "metadata": {},
   "outputs": [
    {
     "name": "stdout",
     "output_type": "stream",
     "text": [
      "[10. 35. 30. 40. 35. 60.]\n"
     ]
    }
   ],
   "source": [
    "# replacing missing values with mean :\n",
    "clean_data = np.nanmean(data)    # mean value\n",
    "data[np.isnan(data)]\n",
    "print(data)"
   ]
  },
  {
   "cell_type": "markdown",
   "id": "898cb2a4-6768-4bfc-98a9-002af923a73c",
   "metadata": {},
   "source": [
    "### np.flip() :"
   ]
  },
  {
   "cell_type": "code",
   "execution_count": 6,
   "id": "9ec9571d-adb9-43ba-adbe-5609d2d07da2",
   "metadata": {},
   "outputs": [
    {
     "name": "stdout",
     "output_type": "stream",
     "text": [
      "[ 4  2 10  9  8  7  6  5  5  4  3  2  1]\n",
      "[ 1  2  3  4  5  5  6  7  8  9 10  2  4]\n"
     ]
    }
   ],
   "source": [
    "\"\"\"\n",
    "The numpy.flip() function reverses the order of elements in an array along a specified axis. It works with 1D, 2D, and multi-dimensional arrays.\n",
    "\n",
    "It's Usage: \n",
    "           Use Cases of np.flip()\n",
    "             Image Processing → Flip images vertically/horizontally.\n",
    "            Data Augmentation → Generate variations of datasets.\n",
    "            Time-Series Data → Reverse time-based sequences.\n",
    "\"\"\"\n",
    "\n",
    "arr = np.array([1,2,3,4,5,5,6,7,8,9,10,2,4])\n",
    "print(np.flip(arr))\n",
    "print(arr)"
   ]
  },
  {
   "cell_type": "code",
   "execution_count": 27,
   "id": "426571c0-2873-4146-a778-9faf2277bcd7",
   "metadata": {},
   "outputs": [
    {
     "data": {
      "text/plain": [
       "array([[ 0,  1,  2,  3],\n",
       "       [ 4,  5,  6,  7],\n",
       "       [ 8,  9, 10, 11]])"
      ]
     },
     "execution_count": 27,
     "metadata": {},
     "output_type": "execute_result"
    }
   ],
   "source": [
    "# we can also flip 2D and 3D form of data\n",
    "matrix = np.arange(12).reshape(3,4)\n",
    "matrix"
   ]
  },
  {
   "cell_type": "code",
   "execution_count": 29,
   "id": "c7506a47-ecdb-49f4-9088-4112a7bcd5b4",
   "metadata": {},
   "outputs": [
    {
     "data": {
      "text/plain": [
       "array([[11, 10,  9,  8],\n",
       "       [ 7,  6,  5,  4],\n",
       "       [ 3,  2,  1,  0]])"
      ]
     },
     "execution_count": 29,
     "metadata": {},
     "output_type": "execute_result"
    }
   ],
   "source": [
    "np.flip(matrix)"
   ]
  },
  {
   "cell_type": "code",
   "execution_count": 30,
   "id": "f051f2d4-17ea-4ab4-a861-e454402a3b8f",
   "metadata": {},
   "outputs": [
    {
     "data": {
      "text/plain": [
       "array([[ 8,  9, 10, 11],\n",
       "       [ 4,  5,  6,  7],\n",
       "       [ 0,  1,  2,  3]])"
      ]
     },
     "execution_count": 30,
     "metadata": {},
     "output_type": "execute_result"
    }
   ],
   "source": [
    "# We Can also flip values row wize and column wize\n",
    "np.flip(matrix , axis = 0)\n"
   ]
  },
  {
   "cell_type": "code",
   "execution_count": 31,
   "id": "c480332f-91b1-4424-8821-aa9fec647c20",
   "metadata": {},
   "outputs": [
    {
     "data": {
      "text/plain": [
       "array([[ 3,  2,  1,  0],\n",
       "       [ 7,  6,  5,  4],\n",
       "       [11, 10,  9,  8]])"
      ]
     },
     "execution_count": 31,
     "metadata": {},
     "output_type": "execute_result"
    }
   ],
   "source": [
    "np.flip(matrix , axis=1)"
   ]
  },
  {
   "cell_type": "code",
   "execution_count": 35,
   "id": "3fcfed02-c682-407e-b513-560fbf7a8437",
   "metadata": {},
   "outputs": [
    {
     "data": {
      "text/plain": [
       "array([[[1, 2],\n",
       "        [3, 4]],\n",
       "\n",
       "       [[5, 6],\n",
       "        [7, 8]]])"
      ]
     },
     "execution_count": 35,
     "metadata": {},
     "output_type": "execute_result"
    }
   ],
   "source": [
    "# fliping on 3D \n",
    "cube = np.arange(1,9).reshape(2,2,2)\n",
    "cube"
   ]
  },
  {
   "cell_type": "code",
   "execution_count": 36,
   "id": "bfcc3294-bd83-481b-8bd8-64dcb678a9ea",
   "metadata": {},
   "outputs": [
    {
     "name": "stdout",
     "output_type": "stream",
     "text": [
      "Flipped 3D Array:\n",
      " [[[3 4]\n",
      "  [1 2]]\n",
      "\n",
      " [[7 8]\n",
      "  [5 6]]]\n"
     ]
    }
   ],
   "source": [
    "# In 3d array fliping works with signle array no itemwize\n",
    "flipped_cube = np.flip(cube, axis=1)\n",
    "print(\"Flipped 3D Array:\\n\", flipped_cube)\n"
   ]
  },
  {
   "cell_type": "markdown",
   "id": "c0dc73bc-a6a3-4f88-b6b4-66c9c2d7bdb0",
   "metadata": {},
   "source": [
    "### np.put() :"
   ]
  },
  {
   "cell_type": "code",
   "execution_count": 38,
   "id": "2c56242b-3b0d-4526-acdd-31de4d858ecd",
   "metadata": {},
   "outputs": [
    {
     "name": "stdout",
     "output_type": "stream",
     "text": [
      "[10 99 30 77 50]\n"
     ]
    }
   ],
   "source": [
    "\"\"\"\n",
    "The numpy.put() function is used to replace elements at specific indices in an array with new values. It modifies the array in place.\n",
    "It's Usage: \n",
    "            Updating specific elements in large datasets efficiently.\n",
    "            Modifying a matrix without reshaping.\n",
    "            Handling missing or incorrect values in NumPy arrays.\n",
    "\n",
    "Using in ML:\n",
    "             Feature Engineering → Replace specific outliers with median values.\n",
    "             Data Augmentation → Randomly modify dataset values for training models.\n",
    "             Image Processing → Alter specific pixels in an image array.\n",
    "\"\"\"\n",
    "\n",
    "# replacing elements with specific indices: It permanently modified values in original values\n",
    "\n",
    "\n",
    "arr = np.array([10, 20, 30, 40, 50])\n",
    "np.put(arr, [1, 3], [99, 77])  # Replace index 1 with 99, index 3 with 77\n",
    "print(arr) "
   ]
  },
  {
   "cell_type": "code",
   "execution_count": 11,
   "id": "e228871b-abc4-4870-8ac9-dc78ac8eb961",
   "metadata": {},
   "outputs": [
    {
     "data": {
      "text/plain": [
       "array([ 1.,  2.,  4., nan,  6., nan,  8., nan])"
      ]
     },
     "execution_count": 11,
     "metadata": {},
     "output_type": "execute_result"
    }
   ],
   "source": [
    "arr = np.array([1,2,4,np.nan, 6, np.nan, 8, np.nan])\n",
    "arr"
   ]
  },
  {
   "cell_type": "code",
   "execution_count": 25,
   "id": "2c33367e-9c40-4aa7-8b25-d2b0816049f5",
   "metadata": {},
   "outputs": [
    {
     "data": {
      "text/plain": [
       "(array([3, 5, 7], dtype=int64),)"
      ]
     },
     "execution_count": 25,
     "metadata": {},
     "output_type": "execute_result"
    }
   ],
   "source": [
    "np.where(np.isnan(arr))"
   ]
  },
  {
   "cell_type": "code",
   "execution_count": 27,
   "id": "cbdb60b3-5811-4e7d-80e3-5d3d6cb67e68",
   "metadata": {},
   "outputs": [
    {
     "name": "stdout",
     "output_type": "stream",
     "text": [
      "[ 1.  2.  4. 44.  6. 33.  8. 22.]\n"
     ]
    }
   ],
   "source": [
    "np.put(arr, [3,5,7], [44, 33, 22])\n",
    "print(arr)"
   ]
  },
  {
   "cell_type": "code",
   "execution_count": 77,
   "id": "92c7d665-248f-4e61-b3f5-ae05e4ad7c87",
   "metadata": {},
   "outputs": [
    {
     "name": "stdout",
     "output_type": "stream",
     "text": [
      "[1.  2.  4.  4.2 6.  4.2 8.  4.2]\n"
     ]
    }
   ],
   "source": [
    "# this take myself for handling missing values\n",
    "arr = np.array([1,2,4,np.nan, 6, np.nan, 8, np.nan])\n",
    "# missing_values = np.where(np.isnan(arr))\n",
    "mean_value = np.nanmean(arr)\n",
    "arr[np.isnan(arr)] = mean_value\n",
    "print(arr)"
   ]
  },
  {
   "cell_type": "code",
   "execution_count": 74,
   "id": "e87ae534-2d15-4ef5-9fa0-c3243ccf290d",
   "metadata": {},
   "outputs": [
    {
     "name": "stdout",
     "output_type": "stream",
     "text": [
      "[1.  2.  3.  4.2 5.  6.  7.  4.2]\n"
     ]
    }
   ],
   "source": [
    "np.put(arr, [2,4, 5, 6], [3, 5, 6, 7])\n",
    "print(arr)"
   ]
  },
  {
   "cell_type": "code",
   "execution_count": 83,
   "id": "9988d58d-89a5-4376-8975-5e40f8699aae",
   "metadata": {},
   "outputs": [
    {
     "name": "stdout",
     "output_type": "stream",
     "text": [
      "The One D array with missing values:\n",
      " [ 1.  2.  4. nan  6. nan  8. nan]\n",
      "(array([3, 5, 7], dtype=int64),)\n",
      "Filled missing values:\n",
      " [1. 2. 4. 3. 6. 3. 8. 3.]\n"
     ]
    }
   ],
   "source": [
    "# fill the missing values with manually\n",
    "arr = np.array([1,2,4,np.nan, 6, np.nan, 8, np.nan])\n",
    "print(f'The One D array with missing values:\\n {arr}')\n",
    "where_is_missing = np.where(np.isnan(arr))\n",
    "print(where_is_missing)\n",
    "np.put(arr , [3,5,7], [3,3,3])\n",
    "print(f'Filled missing values:\\n {arr}')"
   ]
  },
  {
   "cell_type": "code",
   "execution_count": 85,
   "id": "2d075e57-d17a-438c-8961-8b734bb2ae23",
   "metadata": {},
   "outputs": [
    {
     "name": "stdout",
     "output_type": "stream",
     "text": [
      "[1.  2.  4.  4.2 6.  4.2 8.  4.2]\n"
     ]
    }
   ],
   "source": [
    "# Filling out missing values with meand:\n",
    "arr = np.array([1,2,4,np.nan, 6, np.nan, 8, np.nan])\n",
    "mean_value = np.nanmean(arr)\n",
    "arr[np.isnan(arr)] = mean_value\n",
    "print(arr)"
   ]
  },
  {
   "cell_type": "markdown",
   "id": "a79980cf-6e92-4ef5-a3e1-b34f16e620b8",
   "metadata": {},
   "source": [
    "### np.delete() :\n"
   ]
  },
  {
   "cell_type": "code",
   "execution_count": 7,
   "id": "1917ede3-17fa-4f8a-a491-35c5bc626855",
   "metadata": {},
   "outputs": [
    {
     "data": {
      "text/plain": [
       "array([10, 20, 40, 60, 80])"
      ]
     },
     "execution_count": 7,
     "metadata": {},
     "output_type": "execute_result"
    }
   ],
   "source": [
    "\"\"\"\n",
    "The np.delete() function in NumPy is used to remove elements from an array by using of indices along a specified axis.\n",
    "\n",
    "It's Usage:\n",
    "             Feature selection in Machine Learning → Remove irrelevant columns from datasets.\n",
    "             Data cleaning → Delete specific rows with missing or incorrect values.\n",
    "             Image processing → Remove specific pixels or channels from images.\n",
    "\"\"\"\n",
    "# Delete an element from an 1D arry\n",
    "arr = np.array([10, 20, 30, 40, 50, 60, 70, 80, 90])\n",
    "new_arr = np.delete(arr, [2,4,6,8])\n",
    "new_arr"
   ]
  },
  {
   "cell_type": "code",
   "execution_count": 18,
   "id": "68b01f02-a4a3-4426-bd76-e3d13626c72b",
   "metadata": {},
   "outputs": [
    {
     "data": {
      "text/plain": [
       "array([[1, 2, 3],\n",
       "       [7, 8, 9]])"
      ]
     },
     "execution_count": 18,
     "metadata": {},
     "output_type": "execute_result"
    }
   ],
   "source": [
    "# delete a row from multiple or 2D array:    Delete row on axis=0\n",
    "arr_2D = np.array([[1, 2, 3], \n",
    "                  [4, 5, 6], \n",
    "                  [7, 8, 9]])\n",
    "np.delete(arr_2D ,1, axis = 0)\n",
    "\n",
    "# deleted of row [4,5,6]"
   ]
  },
  {
   "cell_type": "code",
   "execution_count": 80,
   "id": "292afd5f-9f5e-4bfc-9717-561762623f05",
   "metadata": {},
   "outputs": [
    {
     "data": {
      "text/plain": [
       "array([[1, 3],\n",
       "       [4, 6],\n",
       "       [7, 9]])"
      ]
     },
     "execution_count": 80,
     "metadata": {},
     "output_type": "execute_result"
    }
   ],
   "source": [
    "# Delete column from a 2D array\n",
    "np.delete(arr_2D, 1, axis=1)\n",
    "\n",
    "# deleted of column [3,5,7]"
   ]
  },
  {
   "cell_type": "markdown",
   "id": "64be631c-ffbb-438d-a1d7-1ca263cfad2d",
   "metadata": {},
   "source": [
    "### Set Functions :"
   ]
  },
  {
   "cell_type": "code",
   "execution_count": 5,
   "id": "e473c1df-458c-4b00-b610-c17e07ce33cd",
   "metadata": {},
   "outputs": [
    {
     "data": {
      "text/plain": [
       "array([1, 2, 3, 4, 5, 6, 7, 8, 9])"
      ]
     },
     "execution_count": 5,
     "metadata": {},
     "output_type": "execute_result"
    }
   ],
   "source": [
    "# 1) np.union1d() :\n",
    "\"\"\"\n",
    "The np.union1d() function returns the sorted, unique union of two NumPy arrays. It combines elements from both arrays, removing duplicates.\n",
    "\n",
    "It's Usage :\n",
    "             Set operations → Used when handling mathematical sets.\n",
    "             Data processing → Merging unique IDs, removing duplicates.\n",
    "             Machine Learning → Combining feature sets for better model training.\n",
    "\n",
    "Syntax :\n",
    "            np.union1d(arr1, arr2)\n",
    "\"\"\"\n",
    "\n",
    "# find union of two 1d array: It delete duplicates values only print unique values\n",
    "a1 = np.array([1,2,4,5,6,4])\n",
    "a2 = np.array([2,3,4,5,7,8,9])\n",
    "new_arr = np.union1d(a1, a2)\n",
    "new_arr"
   ]
  },
  {
   "cell_type": "code",
   "execution_count": 82,
   "id": "860648a6-f248-482f-b8f4-2411e1efe375",
   "metadata": {},
   "outputs": [
    {
     "name": "stdout",
     "output_type": "stream",
     "text": [
      "['apple' 'banana' 'cherry' 'date' 'elderberry']\n"
     ]
    }
   ],
   "source": [
    "# Union of strings array\n",
    "arr1 = np.array([\"apple\", \"banana\", \"cherry\"])\n",
    "arr2 = np.array([\"banana\", \"date\", \"elderberry\"])\n",
    "\n",
    "union_arr = np.union1d(arr1, arr2)\n",
    "print(union_arr)\n"
   ]
  },
  {
   "cell_type": "code",
   "execution_count": null,
   "id": "c26c6bdd-a665-44ab-8b70-f1969a9d2b6d",
   "metadata": {},
   "outputs": [],
   "source": []
  },
  {
   "cell_type": "code",
   "execution_count": 83,
   "id": "e476b116-212c-4b21-93ec-68f142b61940",
   "metadata": {},
   "outputs": [
    {
     "name": "stdout",
     "output_type": "stream",
     "text": [
      "[3 4 5]\n"
     ]
    }
   ],
   "source": [
    " # 2)  np.intersect1d() :\n",
    "\"\"\"\n",
    "The np.intersect1d() function returns the sorted, unique elements that are common in both arrays.\n",
    "\n",
    "It's Usage:\n",
    "            Data Cleaning → Find shared values in two datasets.\n",
    "            Machine Learning → Find common features between datasets.\n",
    "            Set Operations → Useful when working with mathematical set operations.\n",
    "\n",
    "Syntax :\n",
    "          np.intersect1d(arr1, arr2)\n",
    "\"\"\"\n",
    "\n",
    "# find common elements in two arrays\n",
    "import numpy as np\n",
    "\n",
    "arr1 = np.array([1, 2, 3, 4, 5])\n",
    "arr2 = np.array([3, 4, 5, 6, 7])\n",
    "\n",
    "common_elements = np.intersect1d(arr1, arr2)\n",
    "print(common_elements)\n"
   ]
  },
  {
   "cell_type": "code",
   "execution_count": 84,
   "id": "45c3e713-410d-4162-80de-fef1ab5b7b2b",
   "metadata": {},
   "outputs": [
    {
     "name": "stdout",
     "output_type": "stream",
     "text": [
      "[20]\n"
     ]
    }
   ],
   "source": [
    "# Handling dublicates ( only  unique  common elements)\n",
    "# Here 20 repeated many times but by using of intersect1d it can only show once\n",
    "arr1 = np.array([10, 20, 20, 30, 40])\n",
    "arr2 = np.array([20, 20, 50, 60])\n",
    "\n",
    "common_elements = np.intersect1d(arr1, arr2)\n",
    "print(common_elements)\n"
   ]
  },
  {
   "cell_type": "code",
   "execution_count": 85,
   "id": "56c4ffca-2a71-4587-b264-fe5975270878",
   "metadata": {},
   "outputs": [
    {
     "name": "stdout",
     "output_type": "stream",
     "text": [
      "[1 2 3]\n"
     ]
    }
   ],
   "source": [
    "# 3) np.setdiff1d()\n",
    "\"\"\"\n",
    "The np.setdiff1d() function returns the sorted unique elements that are in one array but not the other.\n",
    "\n",
    "It's Usage:\n",
    "            Data Cleaning → Find missing or extra values in datasets.\n",
    "            Machine Learning → Identify differences in feature sets.\n",
    "            Set Operations → Find exclusive elements between two groups.\n",
    "\n",
    "Syntax:\n",
    "        np.setdiff1d(arr1, arr2, assume_unique=False)\n",
    "\n",
    "\"\"\"\n",
    "\n",
    "# find array in arr1 but not in arr2\n",
    "import numpy as np\n",
    "\n",
    "arr1 = np.array([1, 2, 3, 4, 5, 6])\n",
    "arr2 = np.array([4, 5, 6, 7, 8])\n",
    "\n",
    "difference = np.setdiff1d(arr1, arr2)\n",
    "print(difference)\n"
   ]
  },
  {
   "cell_type": "code",
   "execution_count": 8,
   "id": "c2ca9c93-57f2-489b-970f-8b127e139b4a",
   "metadata": {},
   "outputs": [
    {
     "name": "stdout",
     "output_type": "stream",
     "text": [
      "[10 30 40 70 80]\n"
     ]
    }
   ],
   "source": [
    "# Handling duplicates values\n",
    "arr1 = np.array([10, 20, 20, 30, 40, 70,80])\n",
    "arr2 = np.array([20, 50, 60])\n",
    "\n",
    "difference = np.setdiff1d(arr1, arr2)\n",
    "print(difference)\n"
   ]
  },
  {
   "cell_type": "code",
   "execution_count": 87,
   "id": "5ae9263f-e968-4862-a237-cd33fc5cab7a",
   "metadata": {},
   "outputs": [
    {
     "name": "stdout",
     "output_type": "stream",
     "text": [
      "[1 2 3 6 7 8]\n"
     ]
    }
   ],
   "source": [
    "# 4) np.setxor1d()\n",
    "\"\"\"\n",
    "The np.setxor1d() function returns the sorted unique elements that appear in either of the two input arrays, but not in both.\n",
    "\n",
    "It's Usage:\n",
    "           Data Cleaning → Find elements that exist in one dataset but not in another.\n",
    "           Machine Learning → Identify unique feature differences between datasets.\n",
    "           Set Operations → Compute symmetric difference (unique elements between sets).\n",
    "\"\"\"\n",
    "\n",
    "# exmaple: find unique elements in two arrays\n",
    "import numpy as np\n",
    "\n",
    "arr1 = np.array([1, 2, 3, 4, 5])\n",
    "arr2 = np.array([4, 5, 6, 7, 8])\n",
    "\n",
    "xor_result = np.setxor1d(arr1, arr2)\n",
    "print(xor_result)\n",
    "\n"
   ]
  },
  {
   "cell_type": "code",
   "execution_count": 89,
   "id": "28103299-76d2-49a3-b39b-38ca4b6d4f6d",
   "metadata": {},
   "outputs": [
    {
     "name": "stdout",
     "output_type": "stream",
     "text": [
      "[3 4 5]\n"
     ]
    }
   ],
   "source": [
    "# 5) np.in1d()\n",
    "\"\"\"\n",
    "The np.in1d() function tests whether each element of a 1D array is present in another array.\n",
    "It returns a boolean array of the same shape as the first array.\n",
    "\n",
    "It's Usage:\n",
    "           Data Cleaning → Identify values present/missing in another dataset.\n",
    "           Machine Learning → Check if test data contains known values from training data.\n",
    "           Set Operations → Efficiently check membership in large datasets.\n",
    "\n",
    "\"\"\"\n",
    "# example : Check if arr1 element exist in arr2\n",
    "import numpy as np\n",
    "\n",
    "arr1 = np.array([1, 2, 3, 4, 5])\n",
    "arr2 = np.array([3, 4, 5, 6, 7])\n",
    "\n",
    "mask = np.in1d(arr1, arr2)\n",
    "print(arr1[mask])  \n"
   ]
  },
  {
   "cell_type": "code",
   "execution_count": 91,
   "id": "907c6cba-b6a8-415e-b8c1-9f1e477a8aae",
   "metadata": {},
   "outputs": [
    {
     "name": "stdout",
     "output_type": "stream",
     "text": [
      "[1 2]\n"
     ]
    }
   ],
   "source": [
    "# by using of invert = True only show those element whose are not matching of arr1 with arr2\n",
    "\n",
    "arr1 = np.array([1, 2, 3, 4, 5])\n",
    "arr2 = np.array([3, 4, 5, 6, 7])\n",
    "\n",
    "mask = np.in1d(arr1, arr2, invert = True)\n",
    "print(arr1[mask])  \n"
   ]
  },
  {
   "cell_type": "markdown",
   "id": "3f3b8306-6d9b-4975-a1f7-397f34f261f5",
   "metadata": {},
   "source": [
    "### np.clip() :"
   ]
  },
  {
   "cell_type": "code",
   "execution_count": 88,
   "id": "5d7460d7-eeb3-440b-8838-a407b49615b2",
   "metadata": {},
   "outputs": [
    {
     "name": "stdout",
     "output_type": "stream",
     "text": [
      "[ 5  5 10 15 15]\n"
     ]
    }
   ],
   "source": [
    "\"\"\"\n",
    "The np.clip() function limits the values in an array, ensuring that all elements stay within a specified range.\n",
    "\n",
    "It's Usage:\n",
    "              Data Preprocessing → Clip extreme values in datasets.\n",
    "              Machine Learning → Normalize and remove outliers in data.\n",
    "              Image Processing → Ensure pixel values stay within [0, 255].\n",
    "             Game Development → Restrict player stats (health, speed, etc.)\n",
    "\n",
    "Syntax:\n",
    "           np.clip(arr, min_value, max_value)\n",
    "\n",
    "\"\"\"\n",
    "\n",
    "# Examples: cliping a 1D array\n",
    "\n",
    "import numpy as np\n",
    "\n",
    "arr = np.array([1, 5, 10, 15, 20])\n",
    "clipped_arr = np.clip(arr, 5, 15)\n",
    "\n",
    "print(clipped_arr)\n",
    "\n",
    "# Values below 5 are replaced with 5\n",
    "# Values above 15 are replaced with 15\n"
   ]
  },
  {
   "cell_type": "code",
   "execution_count": 19,
   "id": "3ff506e3-97c2-46a2-887f-26b8749ba241",
   "metadata": {},
   "outputs": [
    {
     "data": {
      "text/plain": [
       "array([[ 7, 22, 23,  7,  5,  3],\n",
       "       [ 3, 27, 13, 21, 11, 20],\n",
       "       [21, 12, 14,  8,  3, 24],\n",
       "       [ 5,  5, 17, 28, 25, 20]])"
      ]
     },
     "execution_count": 19,
     "metadata": {},
     "output_type": "execute_result"
    }
   ],
   "source": [
    "two_D = np.random.randint(1, 30, 24).reshape(4,6)\n",
    "two_D"
   ]
  },
  {
   "cell_type": "code",
   "execution_count": 24,
   "id": "ceff9d36-c10d-44f2-a5f3-6630b715ea6f",
   "metadata": {},
   "outputs": [
    {
     "data": {
      "text/plain": [
       "array([ 5,  7,  8, 11, 12, 13, 14, 17, 20])"
      ]
     },
     "execution_count": 24,
     "metadata": {},
     "output_type": "execute_result"
    }
   ],
   "source": [
    "data = np.clip(two_D , 5, 20)\n",
    "np.unique(data)\n",
    "# data"
   ]
  },
  {
   "cell_type": "code",
   "execution_count": 95,
   "id": "44d7a9e9-648b-489b-9761-f250989d0873",
   "metadata": {},
   "outputs": [
    {
     "data": {
      "text/plain": [
       "array([[[ 8,  8],\n",
       "        [ 8, 27]],\n",
       "\n",
       "       [[15,  9],\n",
       "        [25, 26]]])"
      ]
     },
     "execution_count": 95,
     "metadata": {},
     "output_type": "execute_result"
    }
   ],
   "source": [
    "three_d = np.random.randint(1, 30, 8).reshape(2,2,2)\n",
    "three_d"
   ]
  },
  {
   "cell_type": "code",
   "execution_count": 96,
   "id": "941f71d1-a0be-446c-8e07-1f3a093d96fe",
   "metadata": {},
   "outputs": [
    {
     "data": {
      "text/plain": [
       "array([[[ 8,  8],\n",
       "        [ 8, 10]],\n",
       "\n",
       "       [[10,  9],\n",
       "        [10, 10]]])"
      ]
     },
     "execution_count": 96,
     "metadata": {},
     "output_type": "execute_result"
    }
   ],
   "source": [
    "np.clip(three_d, 5, 10)"
   ]
  },
  {
   "cell_type": "code",
   "execution_count": 97,
   "id": "0494199c-3e46-4a69-83be-901ff3e5473f",
   "metadata": {},
   "outputs": [
    {
     "name": "stdout",
     "output_type": "stream",
     "text": [
      "[0.  0.1 0.5 1.  1. ]\n"
     ]
    }
   ],
   "source": [
    "# cliping normalized data:   In Machine Learning, we often normalize data and clip extreme values to remove outliers.\n",
    "\n",
    "data = np.array([-100, 0.1, 0.5, 1.2, 50])\n",
    "clipped_data = np.clip(data, 0, 1)\n",
    "print(clipped_data)\n"
   ]
  },
  {
   "cell_type": "markdown",
   "id": "f6260cbc-a894-4bb2-8879-66405c7d3e98",
   "metadata": {},
   "source": [
    "### np.swapaxes() :"
   ]
  },
  {
   "cell_type": "code",
   "execution_count": 8,
   "id": "9cab34f0-d73c-4bd7-b26c-8d1dd7882df4",
   "metadata": {},
   "outputs": [
    {
     "name": "stdout",
     "output_type": "stream",
     "text": [
      "[[1 4]\n",
      " [2 5]\n",
      " [3 6]]\n"
     ]
    }
   ],
   "source": [
    "\"\"\"\n",
    "The np.swapaxes() function allows you to swap two axes (dimensions) of a NumPy array, which is useful for reshaping data for various applications\n",
    "like image processing and deep learning.\n",
    "\n",
    "Its Usage:\n",
    "            Machine Learning → Adjust data format for deep learning models (e.g., PyTorch, TensorFlow).\n",
    "            Image Processing → Convert images from (height, width, channels) to (channels, height, width).\n",
    "            Scientific Computing → Rearrange multi-dimensional datasets for analysis.\n",
    "\n",
    "Syntax:\n",
    "          np.swapaxes(arr, axis1, axis2)\n",
    "\n",
    "\"\"\"\n",
    "\n",
    "import numpy as np\n",
    "\n",
    "arr = np.array([[1, 2, 3], \n",
    "                [4, 5, 6]])\n",
    "\n",
    "swapped_arr = np.swapaxes(arr, 0, 1)\n",
    "print(swapped_arr)\n",
    "\n",
    "# Rows become columns and columns become rows (similar to arr.T)"
   ]
  },
  {
   "cell_type": "code",
   "execution_count": 89,
   "id": "19bd5fba-a62b-45ab-aa92-b4d6912a586b",
   "metadata": {},
   "outputs": [
    {
     "name": "stdout",
     "output_type": "stream",
     "text": [
      "(2, 4, 3)\n",
      "(4, 3, 2)\n"
     ]
    },
    {
     "data": {
      "text/plain": [
       "array([[[0.8100677 , 0.12753371, 0.64572642, 0.58397088],\n",
       "        [0.00718767, 0.30956251, 0.13330451, 0.58411565],\n",
       "        [0.84739847, 0.78646749, 0.98206749, 0.80604939]],\n",
       "\n",
       "       [[0.28108406, 0.53397648, 0.31313479, 0.25389312],\n",
       "        [0.46142081, 0.02996415, 0.73441072, 0.13214745],\n",
       "        [0.51065444, 0.45133954, 0.51887274, 0.49363222]]])"
      ]
     },
     "execution_count": 89,
     "metadata": {},
     "output_type": "execute_result"
    }
   ],
   "source": [
    "# np.swapaxes()  & np.transpose()    \n",
    "# np.swapaxes() only swaps two specific axes.\n",
    "# np.transpose() rearranges all axes.\n",
    "\n",
    "arr = np.random.rand(2, 3, 4)\n",
    "\n",
    "print(arr.swapaxes(1, 2).shape)  # (2, 4, 3)\n",
    "print(arr.transpose(2, 1, 0).shape)  # (4, 3, 2)\n",
    "arr"
   ]
  },
  {
   "cell_type": "markdown",
   "id": "c7f12256-5c8d-407c-a951-2893198709dc",
   "metadata": {},
   "source": [
    "## Mathematics for ml and ds with numpy:"
   ]
  },
  {
   "cell_type": "code",
   "execution_count": 1,
   "id": "549d756c-c818-42cc-9a06-f8cf0b313a7f",
   "metadata": {},
   "outputs": [
    {
     "name": "stdout",
     "output_type": "stream",
     "text": [
      "Zero Vector: [0. 0.] Addition: [4 6] Scalar Mult: [3 6]\n"
     ]
    }
   ],
   "source": [
    "import numpy as np\n",
    "v1 = np.array([1, 2])\n",
    "v2 = np.array([3, 4])\n",
    "zero_vector = np.zeros(2)  # [0, 0]\n",
    "add_result = v1 + v2  # [4, 6]\n",
    "scalar_result = 3 * v1  # [3, 6]\n",
    "print(\"Zero Vector:\", zero_vector, \"Addition:\", add_result, \"Scalar Mult:\", scalar_result)"
   ]
  },
  {
   "cell_type": "code",
   "execution_count": 2,
   "id": "487ddbc5-b85c-427b-88ee-65cb0275e9d3",
   "metadata": {},
   "outputs": [
    {
     "name": "stdout",
     "output_type": "stream",
     "text": [
      "Unit Vector: [0.6 0.8]\n",
      "Magnitude of Unit Vector: 1.0\n"
     ]
    }
   ],
   "source": [
    "# Unit Vectors:\n",
    "import numpy as np\n",
    "v = np.array([3, 4])\n",
    "magnitude = np.sqrt(np.sum(v**2))  # Magnitude = 5\n",
    "unit_vector = v / magnitude  # [0.6, 0.8]\n",
    "print(\"Unit Vector:\", unit_vector)\n",
    "print(\"Magnitude of Unit Vector:\", np.sqrt(np.sum(unit_vector**2)))  # ~1"
   ]
  },
  {
   "cell_type": "code",
   "execution_count": 3,
   "id": "530d018a-1339-496f-8c3a-8aeda1531d0a",
   "metadata": {},
   "outputs": [
    {
     "name": "stdout",
     "output_type": "stream",
     "text": [
      "Scalar Vector: [ 8 12]\n"
     ]
    }
   ],
   "source": [
    "# Scaller Vectors:\n",
    "\n",
    "import numpy as np\n",
    "v = np.array([2, 3])\n",
    "k = 4\n",
    "scalar_vector = k * v  # [8, 12]\n",
    "print(\"Scalar Vector:\", scalar_vector)"
   ]
  },
  {
   "cell_type": "code",
   "execution_count": 10,
   "id": "7fb4e500-3995-486f-bd52-23a25d5c047b",
   "metadata": {},
   "outputs": [
    {
     "name": "stdout",
     "output_type": "stream",
     "text": [
      "v2: [2 4] ,\n",
      "2 * v1: [2 4]\n"
     ]
    }
   ],
   "source": [
    "# Linear Depencence\n",
    "\n",
    "import numpy as np\n",
    "v1 = np.array([1, 2])\n",
    "v2 = np.array([2, 4])\n",
    "# Check linear dependence: v2 = 2 * v1\n",
    "scalar = 2\n",
    "result = scalar * v1  # [2, 4]\n",
    "print(\"v2:\", v2, \",\\n2 * v1:\", result)  # Same, so linearly dependent"
   ]
  },
  {
   "cell_type": "code",
   "execution_count": 11,
   "id": "08bbe6c8-fe14-41bf-b5d6-ea2f2e5ac9d9",
   "metadata": {},
   "outputs": [
    {
     "name": "stdout",
     "output_type": "stream",
     "text": [
      "Dot Product: 11\n"
     ]
    }
   ],
   "source": [
    "# Dot product\n",
    "\n",
    "import numpy as np\n",
    "v = np.array([1, 2])\n",
    "u = np.array([3, 4])\n",
    "dot_product = np.dot(v, u)  # 11\n",
    "print(\"Dot Product:\", dot_product)"
   ]
  },
  {
   "cell_type": "code",
   "execution_count": 12,
   "id": "80d70dd3-6399-4f05-bad2-78ab9c2fe25f",
   "metadata": {},
   "outputs": [
    {
     "name": "stdout",
     "output_type": "stream",
     "text": [
      "Cross Product: [-3  6 -3]\n"
     ]
    }
   ],
   "source": [
    "# Cross product\n",
    "\n",
    "import numpy as np\n",
    "v = np.array([1, 2, 3])\n",
    "u = np.array([4, 5, 6])\n",
    "cross_product = np.cross(v, u)  # [-3, 6, -3]\n",
    "print(\"Cross Product:\", cross_product)"
   ]
  },
  {
   "cell_type": "code",
   "execution_count": 13,
   "id": "83671bf5-f067-4e48-a043-aa540b5d481c",
   "metadata": {},
   "outputs": [
    {
     "data": {
      "image/png": "[encoded data removed]",
      "text/plain": [
       "<Figure size 600x600 with 1 Axes>"
      ]
     },
     "metadata": {},
     "output_type": "display_data"
    },
    {
     "name": "stdout",
     "output_type": "stream",
     "text": [
      "Pehla vector: [1 1]\n",
      "Transformed vector: [2 1]\n"
     ]
    }
   ],
   "source": [
    "import numpy as np\n",
    "import matplotlib.pyplot as plt\n",
    "\n",
    "# Shear transformation matrix\n",
    "T = np.array([[1, 1], [0, 1]])\n",
    "\n",
    "# Original vector\n",
    "v = np.array([1, 1])\n",
    "\n",
    "# Apply transformation\n",
    "v_transformed = T @ v  # Matrix multiplication\n",
    "\n",
    "# Plotting\n",
    "plt.figure(figsize=(6, 6))\n",
    "plt.quiver(0, 0, v[0], v[1], color='b', angles='xy', scale_units='xy', scale=1, label='Pehla Vector')\n",
    "plt.quiver(0, 0, v_transformed[0], v_transformed[1], color='r', angles='xy', scale_units='xy', scale=1, label='Transformed Vector')\n",
    "plt.grid(True)\n",
    "plt.xlim(-2, 4)\n",
    "plt.ylim(-2, 4)\n",
    "plt.axhline(0, color='black', linewidth=0.5)\n",
    "plt.axvline(0, color='black', linewidth=0.5)\n",
    "plt.legend()\n",
    "plt.title('Shear Transformation')\n",
    "plt.show()\n",
    "\n",
    "print(\"Pehla vector:\", v)\n",
    "print(\"Transformed vector:\", v_transformed)"
   ]
  },
  {
   "cell_type": "code",
   "execution_count": 41,
   "id": "251b1107-ad50-43b9-b939-d135919861ce",
   "metadata": {},
   "outputs": [
    {
     "name": "stdout",
     "output_type": "stream",
     "text": [
      "2025-08-30 11:57:59.930540\n"
     ]
    }
   ],
   "source": [
    "import datetime\n",
    "today = datetime.datetime.today()\n",
    "print(today)"
   ]
  },
  {
   "cell_type": "code",
   "execution_count": null,
   "id": "b75f84d3-bf50-4659-9d87-3ad6a3b6f6cb",
   "metadata": {},
   "outputs": [],
   "source": []
  },
  {
   "cell_type": "code",
   "execution_count": null,
   "id": "1b237abd-47ec-4cca-b804-f1420d1328dd",
   "metadata": {},
   "outputs": [],
   "source": []
  },
  {
   "cell_type": "code",
   "execution_count": null,
   "id": "a3fe4bb9-8d76-4e53-a154-bfcbf02bc2ac",
   "metadata": {},
   "outputs": [],
   "source": []
  }
 ],
 "metadata": {
  "kernelspec": {
   "display_name": "Python 3 (ipykernel)",
   "language": "python",
   "name": "python3"
  },
  "language_info": {
   "codemirror_mode": {
    "name": "ipython",
    "version": 3
   },
   "file_extension": ".py",
   "mimetype": "text/x-python",
   "name": "python",
   "nbconvert_exporter": "python",
   "pygments_lexer": "ipython3",
   "version": "3.12.4"
  }
 },
 "nbformat": 4,
 "nbformat_minor": 5
}
